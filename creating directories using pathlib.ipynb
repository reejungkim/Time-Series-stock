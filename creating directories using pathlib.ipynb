{
 "cells": [
  {
   "cell_type": "code",
   "execution_count": 3,
   "metadata": {},
   "outputs": [
    {
     "data": {
      "text/plain": [
       "'C:\\\\Users\\\\reejung\\\\Documents\\\\GitHub\\\\Python'"
      ]
     },
     "execution_count": 3,
     "metadata": {},
     "output_type": "execute_result"
    }
   ],
   "source": [
    "import os\n",
    "os.getcwd()\n",
    "\n"
   ]
  },
  {
   "cell_type": "code",
   "execution_count": null,
   "metadata": {},
   "outputs": [],
   "source": [
    "\n",
    "#create directory using os.mkdir\n",
    "new_path = r'C:\\Users\\reejung\\Documents\\GitHub\\creating_folder_test'.replace(\"\\\\\", \"/\")\n",
    "os.mkdir( new_path)\n"
   ]
  },
  {
   "cell_type": "code",
   "execution_count": 4,
   "metadata": {},
   "outputs": [],
   "source": [
    "#create directory using pathlib.\n",
    "\n",
    "\n",
    "new_path_testing = r'C:\\Users\\reejung\\Documents\\GitHub\\creating_folder2\\2\\3'.replace('\\\\', '/')\n",
    "new_path_testing\n",
    "\n",
    "import pathlib\n",
    "pathlib.Path(new_path_testing).mkdir(parents=True, exist_ok=False)"
   ]
  },
  {
   "cell_type": "code",
   "execution_count": null,
   "metadata": {},
   "outputs": [],
   "source": []
  }
 ],
 "metadata": {
  "kernelspec": {
   "display_name": "Python 3",
   "language": "python",
   "name": "python3"
  }
 },
 "nbformat": 4,
 "nbformat_minor": 2
}
