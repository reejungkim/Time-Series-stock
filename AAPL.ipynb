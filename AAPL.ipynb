{
 "cells": [
  {
   "cell_type": "code",
   "execution_count": 1,
   "metadata": {},
   "outputs": [],
   "source": [
    "import pandas as pd\n",
    "import numpy as np\n",
    "import timeit\n",
    "import datetime as dt\n",
    "import matplotlib.pyplot as plt\n",
    "from matplotlib.backends.backend_pdf import PdfPages\n",
    "#import plotly.graph_objs as go\n",
    "%matplotlib inline"
   ]
  },
  {
   "cell_type": "code",
   "execution_count": 2,
   "metadata": {},
   "outputs": [
    {
     "name": "stderr",
     "output_type": "stream",
     "text": [
      "/Users/reejungkim/opt/anaconda3/envs/myenv/lib/python3.7/site-packages/pandas_datareader/compat/__init__.py:7: FutureWarning: pandas.util.testing is deprecated. Use the functions in the public API at pandas.testing instead.\n",
      "  from pandas.util.testing import assert_frame_equal\n"
     ]
    }
   ],
   "source": [
    "from pandas_datareader import data as pdr"
   ]
  },
  {
   "cell_type": "code",
   "execution_count": 3,
   "metadata": {},
   "outputs": [],
   "source": [
    "date_end = dt.datetime.today()\n",
    "date_start = date_end - dt.timedelta(1000)"
   ]
  },
  {
   "cell_type": "code",
   "execution_count": 4,
   "metadata": {},
   "outputs": [
    {
     "data": {
      "text/plain": [
       "(datetime.datetime(2020, 6, 26, 0, 57, 42, 799217),\n",
       " datetime.datetime(2017, 9, 30, 0, 57, 42, 799217))"
      ]
     },
     "execution_count": 4,
     "metadata": {},
     "output_type": "execute_result"
    }
   ],
   "source": [
    "date_end, date_start"
   ]
  },
  {
   "cell_type": "code",
   "execution_count": 5,
   "metadata": {},
   "outputs": [],
   "source": [
    "df = pdr.DataReader(\"AAPL\", 'yahoo', date_start, date_end).reset_index()"
   ]
  },
  {
   "cell_type": "code",
   "execution_count": 6,
   "metadata": {
    "scrolled": true
   },
   "outputs": [],
   "source": [
    "df = df.loc[df['Date'].notnull()]"
   ]
  },
  {
   "cell_type": "code",
   "execution_count": 7,
   "metadata": {},
   "outputs": [
    {
     "data": {
      "text/html": [
       "<div>\n",
       "<style scoped>\n",
       "    .dataframe tbody tr th:only-of-type {\n",
       "        vertical-align: middle;\n",
       "    }\n",
       "\n",
       "    .dataframe tbody tr th {\n",
       "        vertical-align: top;\n",
       "    }\n",
       "\n",
       "    .dataframe thead th {\n",
       "        text-align: right;\n",
       "    }\n",
       "</style>\n",
       "<table border=\"1\" class=\"dataframe\">\n",
       "  <thead>\n",
       "    <tr style=\"text-align: right;\">\n",
       "      <th></th>\n",
       "      <th>Date</th>\n",
       "      <th>High</th>\n",
       "      <th>Low</th>\n",
       "      <th>Open</th>\n",
       "      <th>Close</th>\n",
       "      <th>Volume</th>\n",
       "      <th>Adj Close</th>\n",
       "    </tr>\n",
       "  </thead>\n",
       "  <tbody>\n",
       "    <tr>\n",
       "      <th>0</th>\n",
       "      <td>2017-10-02</td>\n",
       "      <td>154.449997</td>\n",
       "      <td>152.720001</td>\n",
       "      <td>154.259995</td>\n",
       "      <td>153.809998</td>\n",
       "      <td>18698800.0</td>\n",
       "      <td>148.004257</td>\n",
       "    </tr>\n",
       "    <tr>\n",
       "      <th>1</th>\n",
       "      <td>2017-10-03</td>\n",
       "      <td>155.089996</td>\n",
       "      <td>153.910004</td>\n",
       "      <td>154.009995</td>\n",
       "      <td>154.479996</td>\n",
       "      <td>16230300.0</td>\n",
       "      <td>148.648956</td>\n",
       "    </tr>\n",
       "    <tr>\n",
       "      <th>2</th>\n",
       "      <td>2017-10-04</td>\n",
       "      <td>153.860001</td>\n",
       "      <td>152.460007</td>\n",
       "      <td>153.630005</td>\n",
       "      <td>153.479996</td>\n",
       "      <td>20163800.0</td>\n",
       "      <td>147.686707</td>\n",
       "    </tr>\n",
       "    <tr>\n",
       "      <th>3</th>\n",
       "      <td>2017-10-05</td>\n",
       "      <td>155.440002</td>\n",
       "      <td>154.050003</td>\n",
       "      <td>154.179993</td>\n",
       "      <td>155.389999</td>\n",
       "      <td>21283800.0</td>\n",
       "      <td>149.524597</td>\n",
       "    </tr>\n",
       "    <tr>\n",
       "      <th>4</th>\n",
       "      <td>2017-10-06</td>\n",
       "      <td>155.490005</td>\n",
       "      <td>154.559998</td>\n",
       "      <td>154.970001</td>\n",
       "      <td>155.300003</td>\n",
       "      <td>17407600.0</td>\n",
       "      <td>149.437988</td>\n",
       "    </tr>\n",
       "    <tr>\n",
       "      <th>...</th>\n",
       "      <td>...</td>\n",
       "      <td>...</td>\n",
       "      <td>...</td>\n",
       "      <td>...</td>\n",
       "      <td>...</td>\n",
       "      <td>...</td>\n",
       "      <td>...</td>\n",
       "    </tr>\n",
       "    <tr>\n",
       "      <th>683</th>\n",
       "      <td>2020-06-19</td>\n",
       "      <td>356.559998</td>\n",
       "      <td>345.149994</td>\n",
       "      <td>354.640015</td>\n",
       "      <td>349.720001</td>\n",
       "      <td>66119000.0</td>\n",
       "      <td>349.720001</td>\n",
       "    </tr>\n",
       "    <tr>\n",
       "      <th>684</th>\n",
       "      <td>2020-06-22</td>\n",
       "      <td>359.459991</td>\n",
       "      <td>351.149994</td>\n",
       "      <td>351.339996</td>\n",
       "      <td>358.869995</td>\n",
       "      <td>33861300.0</td>\n",
       "      <td>358.869995</td>\n",
       "    </tr>\n",
       "    <tr>\n",
       "      <th>685</th>\n",
       "      <td>2020-06-23</td>\n",
       "      <td>372.380005</td>\n",
       "      <td>362.269989</td>\n",
       "      <td>364.000000</td>\n",
       "      <td>366.529999</td>\n",
       "      <td>53038900.0</td>\n",
       "      <td>366.529999</td>\n",
       "    </tr>\n",
       "    <tr>\n",
       "      <th>686</th>\n",
       "      <td>2020-06-24</td>\n",
       "      <td>368.790009</td>\n",
       "      <td>358.519989</td>\n",
       "      <td>365.000000</td>\n",
       "      <td>360.059998</td>\n",
       "      <td>48081100.0</td>\n",
       "      <td>360.059998</td>\n",
       "    </tr>\n",
       "    <tr>\n",
       "      <th>687</th>\n",
       "      <td>2020-06-25</td>\n",
       "      <td>365.000000</td>\n",
       "      <td>357.570007</td>\n",
       "      <td>360.700012</td>\n",
       "      <td>364.839996</td>\n",
       "      <td>33707769.0</td>\n",
       "      <td>364.839996</td>\n",
       "    </tr>\n",
       "  </tbody>\n",
       "</table>\n",
       "<p>688 rows × 7 columns</p>\n",
       "</div>"
      ],
      "text/plain": [
       "          Date        High         Low        Open       Close      Volume  \\\n",
       "0   2017-10-02  154.449997  152.720001  154.259995  153.809998  18698800.0   \n",
       "1   2017-10-03  155.089996  153.910004  154.009995  154.479996  16230300.0   \n",
       "2   2017-10-04  153.860001  152.460007  153.630005  153.479996  20163800.0   \n",
       "3   2017-10-05  155.440002  154.050003  154.179993  155.389999  21283800.0   \n",
       "4   2017-10-06  155.490005  154.559998  154.970001  155.300003  17407600.0   \n",
       "..         ...         ...         ...         ...         ...         ...   \n",
       "683 2020-06-19  356.559998  345.149994  354.640015  349.720001  66119000.0   \n",
       "684 2020-06-22  359.459991  351.149994  351.339996  358.869995  33861300.0   \n",
       "685 2020-06-23  372.380005  362.269989  364.000000  366.529999  53038900.0   \n",
       "686 2020-06-24  368.790009  358.519989  365.000000  360.059998  48081100.0   \n",
       "687 2020-06-25  365.000000  357.570007  360.700012  364.839996  33707769.0   \n",
       "\n",
       "      Adj Close  \n",
       "0    148.004257  \n",
       "1    148.648956  \n",
       "2    147.686707  \n",
       "3    149.524597  \n",
       "4    149.437988  \n",
       "..          ...  \n",
       "683  349.720001  \n",
       "684  358.869995  \n",
       "685  366.529999  \n",
       "686  360.059998  \n",
       "687  364.839996  \n",
       "\n",
       "[688 rows x 7 columns]"
      ]
     },
     "execution_count": 7,
     "metadata": {},
     "output_type": "execute_result"
    }
   ],
   "source": [
    "df"
   ]
  },
  {
   "cell_type": "code",
   "execution_count": 8,
   "metadata": {},
   "outputs": [
    {
     "data": {
      "text/plain": [
       "Date         datetime64[ns]\n",
       "High                float64\n",
       "Low                 float64\n",
       "Open                float64\n",
       "Close               float64\n",
       "Volume              float64\n",
       "Adj Close           float64\n",
       "dtype: object"
      ]
     },
     "execution_count": 8,
     "metadata": {},
     "output_type": "execute_result"
    }
   ],
   "source": [
    "df.dtypes"
   ]
  },
  {
   "cell_type": "code",
   "execution_count": 9,
   "metadata": {},
   "outputs": [
    {
     "data": {
      "image/png": "[encoded data removed]",
      "text/plain": [
       "<Figure size 360x360 with 1 Axes>"
      ]
     },
     "metadata": {
      "needs_background": "light"
     },
     "output_type": "display_data"
    }
   ],
   "source": [
    "import matplotlib.pyplot as plt\n",
    "import seaborn as sns\n",
    "\n",
    "sns.relplot(x='Date', y='Close', kind='line', data=df).fig.autofmt_xdate()"
   ]
  },
  {
   "cell_type": "markdown",
   "metadata": {},
   "source": [
    "# preprocessing"
   ]
  },
  {
   "cell_type": "code",
   "execution_count": 10,
   "metadata": {},
   "outputs": [],
   "source": [
    "from sklearn import preprocessing\n",
    "from sklearn.preprocessing import MinMaxScaler\n",
    "\n",
    "#scaler = MinMaxScaler()\n",
    "scaler = MinMaxScaler(feature_range=(0, 1))\n",
    "le = preprocessing.LabelEncoder()"
   ]
  },
  {
   "cell_type": "code",
   "execution_count": 11,
   "metadata": {},
   "outputs": [],
   "source": [
    "df['Date encoded'] = le.fit_transform(df['Date'])"
   ]
  },
  {
   "cell_type": "code",
   "execution_count": 12,
   "metadata": {},
   "outputs": [],
   "source": [
    "scaled_Close = scaler.fit_transform(df[['Close']])"
   ]
  },
  {
   "cell_type": "code",
   "execution_count": 13,
   "metadata": {},
   "outputs": [],
   "source": [
    "scaled_Close = np.squeeze(scaled_Close)"
   ]
  },
  {
   "cell_type": "code",
   "execution_count": 14,
   "metadata": {},
   "outputs": [
    {
     "data": {
      "text/plain": [
       "array([600, 601, 602, 603, 604, 605, 606, 607, 608, 609, 610, 611, 612,\n",
       "       613, 614, 615, 616, 617, 618, 619, 620, 621, 622, 623, 624, 625,\n",
       "       626, 627, 628, 629, 630, 631, 632, 633, 634, 635, 636, 637, 638,\n",
       "       639, 640, 641, 642, 643, 644, 645, 646, 647, 648, 649, 650, 651,\n",
       "       652, 653, 654, 655, 656, 657, 658, 659, 660, 661, 662, 663, 664,\n",
       "       665, 666, 667, 668, 669, 670, 671, 672, 673, 674, 675, 676, 677,\n",
       "       678, 679, 680, 681, 682, 683, 684, 685, 686, 687], dtype=object)"
      ]
     },
     "execution_count": 14,
     "metadata": {},
     "output_type": "execute_result"
    }
   ],
   "source": [
    "df.values[600:, 7]"
   ]
  },
  {
   "cell_type": "code",
   "execution_count": 15,
   "metadata": {},
   "outputs": [],
   "source": [
    "x_train, y_train = df.values[:600, 7], scaled_Close[:600]\n",
    "x_test, y_test = df.values[600:, 7], scaled_Close[600:]"
   ]
  },
  {
   "cell_type": "markdown",
   "metadata": {},
   "source": [
    "x_train, y_train = df.values[:600, 0], scaled_Close[:600]\n",
    "x_test, y_test = df.values[600:, 0], scaled_Close[600:]"
   ]
  },
  {
   "cell_type": "markdown",
   "metadata": {},
   "source": [
    "# split train data"
   ]
  },
  {
   "cell_type": "code",
   "execution_count": 16,
   "metadata": {},
   "outputs": [],
   "source": [
    "from sklearn.model_selection import train_test_split\n",
    "\n",
    "x_train, x_valid, y_train, y_valid = train_test_split(x_train, y_train, test_size=.2)\n"
   ]
  },
  {
   "cell_type": "markdown",
   "metadata": {},
   "source": [
    "# Reshape data in order to apply LSTML"
   ]
  },
  {
   "cell_type": "code",
   "execution_count": 17,
   "metadata": {},
   "outputs": [
    {
     "data": {
      "text/plain": [
       "((480,), (480,), (88,), (88,))"
      ]
     },
     "execution_count": 17,
     "metadata": {},
     "output_type": "execute_result"
    }
   ],
   "source": [
    "x_train.shape, y_train.shape, x_test.shape, y_test.shape"
   ]
  },
  {
   "cell_type": "code",
   "execution_count": 19,
   "metadata": {},
   "outputs": [],
   "source": [
    "\n",
    "X_train_t = x_train.reshape(x_train.shape[0], 1, 1)\n",
    "X_test_t = x_test.reshape(x_test.shape[0], 1, 1)"
   ]
  },
  {
   "cell_type": "code",
   "execution_count": 20,
   "metadata": {},
   "outputs": [
    {
     "data": {
      "text/plain": [
       "((88, 1, 1), (480, 1, 1))"
      ]
     },
     "execution_count": 20,
     "metadata": {},
     "output_type": "execute_result"
    }
   ],
   "source": [
    "X_test_t.shape, X_train_t.shape"
   ]
  },
  {
   "cell_type": "markdown",
   "metadata": {},
   "source": [
    "## Keras"
   ]
  },
  {
   "cell_type": "code",
   "execution_count": null,
   "metadata": {},
   "outputs": [],
   "source": []
  },
  {
   "cell_type": "code",
   "execution_count": 120,
   "metadata": {
    "scrolled": true
   },
   "outputs": [
    {
     "name": "stdout",
     "output_type": "stream",
     "text": [
      "Model: \"sequential_9\"\n",
      "_________________________________________________________________\n",
      "Layer (type)                 Output Shape              Param #   \n",
      "=================================================================\n",
      "lstm_9 (LSTM)                (None, 30)                3840      \n",
      "_________________________________________________________________\n",
      "dense_9 (Dense)              (None, 1)                 31        \n",
      "=================================================================\n",
      "Total params: 3,871\n",
      "Trainable params: 3,871\n",
      "Non-trainable params: 0\n",
      "_________________________________________________________________\n",
      "Epoch 1/100\n",
      "480/480 [==============================] - 1s 3ms/step - loss: 2452.6730 - mape: 90367416.0000\n",
      "Epoch 2/100\n",
      "480/480 [==============================] - 0s 115us/step - loss: 1408.5150 - mape: 79402904.0000\n",
      "Epoch 3/100\n",
      "480/480 [==============================] - 0s 117us/step - loss: 317.6313 - mape: 20160684.0000\n",
      "Epoch 4/100\n",
      "480/480 [==============================] - 0s 124us/step - loss: 38.7481 - mape: 17148666.0000\n",
      "Epoch 5/100\n",
      "480/480 [==============================] - 0s 126us/step - loss: 7.3891 - mape: 5815326.5000\n",
      "Epoch 6/100\n",
      "480/480 [==============================] - 0s 116us/step - loss: 2.8087 - mape: 4475260.5000\n",
      "Epoch 7/100\n",
      "480/480 [==============================] - 0s 115us/step - loss: 1.2719 - mape: 2594294.5000\n",
      "Epoch 8/100\n",
      "480/480 [==============================] - 0s 115us/step - loss: 0.7077 - mape: 1691312.2500\n",
      "Epoch 9/100\n",
      "480/480 [==============================] - 0s 112us/step - loss: 0.4671 - mape: 1307822.7500\n",
      "Epoch 10/100\n",
      "480/480 [==============================] - 0s 114us/step - loss: 0.3292 - mape: 1100086.0000\n",
      "Epoch 11/100\n",
      "480/480 [==============================] - 0s 109us/step - loss: 0.2413 - mape: 994873.6250\n",
      "Epoch 12/100\n",
      "480/480 [==============================] - 0s 114us/step - loss: 0.1897 - mape: 604110.3125\n",
      "Epoch 13/100\n",
      "480/480 [==============================] - 0s 114us/step - loss: 0.1549 - mape: 754147.5625\n",
      "Epoch 14/100\n",
      "480/480 [==============================] - 0s 109us/step - loss: 0.1201 - mape: 563551.1250\n",
      "Epoch 15/100\n",
      "480/480 [==============================] - 0s 114us/step - loss: 0.0899 - mape: 266811.6875\n",
      "Epoch 16/100\n",
      "480/480 [==============================] - 0s 110us/step - loss: 0.0721 - mape: 307353.7188\n",
      "Epoch 17/100\n",
      "480/480 [==============================] - 0s 109us/step - loss: 0.0656 - mape: 214486.1875\n",
      "Epoch 18/100\n",
      "480/480 [==============================] - 0s 112us/step - loss: 0.0553 - mape: 266913.8125\n",
      "Epoch 19/100\n",
      "480/480 [==============================] - 0s 113us/step - loss: 0.0481 - mape: 7111.5425\n",
      "Epoch 20/100\n",
      "480/480 [==============================] - 0s 112us/step - loss: 0.0417 - mape: 37064.9492\n",
      "Epoch 21/100\n",
      "480/480 [==============================] - 0s 110us/step - loss: 0.0363 - mape: 6087.0337\n",
      "Epoch 22/100\n",
      "480/480 [==============================] - 0s 121us/step - loss: 0.0304 - mape: 40128.7695\n",
      "Epoch 23/100\n",
      "480/480 [==============================] - 0s 109us/step - loss: 0.0246 - mape: 116248.9922\n",
      "Epoch 24/100\n",
      "480/480 [==============================] - 0s 111us/step - loss: 0.0191 - mape: 147710.4062\n",
      "Epoch 25/100\n",
      "480/480 [==============================] - 0s 123us/step - loss: 0.0169 - mape: 159786.9688\n",
      "Epoch 26/100\n",
      "480/480 [==============================] - 0s 118us/step - loss: 0.0152 - mape: 213582.8906\n",
      "Epoch 27/100\n",
      "480/480 [==============================] - 0s 128us/step - loss: 0.0137 - mape: 231002.7500\n",
      "Epoch 28/100\n",
      "480/480 [==============================] - 0s 125us/step - loss: 0.0128 - mape: 273048.7812\n",
      "Epoch 29/100\n",
      "480/480 [==============================] - 0s 117us/step - loss: 0.0120 - mape: 273850.1875\n",
      "Epoch 30/100\n",
      "480/480 [==============================] - 0s 125us/step - loss: 0.0117 - mape: 280943.7188\n",
      "Epoch 31/100\n",
      "480/480 [==============================] - 0s 112us/step - loss: 0.0115 - mape: 324787.0625\n",
      "Epoch 32/100\n",
      "480/480 [==============================] - 0s 116us/step - loss: 0.0114 - mape: 310206.6875\n",
      "Epoch 33/100\n",
      "480/480 [==============================] - 0s 110us/step - loss: 0.0110 - mape: 354208.1250\n",
      "Epoch 34/100\n",
      "480/480 [==============================] - 0s 114us/step - loss: 0.0111 - mape: 314668.9688\n",
      "Epoch 35/100\n",
      "480/480 [==============================] - 0s 114us/step - loss: 0.0108 - mape: 326371.8438\n",
      "Epoch 36/100\n",
      "480/480 [==============================] - 0s 114us/step - loss: 0.0109 - mape: 296485.9375\n",
      "Epoch 37/100\n",
      "480/480 [==============================] - 0s 129us/step - loss: 0.0121 - mape: 333972.7188\n",
      "Epoch 38/100\n",
      "480/480 [==============================] - 0s 117us/step - loss: 0.0130 - mape: 379723.1562\n",
      "Epoch 39/100\n",
      "480/480 [==============================] - 0s 123us/step - loss: 0.0111 - mape: 389783.3750\n",
      "Epoch 40/100\n",
      "480/480 [==============================] - 0s 118us/step - loss: 0.0107 - mape: 369594.4688\n",
      "Epoch 41/100\n",
      "480/480 [==============================] - 0s 118us/step - loss: 0.0105 - mape: 371787.5000\n",
      "Epoch 42/100\n",
      "480/480 [==============================] - 0s 111us/step - loss: 0.0110 - mape: 276217.3125\n",
      "Epoch 43/100\n",
      "480/480 [==============================] - 0s 122us/step - loss: 0.0114 - mape: 377609.9062\n",
      "Epoch 44/100\n",
      "480/480 [==============================] - 0s 109us/step - loss: 0.0102 - mape: 354016.3438\n",
      "Epoch 45/100\n",
      "480/480 [==============================] - 0s 122us/step - loss: 0.0107 - mape: 345953.3125\n",
      "Epoch 46/100\n",
      "480/480 [==============================] - 0s 123us/step - loss: 0.0127 - mape: 396850.7188\n",
      "Epoch 47/100\n",
      "480/480 [==============================] - 0s 130us/step - loss: 0.0103 - mape: 343217.5312\n",
      "Epoch 48/100\n",
      "480/480 [==============================] - 0s 130us/step - loss: 0.0115 - mape: 411051.8125\n",
      "Epoch 49/100\n",
      "480/480 [==============================] - 0s 122us/step - loss: 0.0108 - mape: 381854.8438\n"
     ]
    }
   ],
   "source": [
    "from keras.models import Sequential\n",
    "from keras.layers import Dense\n",
    "\n",
    "from keras.layers.core import Dense, Activation, Dropout\n",
    "from keras.layers.recurrent import LSTM\n",
    "import keras.backend as K \n",
    "from keras.callbacks import EarlyStopping\n",
    "#import lstm, time\n",
    "\n",
    "model = Sequential()\n",
    "\n",
    "#model.add(Dense(50, activation='sigmoid', input_shape=(1,)))\n",
    "#model.add(LSTM(30, activation='sigmoid', input_shape=(None,1)))\n",
    "model.add(LSTM(30, activation='relu', input_shape=(None,1))) #rectified linear unit\n",
    "model.add(Dense(1)) #, activation='linear'))\n",
    "\n",
    "model.summary()\n",
    "\n",
    "model.compile(optimizer='adam', loss='mse', metrics=['mape']) \n",
    "#optimizer = 'adgrad', 'adam', 'sgd'\n",
    "#sgd - stochastic gradient descent\n",
    "#mse - mean square error\n",
    "#mape - mean absolute percentage error\n",
    "\n",
    "#history = model.fit(x_train, y_train, batch_size=10, epochs=200, validation_data=(x_valid, y_valid))\n",
    "\n",
    "early_stop = EarlyStopping(monitor='loss', patience=5, verbose=0)\n",
    "\n",
    "history = model.fit(X_train_t, y_train, epochs=100, batch_size=30, verbose=1, callbacks=[early_stop])"
   ]
  },
  {
   "cell_type": "code",
   "execution_count": 121,
   "metadata": {},
   "outputs": [
    {
     "data": {
      "image/png": "[encoded data removed]",
      "text/plain": [
       "<Figure size 432x288 with 1 Axes>"
      ]
     },
     "metadata": {
      "needs_background": "light"
     },
     "output_type": "display_data"
    }
   ],
   "source": [
    "for name, value in history.history.items():\n",
    "    plt.plot(value, label=name)\n",
    "plt.legend()\n",
    "plt.show()"
   ]
  },
  {
   "cell_type": "code",
   "execution_count": 122,
   "metadata": {},
   "outputs": [
    {
     "name": "stdout",
     "output_type": "stream",
     "text": [
      "88/88 [==============================] - 0s 3ms/step\n"
     ]
    }
   ],
   "source": [
    "## evaluate model\n",
    "\n",
    "#results = model.evaluate(x_test, y_test)\n",
    "\n",
    "results = model.evaluate(X_test_t, y_test)\n",
    "#print('Loss: {:.6f} - MAPE: {:.6f}'.format(*results))"
   ]
  },
  {
   "cell_type": "markdown",
   "metadata": {},
   "source": [
    "trainScore = model.evaluate(x_train, y_train, verbose=0)\n",
    "model.reset_states()\n",
    "print('Train Score: ', trainScore)\n",
    "valScore = model.evaluate(x_test, y_test, verbose=0)\n",
    "model.reset_states()\n",
    "print('Validataion Score: ', valScore)\n",
    "testScore = model.evaluate(x_test, y_test, verbose=0)\n",
    "model.reset_states()\n",
    "print('Test Score: ', testScore)"
   ]
  },
  {
   "cell_type": "code",
   "execution_count": 118,
   "metadata": {},
   "outputs": [
    {
     "name": "stdout",
     "output_type": "stream",
     "text": [
      "Train Score:  [0.019377578049898148, 608919.6875]\n",
      "Validataion Score:  [0.10248293388973582, 38.50205993652344]\n",
      "Test Score:  [0.10248293388973582, 38.50205993652344]\n"
     ]
    }
   ],
   "source": [
    "trainScore = model.evaluate(X_train_t, y_train, verbose=0)\n",
    "model.reset_states()\n",
    "print('Train Score: ', trainScore)\n",
    "valScore = model.evaluate(X_test_t, y_test, verbose=0)\n",
    "model.reset_states()\n",
    "print('Validataion Score: ', valScore)\n",
    "testScore = model.evaluate(X_test_t, y_test, verbose=0)\n",
    "model.reset_states()\n",
    "print('Test Score: ', testScore)"
   ]
  },
  {
   "cell_type": "code",
   "execution_count": 124,
   "metadata": {},
   "outputs": [
    {
     "data": {
      "image/png": "[encoded data removed]",
      "text/plain": [
       "<Figure size 720x360 with 1 Axes>"
      ]
     },
     "metadata": {
      "needs_background": "light"
     },
     "output_type": "display_data"
    }
   ],
   "source": [
    "test_pred = model.predict(X_test_t)\n",
    "train_pred = model.predict(X_train_t)\n",
    "#train_pred = np.squeeze(train_pred)\n",
    "\n",
    "plt.figure(figsize=(10, 5))\n",
    "plt.plot(x_train, y_train, '.y', x_test, y_test, '.r',x_train, train_pred, '.b', x_test, test_pred, '.b')\n",
    "plt.show()"
   ]
  },
  {
   "cell_type": "code",
   "execution_count": 125,
   "metadata": {},
   "outputs": [
    {
     "data": {
      "text/plain": [
       "[<matplotlib.lines.Line2D at 0x7f98a9b92250>]"
      ]
     },
     "execution_count": 125,
     "metadata": {},
     "output_type": "execute_result"
    },
    {
     "data": {
      "image/png": "[encoded data removed]",
      "text/plain": [
       "<Figure size 432x288 with 1 Axes>"
      ]
     },
     "metadata": {
      "needs_background": "light"
     },
     "output_type": "display_data"
    }
   ],
   "source": [
    "plt.figure()\n",
    "plt.plot(test_pred)"
   ]
  },
  {
   "cell_type": "markdown",
   "metadata": {
    "scrolled": true
   },
   "source": [
    "for pred, true in zip(test_pred, y_test):\n",
    "    print('Pred: {:.6f} - True: {:.6f}'.format(pred,true))"
   ]
  },
  {
   "cell_type": "code",
   "execution_count": null,
   "metadata": {},
   "outputs": [],
   "source": []
  },
  {
   "cell_type": "markdown",
   "metadata": {},
   "source": [
    "Save model"
   ]
  },
  {
   "cell_type": "code",
   "execution_count": 129,
   "metadata": {},
   "outputs": [],
   "source": [
    "model_path = 'model.lstm_relu'\n",
    "model.save(model_path)\n",
    "\n",
    "from keras.models import load_model\n",
    "\n",
    "loaded_model = load_model(model_path)"
   ]
  },
  {
   "cell_type": "code",
   "execution_count": 130,
   "metadata": {
    "scrolled": true
   },
   "outputs": [
    {
     "name": "stdout",
     "output_type": "stream",
     "text": [
      "Model: \"sequential_9\"\n",
      "_________________________________________________________________\n",
      "Layer (type)                 Output Shape              Param #   \n",
      "=================================================================\n",
      "lstm_9 (LSTM)                (None, 30)                3840      \n",
      "_________________________________________________________________\n",
      "dense_9 (Dense)              (None, 1)                 31        \n",
      "=================================================================\n",
      "Total params: 3,871\n",
      "Trainable params: 3,871\n",
      "Non-trainable params: 0\n",
      "_________________________________________________________________\n"
     ]
    }
   ],
   "source": [
    "loaded_model.summary()"
   ]
  },
  {
   "cell_type": "code",
   "execution_count": null,
   "metadata": {},
   "outputs": [],
   "source": []
  }
 ],
 "metadata": {
  "kernelspec": {
   "display_name": "Python 3",
   "language": "python",
   "name": "python3"
  },
  "language_info": {
   "codemirror_mode": {
    "name": "ipython",
    "version": 3
   },
   "file_extension": ".py",
   "mimetype": "text/x-python",
   "name": "python",
   "nbconvert_exporter": "python",
   "pygments_lexer": "ipython3",
   "version": "3.7.7"
  }
 },
 "nbformat": 4,
 "nbformat_minor": 4
}
