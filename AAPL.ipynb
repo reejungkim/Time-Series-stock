{
 "cells": [
  {
   "cell_type": "code",
   "execution_count": 1,
   "metadata": {},
   "outputs": [],
   "source": [
    "import pandas as pd\n",
    "import numpy as np\n",
    "import timeit\n",
    "import datetime as dt\n",
    "import matplotlib.pyplot as plt\n",
    "from matplotlib.backends.backend_pdf import PdfPages\n",
    "#import plotly.graph_objs as go\n",
    "%matplotlib inline"
   ]
  },
  {
   "cell_type": "code",
   "execution_count": 2,
   "metadata": {},
   "outputs": [],
   "source": [
    "from pandas_datareader import data as pdr"
   ]
  },
  {
   "cell_type": "code",
   "execution_count": 3,
   "metadata": {},
   "outputs": [],
   "source": [
    "days_to_extract = 1000\n",
    "days_to_forecast = 20"
   ]
  },
  {
   "cell_type": "code",
   "execution_count": 4,
   "metadata": {},
   "outputs": [],
   "source": [
    "date_end = dt.date.today()\n",
    "date_start = date_end - dt.timedelta(days_to_extract)"
   ]
  },
  {
   "cell_type": "code",
   "execution_count": 5,
   "metadata": {},
   "outputs": [
    {
     "data": {
      "text/plain": [
       "(datetime.date(2020, 11, 8), datetime.date(2018, 2, 12))"
      ]
     },
     "execution_count": 5,
     "metadata": {},
     "output_type": "execute_result"
    }
   ],
   "source": [
    "date_end, date_start"
   ]
  },
  {
   "cell_type": "code",
   "execution_count": null,
   "metadata": {},
   "outputs": [],
   "source": []
  },
  {
   "cell_type": "code",
   "execution_count": 6,
   "metadata": {},
   "outputs": [],
   "source": [
    "df = pdr.DataReader(\"AAPL\", 'yahoo', date_start, date_end).reset_index()"
   ]
  },
  {
   "cell_type": "code",
   "execution_count": 7,
   "metadata": {
    "scrolled": true
   },
   "outputs": [],
   "source": [
    "df = df.loc[df['Date'].notnull()]"
   ]
  },
  {
   "cell_type": "code",
   "execution_count": 8,
   "metadata": {},
   "outputs": [
    {
     "data": {
      "text/html": [
       "<div>\n",
       "<style scoped>\n",
       "    .dataframe tbody tr th:only-of-type {\n",
       "        vertical-align: middle;\n",
       "    }\n",
       "\n",
       "    .dataframe tbody tr th {\n",
       "        vertical-align: top;\n",
       "    }\n",
       "\n",
       "    .dataframe thead th {\n",
       "        text-align: right;\n",
       "    }\n",
       "</style>\n",
       "<table border=\"1\" class=\"dataframe\">\n",
       "  <thead>\n",
       "    <tr style=\"text-align: right;\">\n",
       "      <th></th>\n",
       "      <th>Date</th>\n",
       "      <th>High</th>\n",
       "      <th>Low</th>\n",
       "      <th>Open</th>\n",
       "      <th>Close</th>\n",
       "      <th>Volume</th>\n",
       "      <th>Adj Close</th>\n",
       "    </tr>\n",
       "  </thead>\n",
       "  <tbody>\n",
       "    <tr>\n",
       "      <th>0</th>\n",
       "      <td>2018-02-12</td>\n",
       "      <td>40.972500</td>\n",
       "      <td>39.377499</td>\n",
       "      <td>39.625000</td>\n",
       "      <td>40.677502</td>\n",
       "      <td>243278000.0</td>\n",
       "      <td>38.984966</td>\n",
       "    </tr>\n",
       "    <tr>\n",
       "      <th>1</th>\n",
       "      <td>2018-02-13</td>\n",
       "      <td>41.187500</td>\n",
       "      <td>40.412498</td>\n",
       "      <td>40.487499</td>\n",
       "      <td>41.084999</td>\n",
       "      <td>130196800.0</td>\n",
       "      <td>39.375507</td>\n",
       "    </tr>\n",
       "    <tr>\n",
       "      <th>2</th>\n",
       "      <td>2018-02-14</td>\n",
       "      <td>41.884998</td>\n",
       "      <td>40.720001</td>\n",
       "      <td>40.759998</td>\n",
       "      <td>41.842499</td>\n",
       "      <td>162579600.0</td>\n",
       "      <td>40.101486</td>\n",
       "    </tr>\n",
       "    <tr>\n",
       "      <th>3</th>\n",
       "      <td>2018-02-15</td>\n",
       "      <td>43.272499</td>\n",
       "      <td>42.250000</td>\n",
       "      <td>42.447498</td>\n",
       "      <td>43.247501</td>\n",
       "      <td>204588800.0</td>\n",
       "      <td>41.448032</td>\n",
       "    </tr>\n",
       "    <tr>\n",
       "      <th>4</th>\n",
       "      <td>2018-02-16</td>\n",
       "      <td>43.705002</td>\n",
       "      <td>42.942501</td>\n",
       "      <td>43.090000</td>\n",
       "      <td>43.107498</td>\n",
       "      <td>160704400.0</td>\n",
       "      <td>41.313858</td>\n",
       "    </tr>\n",
       "    <tr>\n",
       "      <th>...</th>\n",
       "      <td>...</td>\n",
       "      <td>...</td>\n",
       "      <td>...</td>\n",
       "      <td>...</td>\n",
       "      <td>...</td>\n",
       "      <td>...</td>\n",
       "      <td>...</td>\n",
       "    </tr>\n",
       "    <tr>\n",
       "      <th>686</th>\n",
       "      <td>2020-11-02</td>\n",
       "      <td>110.680000</td>\n",
       "      <td>107.320000</td>\n",
       "      <td>109.110001</td>\n",
       "      <td>108.769997</td>\n",
       "      <td>122866900.0</td>\n",
       "      <td>108.582664</td>\n",
       "    </tr>\n",
       "    <tr>\n",
       "      <th>687</th>\n",
       "      <td>2020-11-03</td>\n",
       "      <td>111.489998</td>\n",
       "      <td>108.730003</td>\n",
       "      <td>109.660004</td>\n",
       "      <td>110.440002</td>\n",
       "      <td>107624400.0</td>\n",
       "      <td>110.249794</td>\n",
       "    </tr>\n",
       "    <tr>\n",
       "      <th>688</th>\n",
       "      <td>2020-11-04</td>\n",
       "      <td>115.589996</td>\n",
       "      <td>112.349998</td>\n",
       "      <td>114.139999</td>\n",
       "      <td>114.949997</td>\n",
       "      <td>138235500.0</td>\n",
       "      <td>114.752022</td>\n",
       "    </tr>\n",
       "    <tr>\n",
       "      <th>689</th>\n",
       "      <td>2020-11-05</td>\n",
       "      <td>119.620003</td>\n",
       "      <td>116.870003</td>\n",
       "      <td>117.949997</td>\n",
       "      <td>119.029999</td>\n",
       "      <td>126387100.0</td>\n",
       "      <td>118.824997</td>\n",
       "    </tr>\n",
       "    <tr>\n",
       "      <th>690</th>\n",
       "      <td>2020-11-06</td>\n",
       "      <td>119.199997</td>\n",
       "      <td>116.129997</td>\n",
       "      <td>118.320000</td>\n",
       "      <td>118.690002</td>\n",
       "      <td>114283600.0</td>\n",
       "      <td>118.690002</td>\n",
       "    </tr>\n",
       "  </tbody>\n",
       "</table>\n",
       "<p>691 rows × 7 columns</p>\n",
       "</div>"
      ],
      "text/plain": [
       "          Date        High         Low        Open       Close       Volume  \\\n",
       "0   2018-02-12   40.972500   39.377499   39.625000   40.677502  243278000.0   \n",
       "1   2018-02-13   41.187500   40.412498   40.487499   41.084999  130196800.0   \n",
       "2   2018-02-14   41.884998   40.720001   40.759998   41.842499  162579600.0   \n",
       "3   2018-02-15   43.272499   42.250000   42.447498   43.247501  204588800.0   \n",
       "4   2018-02-16   43.705002   42.942501   43.090000   43.107498  160704400.0   \n",
       "..         ...         ...         ...         ...         ...          ...   \n",
       "686 2020-11-02  110.680000  107.320000  109.110001  108.769997  122866900.0   \n",
       "687 2020-11-03  111.489998  108.730003  109.660004  110.440002  107624400.0   \n",
       "688 2020-11-04  115.589996  112.349998  114.139999  114.949997  138235500.0   \n",
       "689 2020-11-05  119.620003  116.870003  117.949997  119.029999  126387100.0   \n",
       "690 2020-11-06  119.199997  116.129997  118.320000  118.690002  114283600.0   \n",
       "\n",
       "      Adj Close  \n",
       "0     38.984966  \n",
       "1     39.375507  \n",
       "2     40.101486  \n",
       "3     41.448032  \n",
       "4     41.313858  \n",
       "..          ...  \n",
       "686  108.582664  \n",
       "687  110.249794  \n",
       "688  114.752022  \n",
       "689  118.824997  \n",
       "690  118.690002  \n",
       "\n",
       "[691 rows x 7 columns]"
      ]
     },
     "execution_count": 8,
     "metadata": {},
     "output_type": "execute_result"
    }
   ],
   "source": [
    "df"
   ]
  },
  {
   "cell_type": "code",
   "execution_count": 9,
   "metadata": {},
   "outputs": [
    {
     "data": {
      "text/plain": [
       "Date         datetime64[ns]\n",
       "High                float64\n",
       "Low                 float64\n",
       "Open                float64\n",
       "Close               float64\n",
       "Volume              float64\n",
       "Adj Close           float64\n",
       "dtype: object"
      ]
     },
     "execution_count": 9,
     "metadata": {},
     "output_type": "execute_result"
    }
   ],
   "source": [
    "df.dtypes"
   ]
  },
  {
   "cell_type": "code",
   "execution_count": 10,
   "metadata": {},
   "outputs": [
    {
     "data": {
      "image/png": "[encoded data removed]",
      "text/plain": [
       "<Figure size 360x360 with 1 Axes>"
      ]
     },
     "metadata": {
      "needs_background": "light"
     },
     "output_type": "display_data"
    }
   ],
   "source": [
    "import matplotlib.pyplot as plt\n",
    "import seaborn as sns\n",
    "\n",
    "sns.relplot(x='Date', y='Close', kind='line', data=df).fig.autofmt_xdate()"
   ]
  },
  {
   "cell_type": "markdown",
   "metadata": {},
   "source": [
    "# preprocessing"
   ]
  },
  {
   "cell_type": "code",
   "execution_count": 11,
   "metadata": {},
   "outputs": [],
   "source": [
    "from sklearn import preprocessing\n",
    "from sklearn.preprocessing import MinMaxScaler\n",
    "\n",
    "#scaler = MinMaxScaler()\n",
    "scaler = MinMaxScaler(feature_range=(0, 1))\n",
    "le = preprocessing.LabelEncoder()"
   ]
  },
  {
   "cell_type": "code",
   "execution_count": 12,
   "metadata": {},
   "outputs": [],
   "source": [
    "df['Date encoded'] = le.fit_transform(df['Date'])"
   ]
  },
  {
   "cell_type": "code",
   "execution_count": 13,
   "metadata": {},
   "outputs": [],
   "source": [
    "days_cutoff = len(df) - days_to_forecast"
   ]
  },
  {
   "cell_type": "code",
   "execution_count": 14,
   "metadata": {},
   "outputs": [],
   "source": [
    "scaled_Close = scaler.fit_transform(df[['Close']])"
   ]
  },
  {
   "cell_type": "code",
   "execution_count": 15,
   "metadata": {},
   "outputs": [],
   "source": [
    "scaled_Close = np.squeeze(scaled_Close)"
   ]
  },
  {
   "cell_type": "code",
   "execution_count": 16,
   "metadata": {},
   "outputs": [
    {
     "data": {
      "text/plain": [
       "array([671, 672, 673, 674, 675, 676, 677, 678, 679, 680, 681, 682, 683,\n",
       "       684, 685, 686, 687, 688, 689, 690], dtype=object)"
      ]
     },
     "execution_count": 16,
     "metadata": {},
     "output_type": "execute_result"
    }
   ],
   "source": [
    "df.values[days_cutoff:, 7]"
   ]
  },
  {
   "cell_type": "code",
   "execution_count": 17,
   "metadata": {},
   "outputs": [],
   "source": [
    "x_train, y_train = df.values[:days_cutoff, 7], scaled_Close[:days_cutoff]\n",
    "x_test, y_test = df.values[days_cutoff:, 7], scaled_Close[days_cutoff:]"
   ]
  },
  {
   "cell_type": "markdown",
   "metadata": {},
   "source": [
    "x_train, y_train = df.values[:600, 0], scaled_Close[:600]\n",
    "x_test, y_test = df.values[600:, 0], scaled_Close[600:]"
   ]
  },
  {
   "cell_type": "code",
   "execution_count": 18,
   "metadata": {},
   "outputs": [
    {
     "data": {
      "text/plain": [
       "((671,), (20,))"
      ]
     },
     "execution_count": 18,
     "metadata": {},
     "output_type": "execute_result"
    }
   ],
   "source": [
    "x_train.shape, x_test.shape"
   ]
  },
  {
   "cell_type": "markdown",
   "metadata": {},
   "source": [
    "# split train data"
   ]
  },
  {
   "cell_type": "code",
   "execution_count": 19,
   "metadata": {},
   "outputs": [],
   "source": [
    "from sklearn.model_selection import train_test_split\n",
    "\n",
    "x_train, x_valid, y_train, y_valid = train_test_split(x_train, y_train, test_size=.2)\n"
   ]
  },
  {
   "cell_type": "markdown",
   "metadata": {},
   "source": [
    "# Reshape data in order to apply LSTML"
   ]
  },
  {
   "cell_type": "code",
   "execution_count": 20,
   "metadata": {},
   "outputs": [
    {
     "data": {
      "text/plain": [
       "((536,), (536,), (20,), (20,))"
      ]
     },
     "execution_count": 20,
     "metadata": {},
     "output_type": "execute_result"
    }
   ],
   "source": [
    "x_train.shape, y_train.shape, x_test.shape, y_test.shape"
   ]
  },
  {
   "cell_type": "code",
   "execution_count": 21,
   "metadata": {},
   "outputs": [],
   "source": [
    "\n",
    "X_train_t = x_train.reshape(x_train.shape[0], 1, 1)\n",
    "X_test_t = x_test.reshape(x_test.shape[0], 1, 1)"
   ]
  },
  {
   "cell_type": "code",
   "execution_count": 22,
   "metadata": {},
   "outputs": [
    {
     "data": {
      "text/plain": [
       "((20, 1, 1), (536, 1, 1))"
      ]
     },
     "execution_count": 22,
     "metadata": {},
     "output_type": "execute_result"
    }
   ],
   "source": [
    "X_test_t.shape, X_train_t.shape"
   ]
  },
  {
   "cell_type": "markdown",
   "metadata": {},
   "source": [
    "## Keras"
   ]
  },
  {
   "cell_type": "code",
   "execution_count": null,
   "metadata": {},
   "outputs": [],
   "source": []
  },
  {
   "cell_type": "code",
   "execution_count": 23,
   "metadata": {
    "scrolled": true
   },
   "outputs": [
    {
     "name": "stderr",
     "output_type": "stream",
     "text": [
      "Using TensorFlow backend.\n"
     ]
    },
    {
     "name": "stdout",
     "output_type": "stream",
     "text": [
      "Model: \"sequential_1\"\n",
      "_________________________________________________________________\n",
      "Layer (type)                 Output Shape              Param #   \n",
      "=================================================================\n",
      "lstm_1 (LSTM)                (None, 30)                3840      \n",
      "_________________________________________________________________\n",
      "dense_1 (Dense)              (None, 1)                 31        \n",
      "=================================================================\n",
      "Total params: 3,871\n",
      "Trainable params: 3,871\n",
      "Non-trainable params: 0\n",
      "_________________________________________________________________\n",
      "WARNING:tensorflow:From /Users/reejungkim/opt/anaconda3/envs/myenv/lib/python3.7/site-packages/keras/backend/tensorflow_backend.py:422: The name tf.global_variables is deprecated. Please use tf.compat.v1.global_variables instead.\n",
      "\n",
      "Epoch 1/100\n",
      "536/536 [==============================] - 0s 593us/step - loss: 109.7947 - mape: 8033377.5000\n",
      "Epoch 2/100\n",
      "536/536 [==============================] - 0s 55us/step - loss: 11.4476 - mape: 3804643.7500\n",
      "Epoch 3/100\n",
      "536/536 [==============================] - 0s 51us/step - loss: 3.2710 - mape: 1473725.8750\n",
      "Epoch 4/100\n",
      "536/536 [==============================] - 0s 56us/step - loss: 1.5973 - mape: 2506023.0000\n",
      "Epoch 5/100\n",
      "536/536 [==============================] - 0s 58us/step - loss: 1.1376 - mape: 2518535.0000\n",
      "Epoch 6/100\n",
      "536/536 [==============================] - 0s 51us/step - loss: 0.3811 - mape: 1952437.6250\n",
      "Epoch 7/100\n",
      "536/536 [==============================] - 0s 49us/step - loss: 0.1452 - mape: 625390.0625\n",
      "Epoch 8/100\n",
      "536/536 [==============================] - 0s 51us/step - loss: 0.0604 - mape: 33171.1328\n",
      "Epoch 9/100\n",
      "536/536 [==============================] - 0s 47us/step - loss: 0.0312 - mape: 42069.0391\n",
      "Epoch 10/100\n",
      "536/536 [==============================] - 0s 54us/step - loss: 0.0241 - mape: 2802.7148\n",
      "Epoch 11/100\n",
      "536/536 [==============================] - 0s 57us/step - loss: 0.0202 - mape: 81510.5625\n",
      "Epoch 12/100\n",
      "536/536 [==============================] - 0s 51us/step - loss: 0.0145 - mape: 63870.2930\n",
      "Epoch 13/100\n",
      "536/536 [==============================] - 0s 50us/step - loss: 0.0113 - mape: 47897.1367\n",
      "Epoch 14/100\n",
      "536/536 [==============================] - 0s 49us/step - loss: 0.0092 - mape: 45734.5977\n",
      "Epoch 15/100\n",
      "536/536 [==============================] - 0s 47us/step - loss: 0.0101 - mape: 42399.7773\n",
      "Epoch 16/100\n",
      "536/536 [==============================] - 0s 49us/step - loss: 0.0073 - mape: 48679.0352\n",
      "Epoch 17/100\n",
      "536/536 [==============================] - 0s 55us/step - loss: 0.0064 - mape: 95417.1172\n",
      "Epoch 18/100\n",
      "536/536 [==============================] - 0s 54us/step - loss: 0.0055 - mape: 95872.3906\n",
      "Epoch 19/100\n",
      "536/536 [==============================] - ETA: 0s - loss: 0.0042 - mape: 37.266 - 0s 54us/step - loss: 0.0060 - mape: 103823.6484\n",
      "Epoch 20/100\n",
      "536/536 [==============================] - 0s 48us/step - loss: 0.0088 - mape: 94847.8047\n",
      "Epoch 21/100\n",
      "536/536 [==============================] - 0s 54us/step - loss: 0.0071 - mape: 144166.3125\n",
      "Epoch 22/100\n",
      "536/536 [==============================] - 0s 50us/step - loss: 0.0052 - mape: 111451.9219\n",
      "Epoch 23/100\n",
      "536/536 [==============================] - 0s 51us/step - loss: 0.0054 - mape: 135037.0781\n",
      "Epoch 24/100\n",
      "536/536 [==============================] - 0s 50us/step - loss: 0.0046 - mape: 138043.5000\n",
      "Epoch 25/100\n",
      "536/536 [==============================] - 0s 62us/step - loss: 0.0057 - mape: 160139.4688\n",
      "Epoch 26/100\n",
      "536/536 [==============================] - 0s 60us/step - loss: 0.0065 - mape: 126937.0859\n",
      "Epoch 27/100\n",
      "536/536 [==============================] - 0s 55us/step - loss: 0.0079 - mape: 136764.7188\n",
      "Epoch 28/100\n",
      "536/536 [==============================] - 0s 52us/step - loss: 0.0081 - mape: 174368.1875\n",
      "Epoch 29/100\n",
      "536/536 [==============================] - 0s 52us/step - loss: 0.0076 - mape: 150346.5625\n"
     ]
    }
   ],
   "source": [
    "from keras.models import Sequential\n",
    "from keras.layers import Dense\n",
    "\n",
    "from keras.layers.core import Dense, Activation, Dropout\n",
    "from keras.layers.recurrent import LSTM\n",
    "import keras.backend as K \n",
    "from keras.callbacks import EarlyStopping\n",
    "#import lstm, time\n",
    "\n",
    "model = Sequential()\n",
    "\n",
    "#model.add(Dense(50, activation='sigmoid', input_shape=(1,)))\n",
    "#model.add(LSTM(30, activation='sigmoid', input_shape=(None,1)))\n",
    "model.add(LSTM(30, activation='relu', input_shape=(None,1))) #rectified linear unit\n",
    "model.add(Dense(1)) #, activation='linear'))\n",
    "\n",
    "model.summary()\n",
    "\n",
    "model.compile(optimizer='adam', loss='mse', metrics=['mape']) \n",
    "#optimizer = 'adgrad', 'adam', 'sgd'\n",
    "#sgd - stochastic gradient descent\n",
    "#mse - mean square error\n",
    "#mape - mean absolute percentage error\n",
    "\n",
    "#history = model.fit(x_train, y_train, batch_size=10, epochs=200, validation_data=(x_valid, y_valid))\n",
    "\n",
    "early_stop = EarlyStopping(monitor='loss', patience=5, verbose=0)\n",
    "\n",
    "history = model.fit(X_train_t, y_train, epochs=100, batch_size=30, verbose=1, callbacks=[early_stop])"
   ]
  },
  {
   "cell_type": "code",
   "execution_count": 24,
   "metadata": {},
   "outputs": [
    {
     "data": {
      "image/png": "[encoded data removed]",
      "text/plain": [
       "<Figure size 432x288 with 1 Axes>"
      ]
     },
     "metadata": {
      "needs_background": "light"
     },
     "output_type": "display_data"
    }
   ],
   "source": [
    "for name, value in history.history.items():\n",
    "    plt.plot(value, label=name)\n",
    "plt.legend()\n",
    "plt.show()"
   ]
  },
  {
   "cell_type": "code",
   "execution_count": 25,
   "metadata": {},
   "outputs": [
    {
     "name": "stdout",
     "output_type": "stream",
     "text": [
      "\r",
      "20/20 [==============================] - 0s 2ms/step\n"
     ]
    }
   ],
   "source": [
    "## evaluate model\n",
    "\n",
    "#results = model.evaluate(x_test, y_test)\n",
    "\n",
    "results = model.evaluate(X_test_t, y_test)\n",
    "#print('Loss: {:.6f} - MAPE: {:.6f}'.format(*results))"
   ]
  },
  {
   "cell_type": "markdown",
   "metadata": {},
   "source": [
    "trainScore = model.evaluate(x_train, y_train, verbose=0)\n",
    "model.reset_states()\n",
    "print('Train Score: ', trainScore)\n",
    "valScore = model.evaluate(x_test, y_test, verbose=0)\n",
    "model.reset_states()\n",
    "print('Validataion Score: ', valScore)\n",
    "testScore = model.evaluate(x_test, y_test, verbose=0)\n",
    "model.reset_states()\n",
    "print('Test Score: ', testScore)"
   ]
  },
  {
   "cell_type": "code",
   "execution_count": 26,
   "metadata": {},
   "outputs": [
    {
     "name": "stdout",
     "output_type": "stream",
     "text": [
      "Train Score:  [0.013942833322642454, 96213.359375]\n",
      "Validataion Score:  [0.04422696307301521, 24.629718780517578]\n",
      "Test Score:  [0.04422696307301521, 24.629718780517578]\n"
     ]
    }
   ],
   "source": [
    "trainScore = model.evaluate(X_train_t, y_train, verbose=0)\n",
    "model.reset_states()\n",
    "print('Train Score: ', trainScore)\n",
    "valScore = model.evaluate(X_test_t, y_test, verbose=0)\n",
    "model.reset_states()\n",
    "print('Validataion Score: ', valScore)\n",
    "testScore = model.evaluate(X_test_t, y_test, verbose=0)\n",
    "model.reset_states()\n",
    "print('Test Score: ', testScore)"
   ]
  },
  {
   "cell_type": "code",
   "execution_count": 27,
   "metadata": {},
   "outputs": [
    {
     "data": {
      "image/png": "[encoded data removed]",
      "text/plain": [
       "<Figure size 720x360 with 1 Axes>"
      ]
     },
     "metadata": {
      "needs_background": "light"
     },
     "output_type": "display_data"
    }
   ],
   "source": [
    "test_pred = model.predict(X_test_t)\n",
    "train_pred = model.predict(X_train_t)\n",
    "#train_pred = np.squeeze(train_pred)\n",
    "\n",
    "plt.figure(figsize=(10, 5))\n",
    "plt.plot(x_train, y_train, '.y', x_test, y_test, '.r',x_train, train_pred, '.b', x_test, test_pred, '.b')\n",
    "plt.show()"
   ]
  },
  {
   "cell_type": "code",
   "execution_count": 28,
   "metadata": {},
   "outputs": [
    {
     "data": {
      "text/plain": [
       "[<matplotlib.lines.Line2D at 0x7fdd85484f98>]"
      ]
     },
     "execution_count": 28,
     "metadata": {},
     "output_type": "execute_result"
    },
    {
     "data": {
      "image/png": "[encoded data removed]",
      "text/plain": [
       "<Figure size 432x288 with 1 Axes>"
      ]
     },
     "metadata": {
      "needs_background": "light"
     },
     "output_type": "display_data"
    }
   ],
   "source": [
    "plt.figure()\n",
    "plt.plot(test_pred)"
   ]
  },
  {
   "cell_type": "markdown",
   "metadata": {
    "scrolled": true
   },
   "source": [
    "for pred, true in zip(test_pred, y_test):\n",
    "    print('Pred: {:.6f} - True: {:.6f}'.format(pred,true))"
   ]
  },
  {
   "cell_type": "code",
   "execution_count": null,
   "metadata": {},
   "outputs": [],
   "source": []
  },
  {
   "cell_type": "markdown",
   "metadata": {},
   "source": [
    "Save model"
   ]
  },
  {
   "cell_type": "code",
   "execution_count": 29,
   "metadata": {},
   "outputs": [],
   "source": [
    "model_path = 'model.lstm_relu'\n",
    "model.save(model_path)\n",
    "\n",
    "from keras.models import load_model\n",
    "\n",
    "loaded_model = load_model(model_path)"
   ]
  },
  {
   "cell_type": "code",
   "execution_count": 30,
   "metadata": {
    "scrolled": true
   },
   "outputs": [
    {
     "name": "stdout",
     "output_type": "stream",
     "text": [
      "Model: \"sequential_1\"\n",
      "_________________________________________________________________\n",
      "Layer (type)                 Output Shape              Param #   \n",
      "=================================================================\n",
      "lstm_1 (LSTM)                (None, 30)                3840      \n",
      "_________________________________________________________________\n",
      "dense_1 (Dense)              (None, 1)                 31        \n",
      "=================================================================\n",
      "Total params: 3,871\n",
      "Trainable params: 3,871\n",
      "Non-trainable params: 0\n",
      "_________________________________________________________________\n"
     ]
    }
   ],
   "source": [
    "loaded_model.summary()"
   ]
  },
  {
   "cell_type": "code",
   "execution_count": null,
   "metadata": {},
   "outputs": [],
   "source": []
  },
  {
   "cell_type": "code",
   "execution_count": null,
   "metadata": {},
   "outputs": [],
   "source": []
  },
  {
   "cell_type": "code",
   "execution_count": null,
   "metadata": {},
   "outputs": [],
   "source": []
  }
 ],
 "metadata": {
  "kernelspec": {
   "display_name": "Python 3",
   "language": "python",
   "name": "python3"
  },
  "language_info": {
   "codemirror_mode": {
    "name": "ipython",
    "version": 3
   },
   "file_extension": ".py",
   "mimetype": "text/x-python",
   "name": "python",
   "nbconvert_exporter": "python",
   "pygments_lexer": "ipython3",
   "version": "3.7.0"
  }
 },
 "nbformat": 4,
 "nbformat_minor": 4
}
