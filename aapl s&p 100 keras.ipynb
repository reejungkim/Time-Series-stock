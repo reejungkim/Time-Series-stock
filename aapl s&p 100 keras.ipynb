{
 "cells": [
  {
   "cell_type": "code",
   "execution_count": 1,
   "metadata": {},
   "outputs": [],
   "source": [
    "import pandas as pd\n",
    "import numpy as np\n",
    "import timeit\n",
    "import datetime as dt\n",
    "import matplotlib.pyplot as plt\n",
    "from matplotlib.backends.backend_pdf import PdfPages\n",
    "#import plotly.graph_objs as go\n",
    "%matplotlib inline"
   ]
  },
  {
   "cell_type": "code",
   "execution_count": 2,
   "metadata": {},
   "outputs": [
    {
     "name": "stderr",
     "output_type": "stream",
     "text": [
      "/Users/reejungkim/opt/anaconda3/envs/myenv/lib/python3.7/site-packages/pandas_datareader/compat/__init__.py:7: FutureWarning: pandas.util.testing is deprecated. Use the functions in the public API at pandas.testing instead.\n",
      "  from pandas.util.testing import assert_frame_equal\n"
     ]
    }
   ],
   "source": [
    "from pandas_datareader import data as pdr"
   ]
  },
  {
   "cell_type": "code",
   "execution_count": 3,
   "metadata": {},
   "outputs": [],
   "source": [
    "date_end = dt.datetime.today()\n",
    "date_start = date_end - dt.timedelta(100)"
   ]
  },
  {
   "cell_type": "code",
   "execution_count": 4,
   "metadata": {},
   "outputs": [
    {
     "data": {
      "text/plain": [
       "(datetime.datetime(2020, 6, 24, 22, 13, 41, 846027),\n",
       " datetime.datetime(2020, 3, 16, 22, 13, 41, 846027))"
      ]
     },
     "execution_count": 4,
     "metadata": {},
     "output_type": "execute_result"
    }
   ],
   "source": [
    "date_end, date_start"
   ]
  },
  {
   "cell_type": "code",
   "execution_count": 5,
   "metadata": {},
   "outputs": [],
   "source": [
    "df = pdr.DataReader(\"AAPL\", 'yahoo', date_start, date_end).reset_index()"
   ]
  },
  {
   "cell_type": "code",
   "execution_count": 6,
   "metadata": {
    "scrolled": true
   },
   "outputs": [],
   "source": [
    "df = df.loc[df['Date'].notnull()]"
   ]
  },
  {
   "cell_type": "code",
   "execution_count": 7,
   "metadata": {},
   "outputs": [
    {
     "data": {
      "text/html": [
       "<div>\n",
       "<style scoped>\n",
       "    .dataframe tbody tr th:only-of-type {\n",
       "        vertical-align: middle;\n",
       "    }\n",
       "\n",
       "    .dataframe tbody tr th {\n",
       "        vertical-align: top;\n",
       "    }\n",
       "\n",
       "    .dataframe thead th {\n",
       "        text-align: right;\n",
       "    }\n",
       "</style>\n",
       "<table border=\"1\" class=\"dataframe\">\n",
       "  <thead>\n",
       "    <tr style=\"text-align: right;\">\n",
       "      <th></th>\n",
       "      <th>Date</th>\n",
       "      <th>High</th>\n",
       "      <th>Low</th>\n",
       "      <th>Open</th>\n",
       "      <th>Close</th>\n",
       "      <th>Volume</th>\n",
       "      <th>Adj Close</th>\n",
       "    </tr>\n",
       "  </thead>\n",
       "  <tbody>\n",
       "    <tr>\n",
       "      <th>0</th>\n",
       "      <td>2020-03-17</td>\n",
       "      <td>257.609985</td>\n",
       "      <td>238.399994</td>\n",
       "      <td>247.509995</td>\n",
       "      <td>252.860001</td>\n",
       "      <td>81014000.0</td>\n",
       "      <td>252.177368</td>\n",
       "    </tr>\n",
       "    <tr>\n",
       "      <th>1</th>\n",
       "      <td>2020-03-18</td>\n",
       "      <td>250.000000</td>\n",
       "      <td>237.119995</td>\n",
       "      <td>239.770004</td>\n",
       "      <td>246.669998</td>\n",
       "      <td>75058400.0</td>\n",
       "      <td>246.004074</td>\n",
       "    </tr>\n",
       "    <tr>\n",
       "      <th>2</th>\n",
       "      <td>2020-03-19</td>\n",
       "      <td>252.839996</td>\n",
       "      <td>242.610001</td>\n",
       "      <td>247.389999</td>\n",
       "      <td>244.779999</td>\n",
       "      <td>67964300.0</td>\n",
       "      <td>244.119171</td>\n",
       "    </tr>\n",
       "    <tr>\n",
       "      <th>3</th>\n",
       "      <td>2020-03-20</td>\n",
       "      <td>251.830002</td>\n",
       "      <td>228.000000</td>\n",
       "      <td>247.179993</td>\n",
       "      <td>229.240005</td>\n",
       "      <td>100423300.0</td>\n",
       "      <td>228.621140</td>\n",
       "    </tr>\n",
       "    <tr>\n",
       "      <th>4</th>\n",
       "      <td>2020-03-23</td>\n",
       "      <td>228.500000</td>\n",
       "      <td>212.610001</td>\n",
       "      <td>228.080002</td>\n",
       "      <td>224.369995</td>\n",
       "      <td>84188200.0</td>\n",
       "      <td>223.764267</td>\n",
       "    </tr>\n",
       "    <tr>\n",
       "      <th>...</th>\n",
       "      <td>...</td>\n",
       "      <td>...</td>\n",
       "      <td>...</td>\n",
       "      <td>...</td>\n",
       "      <td>...</td>\n",
       "      <td>...</td>\n",
       "      <td>...</td>\n",
       "    </tr>\n",
       "    <tr>\n",
       "      <th>65</th>\n",
       "      <td>2020-06-18</td>\n",
       "      <td>353.450012</td>\n",
       "      <td>349.220001</td>\n",
       "      <td>351.410004</td>\n",
       "      <td>351.730011</td>\n",
       "      <td>24205100.0</td>\n",
       "      <td>351.730011</td>\n",
       "    </tr>\n",
       "    <tr>\n",
       "      <th>66</th>\n",
       "      <td>2020-06-19</td>\n",
       "      <td>356.559998</td>\n",
       "      <td>345.149994</td>\n",
       "      <td>354.640015</td>\n",
       "      <td>349.720001</td>\n",
       "      <td>66119000.0</td>\n",
       "      <td>349.720001</td>\n",
       "    </tr>\n",
       "    <tr>\n",
       "      <th>67</th>\n",
       "      <td>2020-06-22</td>\n",
       "      <td>359.459991</td>\n",
       "      <td>351.149994</td>\n",
       "      <td>351.339996</td>\n",
       "      <td>358.869995</td>\n",
       "      <td>33861300.0</td>\n",
       "      <td>358.869995</td>\n",
       "    </tr>\n",
       "    <tr>\n",
       "      <th>68</th>\n",
       "      <td>2020-06-23</td>\n",
       "      <td>372.380005</td>\n",
       "      <td>362.269989</td>\n",
       "      <td>364.000000</td>\n",
       "      <td>366.529999</td>\n",
       "      <td>52914600.0</td>\n",
       "      <td>366.529999</td>\n",
       "    </tr>\n",
       "    <tr>\n",
       "      <th>69</th>\n",
       "      <td>2020-06-24</td>\n",
       "      <td>368.769989</td>\n",
       "      <td>358.519989</td>\n",
       "      <td>365.000000</td>\n",
       "      <td>360.059998</td>\n",
       "      <td>47402735.0</td>\n",
       "      <td>360.059998</td>\n",
       "    </tr>\n",
       "  </tbody>\n",
       "</table>\n",
       "<p>70 rows × 7 columns</p>\n",
       "</div>"
      ],
      "text/plain": [
       "         Date        High         Low        Open       Close       Volume  \\\n",
       "0  2020-03-17  257.609985  238.399994  247.509995  252.860001   81014000.0   \n",
       "1  2020-03-18  250.000000  237.119995  239.770004  246.669998   75058400.0   \n",
       "2  2020-03-19  252.839996  242.610001  247.389999  244.779999   67964300.0   \n",
       "3  2020-03-20  251.830002  228.000000  247.179993  229.240005  100423300.0   \n",
       "4  2020-03-23  228.500000  212.610001  228.080002  224.369995   84188200.0   \n",
       "..        ...         ...         ...         ...         ...          ...   \n",
       "65 2020-06-18  353.450012  349.220001  351.410004  351.730011   24205100.0   \n",
       "66 2020-06-19  356.559998  345.149994  354.640015  349.720001   66119000.0   \n",
       "67 2020-06-22  359.459991  351.149994  351.339996  358.869995   33861300.0   \n",
       "68 2020-06-23  372.380005  362.269989  364.000000  366.529999   52914600.0   \n",
       "69 2020-06-24  368.769989  358.519989  365.000000  360.059998   47402735.0   \n",
       "\n",
       "     Adj Close  \n",
       "0   252.177368  \n",
       "1   246.004074  \n",
       "2   244.119171  \n",
       "3   228.621140  \n",
       "4   223.764267  \n",
       "..         ...  \n",
       "65  351.730011  \n",
       "66  349.720001  \n",
       "67  358.869995  \n",
       "68  366.529999  \n",
       "69  360.059998  \n",
       "\n",
       "[70 rows x 7 columns]"
      ]
     },
     "execution_count": 7,
     "metadata": {},
     "output_type": "execute_result"
    }
   ],
   "source": [
    "df"
   ]
  },
  {
   "cell_type": "markdown",
   "metadata": {},
   "source": [
    "df = df.reset_index(drop=True)"
   ]
  },
  {
   "cell_type": "markdown",
   "metadata": {
    "scrolled": true
   },
   "source": [
    "df.groupby(['Symbol']).describe().transpose()"
   ]
  },
  {
   "cell_type": "markdown",
   "metadata": {},
   "source": [
    "df_Org = df"
   ]
  },
  {
   "cell_type": "markdown",
   "metadata": {},
   "source": [
    "# Forecasting closing prices using Tensorflow"
   ]
  },
  {
   "cell_type": "code",
   "execution_count": 8,
   "metadata": {},
   "outputs": [],
   "source": [
    "from sklearn import preprocessing\n",
    "from sklearn.preprocessing import MinMaxScaler\n",
    "\n",
    "scaler = MinMaxScaler()\n",
    "le = preprocessing.LabelEncoder()"
   ]
  },
  {
   "cell_type": "code",
   "execution_count": 9,
   "metadata": {
    "scrolled": true
   },
   "outputs": [
    {
     "data": {
      "text/plain": [
       "Index(['Date', 'High', 'Low', 'Open', 'Close', 'Volume', 'Adj Close'], dtype='object')"
      ]
     },
     "execution_count": 9,
     "metadata": {},
     "output_type": "execute_result"
    }
   ],
   "source": [
    "df.columns"
   ]
  },
  {
   "cell_type": "code",
   "execution_count": 10,
   "metadata": {},
   "outputs": [],
   "source": [
    "df['Date encoded'] = le.fit_transform(df['Date'])"
   ]
  },
  {
   "cell_type": "code",
   "execution_count": 11,
   "metadata": {},
   "outputs": [
    {
     "data": {
      "text/plain": [
       "(70, 8)"
      ]
     },
     "execution_count": 11,
     "metadata": {},
     "output_type": "execute_result"
    }
   ],
   "source": [
    "df.shape"
   ]
  },
  {
   "cell_type": "code",
   "execution_count": 12,
   "metadata": {},
   "outputs": [
    {
     "data": {
      "text/plain": [
       "Index(['Date', 'High', 'Low', 'Open', 'Close', 'Volume', 'Adj Close',\n",
       "       'Date encoded'],\n",
       "      dtype='object')"
      ]
     },
     "execution_count": 12,
     "metadata": {},
     "output_type": "execute_result"
    }
   ],
   "source": [
    "df.columns"
   ]
  },
  {
   "cell_type": "code",
   "execution_count": 13,
   "metadata": {},
   "outputs": [
    {
     "data": {
      "text/html": [
       "<div>\n",
       "<style scoped>\n",
       "    .dataframe tbody tr th:only-of-type {\n",
       "        vertical-align: middle;\n",
       "    }\n",
       "\n",
       "    .dataframe tbody tr th {\n",
       "        vertical-align: top;\n",
       "    }\n",
       "\n",
       "    .dataframe thead th {\n",
       "        text-align: right;\n",
       "    }\n",
       "</style>\n",
       "<table border=\"1\" class=\"dataframe\">\n",
       "  <thead>\n",
       "    <tr style=\"text-align: right;\">\n",
       "      <th></th>\n",
       "      <th>Date</th>\n",
       "      <th>High</th>\n",
       "      <th>Low</th>\n",
       "      <th>Open</th>\n",
       "      <th>Close</th>\n",
       "      <th>Volume</th>\n",
       "      <th>Adj Close</th>\n",
       "      <th>Date encoded</th>\n",
       "    </tr>\n",
       "  </thead>\n",
       "  <tbody>\n",
       "    <tr>\n",
       "      <th>0</th>\n",
       "      <td>2020-03-17</td>\n",
       "      <td>257.609985</td>\n",
       "      <td>238.399994</td>\n",
       "      <td>247.509995</td>\n",
       "      <td>252.860001</td>\n",
       "      <td>81014000.0</td>\n",
       "      <td>252.177368</td>\n",
       "      <td>0</td>\n",
       "    </tr>\n",
       "    <tr>\n",
       "      <th>1</th>\n",
       "      <td>2020-03-18</td>\n",
       "      <td>250.000000</td>\n",
       "      <td>237.119995</td>\n",
       "      <td>239.770004</td>\n",
       "      <td>246.669998</td>\n",
       "      <td>75058400.0</td>\n",
       "      <td>246.004074</td>\n",
       "      <td>1</td>\n",
       "    </tr>\n",
       "    <tr>\n",
       "      <th>2</th>\n",
       "      <td>2020-03-19</td>\n",
       "      <td>252.839996</td>\n",
       "      <td>242.610001</td>\n",
       "      <td>247.389999</td>\n",
       "      <td>244.779999</td>\n",
       "      <td>67964300.0</td>\n",
       "      <td>244.119171</td>\n",
       "      <td>2</td>\n",
       "    </tr>\n",
       "    <tr>\n",
       "      <th>3</th>\n",
       "      <td>2020-03-20</td>\n",
       "      <td>251.830002</td>\n",
       "      <td>228.000000</td>\n",
       "      <td>247.179993</td>\n",
       "      <td>229.240005</td>\n",
       "      <td>100423300.0</td>\n",
       "      <td>228.621140</td>\n",
       "      <td>3</td>\n",
       "    </tr>\n",
       "    <tr>\n",
       "      <th>4</th>\n",
       "      <td>2020-03-23</td>\n",
       "      <td>228.500000</td>\n",
       "      <td>212.610001</td>\n",
       "      <td>228.080002</td>\n",
       "      <td>224.369995</td>\n",
       "      <td>84188200.0</td>\n",
       "      <td>223.764267</td>\n",
       "      <td>4</td>\n",
       "    </tr>\n",
       "    <tr>\n",
       "      <th>...</th>\n",
       "      <td>...</td>\n",
       "      <td>...</td>\n",
       "      <td>...</td>\n",
       "      <td>...</td>\n",
       "      <td>...</td>\n",
       "      <td>...</td>\n",
       "      <td>...</td>\n",
       "      <td>...</td>\n",
       "    </tr>\n",
       "    <tr>\n",
       "      <th>65</th>\n",
       "      <td>2020-06-18</td>\n",
       "      <td>353.450012</td>\n",
       "      <td>349.220001</td>\n",
       "      <td>351.410004</td>\n",
       "      <td>351.730011</td>\n",
       "      <td>24205100.0</td>\n",
       "      <td>351.730011</td>\n",
       "      <td>65</td>\n",
       "    </tr>\n",
       "    <tr>\n",
       "      <th>66</th>\n",
       "      <td>2020-06-19</td>\n",
       "      <td>356.559998</td>\n",
       "      <td>345.149994</td>\n",
       "      <td>354.640015</td>\n",
       "      <td>349.720001</td>\n",
       "      <td>66119000.0</td>\n",
       "      <td>349.720001</td>\n",
       "      <td>66</td>\n",
       "    </tr>\n",
       "    <tr>\n",
       "      <th>67</th>\n",
       "      <td>2020-06-22</td>\n",
       "      <td>359.459991</td>\n",
       "      <td>351.149994</td>\n",
       "      <td>351.339996</td>\n",
       "      <td>358.869995</td>\n",
       "      <td>33861300.0</td>\n",
       "      <td>358.869995</td>\n",
       "      <td>67</td>\n",
       "    </tr>\n",
       "    <tr>\n",
       "      <th>68</th>\n",
       "      <td>2020-06-23</td>\n",
       "      <td>372.380005</td>\n",
       "      <td>362.269989</td>\n",
       "      <td>364.000000</td>\n",
       "      <td>366.529999</td>\n",
       "      <td>52914600.0</td>\n",
       "      <td>366.529999</td>\n",
       "      <td>68</td>\n",
       "    </tr>\n",
       "    <tr>\n",
       "      <th>69</th>\n",
       "      <td>2020-06-24</td>\n",
       "      <td>368.769989</td>\n",
       "      <td>358.519989</td>\n",
       "      <td>365.000000</td>\n",
       "      <td>360.059998</td>\n",
       "      <td>47402735.0</td>\n",
       "      <td>360.059998</td>\n",
       "      <td>69</td>\n",
       "    </tr>\n",
       "  </tbody>\n",
       "</table>\n",
       "<p>70 rows × 8 columns</p>\n",
       "</div>"
      ],
      "text/plain": [
       "         Date        High         Low        Open       Close       Volume  \\\n",
       "0  2020-03-17  257.609985  238.399994  247.509995  252.860001   81014000.0   \n",
       "1  2020-03-18  250.000000  237.119995  239.770004  246.669998   75058400.0   \n",
       "2  2020-03-19  252.839996  242.610001  247.389999  244.779999   67964300.0   \n",
       "3  2020-03-20  251.830002  228.000000  247.179993  229.240005  100423300.0   \n",
       "4  2020-03-23  228.500000  212.610001  228.080002  224.369995   84188200.0   \n",
       "..        ...         ...         ...         ...         ...          ...   \n",
       "65 2020-06-18  353.450012  349.220001  351.410004  351.730011   24205100.0   \n",
       "66 2020-06-19  356.559998  345.149994  354.640015  349.720001   66119000.0   \n",
       "67 2020-06-22  359.459991  351.149994  351.339996  358.869995   33861300.0   \n",
       "68 2020-06-23  372.380005  362.269989  364.000000  366.529999   52914600.0   \n",
       "69 2020-06-24  368.769989  358.519989  365.000000  360.059998   47402735.0   \n",
       "\n",
       "     Adj Close  Date encoded  \n",
       "0   252.177368             0  \n",
       "1   246.004074             1  \n",
       "2   244.119171             2  \n",
       "3   228.621140             3  \n",
       "4   223.764267             4  \n",
       "..         ...           ...  \n",
       "65  351.730011            65  \n",
       "66  349.720001            66  \n",
       "67  358.869995            67  \n",
       "68  366.529999            68  \n",
       "69  360.059998            69  \n",
       "\n",
       "[70 rows x 8 columns]"
      ]
     },
     "execution_count": 13,
     "metadata": {},
     "output_type": "execute_result"
    }
   ],
   "source": [
    "df"
   ]
  },
  {
   "cell_type": "code",
   "execution_count": null,
   "metadata": {},
   "outputs": [],
   "source": []
  },
  {
   "cell_type": "code",
   "execution_count": 14,
   "metadata": {},
   "outputs": [
    {
     "data": {
      "image/png": "[encoded data removed]",
      "text/plain": [
       "<Figure size 360x360 with 1 Axes>"
      ]
     },
     "metadata": {
      "needs_background": "light"
     },
     "output_type": "display_data"
    }
   ],
   "source": [
    "import matplotlib.pyplot as plt\n",
    "import seaborn as sns\n",
    "\n",
    "sns.relplot(x='Date', y='Close', kind='line', data=df).fig.autofmt_xdate()"
   ]
  },
  {
   "cell_type": "code",
   "execution_count": 15,
   "metadata": {},
   "outputs": [
    {
     "data": {
      "text/html": [
       "<div>\n",
       "<style scoped>\n",
       "    .dataframe tbody tr th:only-of-type {\n",
       "        vertical-align: middle;\n",
       "    }\n",
       "\n",
       "    .dataframe tbody tr th {\n",
       "        vertical-align: top;\n",
       "    }\n",
       "\n",
       "    .dataframe thead th {\n",
       "        text-align: right;\n",
       "    }\n",
       "</style>\n",
       "<table border=\"1\" class=\"dataframe\">\n",
       "  <thead>\n",
       "    <tr style=\"text-align: right;\">\n",
       "      <th></th>\n",
       "      <th>Date</th>\n",
       "      <th>High</th>\n",
       "      <th>Low</th>\n",
       "      <th>Open</th>\n",
       "      <th>Close</th>\n",
       "      <th>Volume</th>\n",
       "      <th>Adj Close</th>\n",
       "      <th>Date encoded</th>\n",
       "    </tr>\n",
       "  </thead>\n",
       "  <tbody>\n",
       "    <tr>\n",
       "      <th>0</th>\n",
       "      <td>2020-03-17</td>\n",
       "      <td>257.609985</td>\n",
       "      <td>238.399994</td>\n",
       "      <td>247.509995</td>\n",
       "      <td>252.860001</td>\n",
       "      <td>81014000.0</td>\n",
       "      <td>252.177368</td>\n",
       "      <td>0</td>\n",
       "    </tr>\n",
       "    <tr>\n",
       "      <th>1</th>\n",
       "      <td>2020-03-18</td>\n",
       "      <td>250.000000</td>\n",
       "      <td>237.119995</td>\n",
       "      <td>239.770004</td>\n",
       "      <td>246.669998</td>\n",
       "      <td>75058400.0</td>\n",
       "      <td>246.004074</td>\n",
       "      <td>1</td>\n",
       "    </tr>\n",
       "    <tr>\n",
       "      <th>2</th>\n",
       "      <td>2020-03-19</td>\n",
       "      <td>252.839996</td>\n",
       "      <td>242.610001</td>\n",
       "      <td>247.389999</td>\n",
       "      <td>244.779999</td>\n",
       "      <td>67964300.0</td>\n",
       "      <td>244.119171</td>\n",
       "      <td>2</td>\n",
       "    </tr>\n",
       "    <tr>\n",
       "      <th>3</th>\n",
       "      <td>2020-03-20</td>\n",
       "      <td>251.830002</td>\n",
       "      <td>228.000000</td>\n",
       "      <td>247.179993</td>\n",
       "      <td>229.240005</td>\n",
       "      <td>100423300.0</td>\n",
       "      <td>228.621140</td>\n",
       "      <td>3</td>\n",
       "    </tr>\n",
       "    <tr>\n",
       "      <th>4</th>\n",
       "      <td>2020-03-23</td>\n",
       "      <td>228.500000</td>\n",
       "      <td>212.610001</td>\n",
       "      <td>228.080002</td>\n",
       "      <td>224.369995</td>\n",
       "      <td>84188200.0</td>\n",
       "      <td>223.764267</td>\n",
       "      <td>4</td>\n",
       "    </tr>\n",
       "    <tr>\n",
       "      <th>...</th>\n",
       "      <td>...</td>\n",
       "      <td>...</td>\n",
       "      <td>...</td>\n",
       "      <td>...</td>\n",
       "      <td>...</td>\n",
       "      <td>...</td>\n",
       "      <td>...</td>\n",
       "      <td>...</td>\n",
       "    </tr>\n",
       "    <tr>\n",
       "      <th>65</th>\n",
       "      <td>2020-06-18</td>\n",
       "      <td>353.450012</td>\n",
       "      <td>349.220001</td>\n",
       "      <td>351.410004</td>\n",
       "      <td>351.730011</td>\n",
       "      <td>24205100.0</td>\n",
       "      <td>351.730011</td>\n",
       "      <td>65</td>\n",
       "    </tr>\n",
       "    <tr>\n",
       "      <th>66</th>\n",
       "      <td>2020-06-19</td>\n",
       "      <td>356.559998</td>\n",
       "      <td>345.149994</td>\n",
       "      <td>354.640015</td>\n",
       "      <td>349.720001</td>\n",
       "      <td>66119000.0</td>\n",
       "      <td>349.720001</td>\n",
       "      <td>66</td>\n",
       "    </tr>\n",
       "    <tr>\n",
       "      <th>67</th>\n",
       "      <td>2020-06-22</td>\n",
       "      <td>359.459991</td>\n",
       "      <td>351.149994</td>\n",
       "      <td>351.339996</td>\n",
       "      <td>358.869995</td>\n",
       "      <td>33861300.0</td>\n",
       "      <td>358.869995</td>\n",
       "      <td>67</td>\n",
       "    </tr>\n",
       "    <tr>\n",
       "      <th>68</th>\n",
       "      <td>2020-06-23</td>\n",
       "      <td>372.380005</td>\n",
       "      <td>362.269989</td>\n",
       "      <td>364.000000</td>\n",
       "      <td>366.529999</td>\n",
       "      <td>52914600.0</td>\n",
       "      <td>366.529999</td>\n",
       "      <td>68</td>\n",
       "    </tr>\n",
       "    <tr>\n",
       "      <th>69</th>\n",
       "      <td>2020-06-24</td>\n",
       "      <td>368.769989</td>\n",
       "      <td>358.519989</td>\n",
       "      <td>365.000000</td>\n",
       "      <td>360.059998</td>\n",
       "      <td>47402735.0</td>\n",
       "      <td>360.059998</td>\n",
       "      <td>69</td>\n",
       "    </tr>\n",
       "  </tbody>\n",
       "</table>\n",
       "<p>70 rows × 8 columns</p>\n",
       "</div>"
      ],
      "text/plain": [
       "         Date        High         Low        Open       Close       Volume  \\\n",
       "0  2020-03-17  257.609985  238.399994  247.509995  252.860001   81014000.0   \n",
       "1  2020-03-18  250.000000  237.119995  239.770004  246.669998   75058400.0   \n",
       "2  2020-03-19  252.839996  242.610001  247.389999  244.779999   67964300.0   \n",
       "3  2020-03-20  251.830002  228.000000  247.179993  229.240005  100423300.0   \n",
       "4  2020-03-23  228.500000  212.610001  228.080002  224.369995   84188200.0   \n",
       "..        ...         ...         ...         ...         ...          ...   \n",
       "65 2020-06-18  353.450012  349.220001  351.410004  351.730011   24205100.0   \n",
       "66 2020-06-19  356.559998  345.149994  354.640015  349.720001   66119000.0   \n",
       "67 2020-06-22  359.459991  351.149994  351.339996  358.869995   33861300.0   \n",
       "68 2020-06-23  372.380005  362.269989  364.000000  366.529999   52914600.0   \n",
       "69 2020-06-24  368.769989  358.519989  365.000000  360.059998   47402735.0   \n",
       "\n",
       "     Adj Close  Date encoded  \n",
       "0   252.177368             0  \n",
       "1   246.004074             1  \n",
       "2   244.119171             2  \n",
       "3   228.621140             3  \n",
       "4   223.764267             4  \n",
       "..         ...           ...  \n",
       "65  351.730011            65  \n",
       "66  349.720001            66  \n",
       "67  358.869995            67  \n",
       "68  366.529999            68  \n",
       "69  360.059998            69  \n",
       "\n",
       "[70 rows x 8 columns]"
      ]
     },
     "execution_count": 15,
     "metadata": {},
     "output_type": "execute_result"
    }
   ],
   "source": [
    "df"
   ]
  },
  {
   "cell_type": "code",
   "execution_count": 16,
   "metadata": {
    "scrolled": true
   },
   "outputs": [
    {
     "data": {
      "text/plain": [
       "array([0, 1, 2, 3, 4, 5, 6, 7, 8, 9, 10, 11, 12, 13, 14, 15, 16, 17, 18,\n",
       "       19, 20, 21, 22, 23, 24, 25, 26, 27, 28, 29], dtype=object)"
      ]
     },
     "execution_count": 16,
     "metadata": {},
     "output_type": "execute_result"
    }
   ],
   "source": [
    "df.values[:30, 7]"
   ]
  },
  {
   "cell_type": "code",
   "execution_count": 19,
   "metadata": {},
   "outputs": [
    {
     "data": {
      "text/plain": [
       "array([10, 11, 12, 13, 14, 15, 16, 17, 18, 19, 20, 21, 22, 23, 24, 25, 26,\n",
       "       27, 28, 29, 30, 31, 32, 33, 34, 35, 36, 37, 38, 39, 40, 41, 42, 43,\n",
       "       44, 45, 46, 47, 48, 49, 50, 51, 52, 53, 54, 55, 56, 57, 58, 59, 60,\n",
       "       61, 62, 63, 64, 65, 66, 67, 68, 69], dtype=object)"
      ]
     },
     "execution_count": 19,
     "metadata": {},
     "output_type": "execute_result"
    }
   ],
   "source": [
    "df.values[10:, 7]"
   ]
  },
  {
   "cell_type": "code",
   "execution_count": 43,
   "metadata": {},
   "outputs": [],
   "source": [
    "x_train, y_train = df.values[:30, 7], df.values[:30, 4]\n",
    "x_test, y_test = df.values[-30:, 7], df.values[-30:, 4]"
   ]
  },
  {
   "cell_type": "code",
   "execution_count": 44,
   "metadata": {},
   "outputs": [
    {
     "data": {
      "text/plain": [
       "((30,), (30,), (30,), (30,))"
      ]
     },
     "execution_count": 44,
     "metadata": {},
     "output_type": "execute_result"
    }
   ],
   "source": [
    "x_train.shape, y_train.shape, x_test.shape, y_test.shape"
   ]
  },
  {
   "cell_type": "code",
   "execution_count": 46,
   "metadata": {},
   "outputs": [
    {
     "data": {
      "text/plain": [
       "array([40, 41, 42, 43, 44, 45, 46, 47, 48, 49, 50, 51, 52, 53, 54, 55, 56,\n",
       "       57, 58, 59, 60, 61, 62, 63, 64, 65, 66, 67, 68, 69], dtype=object)"
      ]
     },
     "execution_count": 46,
     "metadata": {},
     "output_type": "execute_result"
    }
   ],
   "source": [
    "x_test"
   ]
  },
  {
   "cell_type": "code",
   "execution_count": 47,
   "metadata": {
    "scrolled": true
   },
   "outputs": [
    {
     "name": "stdout",
     "output_type": "stream",
     "text": [
      "Model: \"sequential_2\"\n",
      "_________________________________________________________________\n",
      "Layer (type)                 Output Shape              Param #   \n",
      "=================================================================\n",
      "dense_3 (Dense)              (None, 16)                32        \n",
      "_________________________________________________________________\n",
      "dense_4 (Dense)              (None, 1)                 17        \n",
      "=================================================================\n",
      "Total params: 49\n",
      "Trainable params: 49\n",
      "Non-trainable params: 0\n",
      "_________________________________________________________________\n",
      "Train on 24 samples, validate on 6 samples\n",
      "Epoch 1/10\n",
      "24/24 [==============================] - 0s 15ms/step - loss: 38039.7422 - mape: 71.5903 - val_loss: 8391.3193 - val_mape: 32.9775\n",
      "Epoch 2/10\n",
      "24/24 [==============================] - 0s 497us/step - loss: 2446.2396 - mape: 16.5045 - val_loss: 704.8790 - val_mape: 9.1398\n",
      "Epoch 3/10\n",
      "24/24 [==============================] - 0s 554us/step - loss: 358.1468 - mape: 6.1174 - val_loss: 534.6354 - val_mape: 8.1734\n",
      "Epoch 4/10\n",
      "24/24 [==============================] - 0s 453us/step - loss: 320.9988 - mape: 5.7093 - val_loss: 370.3655 - val_mape: 6.9514\n",
      "Epoch 5/10\n",
      "24/24 [==============================] - 0s 590us/step - loss: 323.8570 - mape: 5.7898 - val_loss: 293.5801 - val_mape: 6.1612\n",
      "Epoch 6/10\n",
      "24/24 [==============================] - 0s 637us/step - loss: 335.4286 - mape: 5.7898 - val_loss: 458.4545 - val_mape: 7.6575\n",
      "Epoch 7/10\n",
      "24/24 [==============================] - 0s 552us/step - loss: 308.5189 - mape: 5.5244 - val_loss: 421.8814 - val_mape: 7.3823\n",
      "Epoch 8/10\n",
      "24/24 [==============================] - 0s 564us/step - loss: 293.9194 - mape: 5.4515 - val_loss: 384.6093 - val_mape: 7.0766\n",
      "Epoch 9/10\n",
      "24/24 [==============================] - 0s 495us/step - loss: 310.6056 - mape: 5.6582 - val_loss: 357.3359 - val_mape: 6.8320\n",
      "Epoch 10/10\n",
      "24/24 [==============================] - 0s 501us/step - loss: 311.8850 - mape: 5.7456 - val_loss: 348.7744 - val_mape: 6.7507\n"
     ]
    }
   ],
   "source": [
    "from keras.models import Sequential\n",
    "from keras.layers import Dense\n",
    "\n",
    "from keras.layers.core import Dense, Activation, Dropout\n",
    "from keras.layers.recurrent import LSTM\n",
    "#import lstm, time\n",
    "\n",
    "model = Sequential()\n",
    "\n",
    "model.add(Dense(16, activation='sigmoid', input_shape=(1,)))\n",
    "model.add(Dense(1, activation='linear'))\n",
    "\n",
    "model.summary()\n",
    "\n",
    "model.compile(optimizer='sgd', loss='mse', metrics=['mape']) \n",
    "#sgd - stochastic gradient descent\n",
    "#mse - mean square error\n",
    "#mape - mean absolute percentage error\n",
    "\n",
    "from sklearn.model_selection import train_test_split\n",
    "\n",
    "x_train, x_valid, y_train, y_valid = train_test_split(x_train, y_train, test_size=.2)\n",
    "\n",
    "history = model.fit(x_train, y_train, batch_size=4, epochs=10, validation_data=(x_valid, y_valid))"
   ]
  },
  {
   "cell_type": "code",
   "execution_count": 48,
   "metadata": {},
   "outputs": [
    {
     "data": {
      "image/png": "[encoded data removed]",
      "text/plain": [
       "<Figure size 432x288 with 1 Axes>"
      ]
     },
     "metadata": {
      "needs_background": "light"
     },
     "output_type": "display_data"
    }
   ],
   "source": [
    "for name, value in history.history.items():\n",
    "    plt.plot(value, label=name)\n",
    "plt.legend()\n",
    "plt.show()"
   ]
  },
  {
   "cell_type": "code",
   "execution_count": 49,
   "metadata": {},
   "outputs": [
    {
     "name": "stdout",
     "output_type": "stream",
     "text": [
      "30/30 [==============================] - 0s 30us/step\n",
      "Loss: 5291.830078 - MAPE: 21.111544\n"
     ]
    }
   ],
   "source": [
    "## evaluate model\n",
    "\n",
    "results = model.evaluate(x_test, y_test)\n",
    "\n",
    "print('Loss: {:.6f} - MAPE: {:.6f}'.format(*results))"
   ]
  },
  {
   "cell_type": "code",
   "execution_count": 50,
   "metadata": {},
   "outputs": [
    {
     "data": {
      "text/plain": [
       "array([260.73047, 260.73047, 260.73047, 260.73047, 260.73047, 260.73047,\n",
       "       260.73047, 260.73047, 260.73047, 260.73047, 260.73047, 260.73047,\n",
       "       260.73047, 260.73047, 260.73047, 260.73047, 260.73047, 260.73047,\n",
       "       260.73047, 260.73047, 260.73047, 260.73047, 260.73047, 260.73047,\n",
       "       260.73047, 260.73047, 260.73047, 260.73047, 260.73047, 260.73047],\n",
       "      dtype=float32)"
      ]
     },
     "execution_count": 50,
     "metadata": {},
     "output_type": "execute_result"
    }
   ],
   "source": [
    "test_pred = model.predict(x_test)\n",
    "\n",
    "test_pred = np.squeeze(test_pred)\n",
    "\n",
    "test_pred"
   ]
  },
  {
   "cell_type": "code",
   "execution_count": 51,
   "metadata": {},
   "outputs": [
    {
     "data": {
      "text/plain": [
       "array([260.73047, 260.73047, 260.73047, 260.73047, 260.73047, 260.73047,\n",
       "       260.73047, 260.73047, 260.73047, 260.73047, 260.73047, 260.73047,\n",
       "       260.73047, 260.73047, 260.73047, 260.73047, 260.73047, 260.73047,\n",
       "       260.73047, 260.73047, 260.73047, 260.73047, 260.73047, 260.73047,\n",
       "       260.73047, 260.73047, 260.73047, 260.73047, 260.73047, 260.73047],\n",
       "      dtype=float32)"
      ]
     },
     "execution_count": 51,
     "metadata": {},
     "output_type": "execute_result"
    }
   ],
   "source": [
    "test_pred = model.predict(x_test)\n",
    "\n",
    "test_pred = np.squeeze(test_pred)\n",
    "\n",
    "test_pred"
   ]
  },
  {
   "cell_type": "code",
   "execution_count": 52,
   "metadata": {},
   "outputs": [
    {
     "data": {
      "text/plain": [
       "array([307.6499938964844, 309.5400085449219, 307.7099914550781,\n",
       "       314.9599914550781, 313.1400146484375, 319.2300109863281,\n",
       "       316.8500061035156, 318.8900146484375, 316.7300109863281,\n",
       "       318.1099853515625, 318.25, 317.94000244140625, 321.8500061035156,\n",
       "       323.3399963378906, 325.1199951171875, 322.32000732421875, 331.5,\n",
       "       333.4599914550781, 343.989990234375, 352.8399963378906,\n",
       "       335.8999938964844, 338.79998779296875, 342.989990234375,\n",
       "       352.0799865722656, 351.5899963378906, 351.7300109863281,\n",
       "       349.7200012207031, 358.8699951171875, 366.5299987792969,\n",
       "       360.05999755859375], dtype=object)"
      ]
     },
     "execution_count": 52,
     "metadata": {},
     "output_type": "execute_result"
    }
   ],
   "source": [
    "y_test"
   ]
  },
  {
   "cell_type": "code",
   "execution_count": 53,
   "metadata": {
    "scrolled": true
   },
   "outputs": [
    {
     "name": "stdout",
     "output_type": "stream",
     "text": [
      "Pred: 260.730469 - True: 307.649994\n",
      "Pred: 260.730469 - True: 309.540009\n",
      "Pred: 260.730469 - True: 307.709991\n",
      "Pred: 260.730469 - True: 314.959991\n",
      "Pred: 260.730469 - True: 313.140015\n",
      "Pred: 260.730469 - True: 319.230011\n",
      "Pred: 260.730469 - True: 316.850006\n",
      "Pred: 260.730469 - True: 318.890015\n",
      "Pred: 260.730469 - True: 316.730011\n",
      "Pred: 260.730469 - True: 318.109985\n",
      "Pred: 260.730469 - True: 318.250000\n",
      "Pred: 260.730469 - True: 317.940002\n",
      "Pred: 260.730469 - True: 321.850006\n",
      "Pred: 260.730469 - True: 323.339996\n",
      "Pred: 260.730469 - True: 325.119995\n",
      "Pred: 260.730469 - True: 322.320007\n",
      "Pred: 260.730469 - True: 331.500000\n",
      "Pred: 260.730469 - True: 333.459991\n",
      "Pred: 260.730469 - True: 343.989990\n",
      "Pred: 260.730469 - True: 352.839996\n",
      "Pred: 260.730469 - True: 335.899994\n",
      "Pred: 260.730469 - True: 338.799988\n",
      "Pred: 260.730469 - True: 342.989990\n",
      "Pred: 260.730469 - True: 352.079987\n",
      "Pred: 260.730469 - True: 351.589996\n",
      "Pred: 260.730469 - True: 351.730011\n",
      "Pred: 260.730469 - True: 349.720001\n",
      "Pred: 260.730469 - True: 358.869995\n",
      "Pred: 260.730469 - True: 366.529999\n",
      "Pred: 260.730469 - True: 360.059998\n"
     ]
    }
   ],
   "source": [
    "for pred, true in zip(test_pred, y_test):\n",
    "    print('Pred: {:.6f} - True: {:.6f}'.format(pred,true))"
   ]
  },
  {
   "cell_type": "markdown",
   "metadata": {},
   "source": [
    "Save model"
   ]
  },
  {
   "cell_type": "code",
   "execution_count": 54,
   "metadata": {},
   "outputs": [],
   "source": [
    "model_path = 'model.h5'\n",
    "model.save(model_path)\n",
    "\n",
    "from keras.models import load_model\n",
    "\n",
    "loaded_model = load_model(model_path)"
   ]
  },
  {
   "cell_type": "code",
   "execution_count": 55,
   "metadata": {},
   "outputs": [
    {
     "name": "stdout",
     "output_type": "stream",
     "text": [
      "Model: \"sequential_2\"\n",
      "_________________________________________________________________\n",
      "Layer (type)                 Output Shape              Param #   \n",
      "=================================================================\n",
      "dense_3 (Dense)              (None, 16)                32        \n",
      "_________________________________________________________________\n",
      "dense_4 (Dense)              (None, 1)                 17        \n",
      "=================================================================\n",
      "Total params: 49\n",
      "Trainable params: 49\n",
      "Non-trainable params: 0\n",
      "_________________________________________________________________\n"
     ]
    }
   ],
   "source": [
    "loaded_model.summary()"
   ]
  },
  {
   "cell_type": "code",
   "execution_count": 56,
   "metadata": {},
   "outputs": [
    {
     "data": {
      "text/plain": [
       "array([307.6499938964844, 309.5400085449219, 307.7099914550781,\n",
       "       314.9599914550781, 313.1400146484375, 319.2300109863281,\n",
       "       316.8500061035156, 318.8900146484375, 316.7300109863281,\n",
       "       318.1099853515625, 318.25, 317.94000244140625, 321.8500061035156,\n",
       "       323.3399963378906, 325.1199951171875, 322.32000732421875, 331.5,\n",
       "       333.4599914550781, 343.989990234375, 352.8399963378906,\n",
       "       335.8999938964844, 338.79998779296875, 342.989990234375,\n",
       "       352.0799865722656, 351.5899963378906, 351.7300109863281,\n",
       "       349.7200012207031, 358.8699951171875, 366.5299987792969,\n",
       "       360.05999755859375], dtype=object)"
      ]
     },
     "execution_count": 56,
     "metadata": {},
     "output_type": "execute_result"
    }
   ],
   "source": [
    "y_test"
   ]
  },
  {
   "cell_type": "code",
   "execution_count": 57,
   "metadata": {},
   "outputs": [
    {
     "data": {
      "text/plain": [
       "array([260.73047, 260.73047, 260.73047, 260.73047, 260.73047, 260.73047,\n",
       "       260.73047, 260.73047, 260.73047, 260.73047, 260.73047, 260.73047,\n",
       "       260.73047, 260.73047, 260.73047, 260.73047, 260.73047, 260.73047,\n",
       "       260.73047, 260.73047, 260.73047, 260.73047, 260.73047, 260.73047,\n",
       "       260.73047, 260.73047, 260.73047, 260.73047, 260.73047, 260.73047],\n",
       "      dtype=float32)"
      ]
     },
     "execution_count": 57,
     "metadata": {},
     "output_type": "execute_result"
    }
   ],
   "source": [
    "test_pred"
   ]
  },
  {
   "cell_type": "code",
   "execution_count": 58,
   "metadata": {},
   "outputs": [
    {
     "data": {
      "text/plain": [
       "[<matplotlib.lines.Line2D at 0x7f8cd735d450>]"
      ]
     },
     "execution_count": 58,
     "metadata": {},
     "output_type": "execute_result"
    },
    {
     "data": {
      "image/png": "[encoded data removed]",
      "text/plain": [
       "<Figure size 432x288 with 1 Axes>"
      ]
     },
     "metadata": {
      "needs_background": "light"
     },
     "output_type": "display_data"
    }
   ],
   "source": [
    "plt.figure()\n",
    "plt.plot(test_pred)"
   ]
  },
  {
   "cell_type": "code",
   "execution_count": null,
   "metadata": {},
   "outputs": [],
   "source": []
  },
  {
   "cell_type": "code",
   "execution_count": 59,
   "metadata": {},
   "outputs": [
    {
     "data": {
      "image/png": "[encoded data removed]",
      "text/plain": [
       "<Figure size 720x360 with 1 Axes>"
      ]
     },
     "metadata": {
      "needs_background": "light"
     },
     "output_type": "display_data"
    }
   ],
   "source": [
    "plt.figure(figsize=(10, 5))\n",
    "plt.plot(x_test, y_test, '.y', x_test, test_pred, '.b')\n",
    "plt.show()"
   ]
  },
  {
   "cell_type": "code",
   "execution_count": 60,
   "metadata": {},
   "outputs": [
    {
     "data": {
      "image/png": "[encoded data removed]",
      "text/plain": [
       "<Figure size 720x360 with 1 Axes>"
      ]
     },
     "metadata": {
      "needs_background": "light"
     },
     "output_type": "display_data"
    }
   ],
   "source": [
    "train_pred = model.predict(x_train)\n",
    "train_pred = np.squeeze(train_pred)\n",
    "\n",
    "plt.figure(figsize=(10, 5))\n",
    "plt.plot(x_train, y_train, '.r', x_train, train_pred, '.b')\n",
    "plt.show()"
   ]
  },
  {
   "cell_type": "code",
   "execution_count": 61,
   "metadata": {},
   "outputs": [
    {
     "data": {
      "text/plain": [
       "array([260.7275 , 260.72174, 260.7303 , 259.3759 , 260.5839 , 260.73044,\n",
       "       260.73013, 260.70447, 257.62503, 260.71542, 260.68512, 260.7254 ,\n",
       "       260.7299 , 260.73047, 260.73047, 260.73047, 260.72946, 260.14105,\n",
       "       260.65012, 260.73047, 260.44855, 252.8459 , 260.73047, 260.7304 ],\n",
       "      dtype=float32)"
      ]
     },
     "execution_count": 61,
     "metadata": {},
     "output_type": "execute_result"
    }
   ],
   "source": [
    "train_pred"
   ]
  },
  {
   "cell_type": "code",
   "execution_count": 62,
   "metadata": {},
   "outputs": [
    {
     "data": {
      "text/plain": [
       "array([260.73047, 260.73047, 260.73047, 260.73047, 260.73047, 260.73047,\n",
       "       260.73047, 260.73047, 260.73047, 260.73047, 260.73047, 260.73047,\n",
       "       260.73047, 260.73047, 260.73047, 260.73047, 260.73047, 260.73047,\n",
       "       260.73047, 260.73047, 260.73047, 260.73047, 260.73047, 260.73047,\n",
       "       260.73047, 260.73047, 260.73047, 260.73047, 260.73047, 260.73047],\n",
       "      dtype=float32)"
      ]
     },
     "execution_count": 62,
     "metadata": {},
     "output_type": "execute_result"
    }
   ],
   "source": [
    "test_pred"
   ]
  },
  {
   "cell_type": "code",
   "execution_count": 63,
   "metadata": {},
   "outputs": [
    {
     "data": {
      "text/html": [
       "<div>\n",
       "<style scoped>\n",
       "    .dataframe tbody tr th:only-of-type {\n",
       "        vertical-align: middle;\n",
       "    }\n",
       "\n",
       "    .dataframe tbody tr th {\n",
       "        vertical-align: top;\n",
       "    }\n",
       "\n",
       "    .dataframe thead th {\n",
       "        text-align: right;\n",
       "    }\n",
       "</style>\n",
       "<table border=\"1\" class=\"dataframe\">\n",
       "  <thead>\n",
       "    <tr style=\"text-align: right;\">\n",
       "      <th></th>\n",
       "      <th>Date</th>\n",
       "      <th>High</th>\n",
       "      <th>Low</th>\n",
       "      <th>Open</th>\n",
       "      <th>Close</th>\n",
       "      <th>Volume</th>\n",
       "      <th>Adj Close</th>\n",
       "      <th>Date encoded</th>\n",
       "    </tr>\n",
       "  </thead>\n",
       "  <tbody>\n",
       "    <tr>\n",
       "      <th>0</th>\n",
       "      <td>2020-03-17</td>\n",
       "      <td>257.609985</td>\n",
       "      <td>238.399994</td>\n",
       "      <td>247.509995</td>\n",
       "      <td>252.860001</td>\n",
       "      <td>81014000.0</td>\n",
       "      <td>252.177368</td>\n",
       "      <td>0</td>\n",
       "    </tr>\n",
       "    <tr>\n",
       "      <th>1</th>\n",
       "      <td>2020-03-18</td>\n",
       "      <td>250.000000</td>\n",
       "      <td>237.119995</td>\n",
       "      <td>239.770004</td>\n",
       "      <td>246.669998</td>\n",
       "      <td>75058400.0</td>\n",
       "      <td>246.004074</td>\n",
       "      <td>1</td>\n",
       "    </tr>\n",
       "    <tr>\n",
       "      <th>2</th>\n",
       "      <td>2020-03-19</td>\n",
       "      <td>252.839996</td>\n",
       "      <td>242.610001</td>\n",
       "      <td>247.389999</td>\n",
       "      <td>244.779999</td>\n",
       "      <td>67964300.0</td>\n",
       "      <td>244.119171</td>\n",
       "      <td>2</td>\n",
       "    </tr>\n",
       "    <tr>\n",
       "      <th>3</th>\n",
       "      <td>2020-03-20</td>\n",
       "      <td>251.830002</td>\n",
       "      <td>228.000000</td>\n",
       "      <td>247.179993</td>\n",
       "      <td>229.240005</td>\n",
       "      <td>100423300.0</td>\n",
       "      <td>228.621140</td>\n",
       "      <td>3</td>\n",
       "    </tr>\n",
       "    <tr>\n",
       "      <th>4</th>\n",
       "      <td>2020-03-23</td>\n",
       "      <td>228.500000</td>\n",
       "      <td>212.610001</td>\n",
       "      <td>228.080002</td>\n",
       "      <td>224.369995</td>\n",
       "      <td>84188200.0</td>\n",
       "      <td>223.764267</td>\n",
       "      <td>4</td>\n",
       "    </tr>\n",
       "    <tr>\n",
       "      <th>...</th>\n",
       "      <td>...</td>\n",
       "      <td>...</td>\n",
       "      <td>...</td>\n",
       "      <td>...</td>\n",
       "      <td>...</td>\n",
       "      <td>...</td>\n",
       "      <td>...</td>\n",
       "      <td>...</td>\n",
       "    </tr>\n",
       "    <tr>\n",
       "      <th>65</th>\n",
       "      <td>2020-06-18</td>\n",
       "      <td>353.450012</td>\n",
       "      <td>349.220001</td>\n",
       "      <td>351.410004</td>\n",
       "      <td>351.730011</td>\n",
       "      <td>24205100.0</td>\n",
       "      <td>351.730011</td>\n",
       "      <td>65</td>\n",
       "    </tr>\n",
       "    <tr>\n",
       "      <th>66</th>\n",
       "      <td>2020-06-19</td>\n",
       "      <td>356.559998</td>\n",
       "      <td>345.149994</td>\n",
       "      <td>354.640015</td>\n",
       "      <td>349.720001</td>\n",
       "      <td>66119000.0</td>\n",
       "      <td>349.720001</td>\n",
       "      <td>66</td>\n",
       "    </tr>\n",
       "    <tr>\n",
       "      <th>67</th>\n",
       "      <td>2020-06-22</td>\n",
       "      <td>359.459991</td>\n",
       "      <td>351.149994</td>\n",
       "      <td>351.339996</td>\n",
       "      <td>358.869995</td>\n",
       "      <td>33861300.0</td>\n",
       "      <td>358.869995</td>\n",
       "      <td>67</td>\n",
       "    </tr>\n",
       "    <tr>\n",
       "      <th>68</th>\n",
       "      <td>2020-06-23</td>\n",
       "      <td>372.380005</td>\n",
       "      <td>362.269989</td>\n",
       "      <td>364.000000</td>\n",
       "      <td>366.529999</td>\n",
       "      <td>52914600.0</td>\n",
       "      <td>366.529999</td>\n",
       "      <td>68</td>\n",
       "    </tr>\n",
       "    <tr>\n",
       "      <th>69</th>\n",
       "      <td>2020-06-24</td>\n",
       "      <td>368.769989</td>\n",
       "      <td>358.519989</td>\n",
       "      <td>365.000000</td>\n",
       "      <td>360.059998</td>\n",
       "      <td>47402735.0</td>\n",
       "      <td>360.059998</td>\n",
       "      <td>69</td>\n",
       "    </tr>\n",
       "  </tbody>\n",
       "</table>\n",
       "<p>70 rows × 8 columns</p>\n",
       "</div>"
      ],
      "text/plain": [
       "         Date        High         Low        Open       Close       Volume  \\\n",
       "0  2020-03-17  257.609985  238.399994  247.509995  252.860001   81014000.0   \n",
       "1  2020-03-18  250.000000  237.119995  239.770004  246.669998   75058400.0   \n",
       "2  2020-03-19  252.839996  242.610001  247.389999  244.779999   67964300.0   \n",
       "3  2020-03-20  251.830002  228.000000  247.179993  229.240005  100423300.0   \n",
       "4  2020-03-23  228.500000  212.610001  228.080002  224.369995   84188200.0   \n",
       "..        ...         ...         ...         ...         ...          ...   \n",
       "65 2020-06-18  353.450012  349.220001  351.410004  351.730011   24205100.0   \n",
       "66 2020-06-19  356.559998  345.149994  354.640015  349.720001   66119000.0   \n",
       "67 2020-06-22  359.459991  351.149994  351.339996  358.869995   33861300.0   \n",
       "68 2020-06-23  372.380005  362.269989  364.000000  366.529999   52914600.0   \n",
       "69 2020-06-24  368.769989  358.519989  365.000000  360.059998   47402735.0   \n",
       "\n",
       "     Adj Close  Date encoded  \n",
       "0   252.177368             0  \n",
       "1   246.004074             1  \n",
       "2   244.119171             2  \n",
       "3   228.621140             3  \n",
       "4   223.764267             4  \n",
       "..         ...           ...  \n",
       "65  351.730011            65  \n",
       "66  349.720001            66  \n",
       "67  358.869995            67  \n",
       "68  366.529999            68  \n",
       "69  360.059998            69  \n",
       "\n",
       "[70 rows x 8 columns]"
      ]
     },
     "execution_count": 63,
     "metadata": {},
     "output_type": "execute_result"
    }
   ],
   "source": [
    "df"
   ]
  },
  {
   "cell_type": "code",
   "execution_count": null,
   "metadata": {},
   "outputs": [],
   "source": []
  }
 ],
 "metadata": {
  "kernelspec": {
   "display_name": "Python 3",
   "language": "python",
   "name": "python3"
  },
  "language_info": {
   "codemirror_mode": {
    "name": "ipython",
    "version": 3
   },
   "file_extension": ".py",
   "mimetype": "text/x-python",
   "name": "python",
   "nbconvert_exporter": "python",
   "pygments_lexer": "ipython3",
   "version": "3.7.7"
  }
 },
 "nbformat": 4,
 "nbformat_minor": 4
}
