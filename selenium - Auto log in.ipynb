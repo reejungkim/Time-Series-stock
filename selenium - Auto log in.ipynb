{
 "cells": [
  {
   "cell_type": "code",
   "execution_count": 1,
   "metadata": {},
   "outputs": [],
   "source": [
    "from selenium import webdriver"
   ]
  },
  {
   "cell_type": "code",
   "execution_count": 2,
   "metadata": {},
   "outputs": [],
   "source": [
    "# chromdriver(location of chromedriver.exe in Window)\n",
    "driver = webdriver.Chrome('C:/Users/reejung/Anaconda3/sip/chromedriver_win32/chromedriver.exe')\n",
    "\n",
    "driver.get('https://accounts.google.com/signin/v2/identifier?continue=https%3A%2F%2Fmail.google.com%2Fmail%2F&service=mail&sacu=1&rip=1&flowName=GlifWebSignIn&flowEntry=ServiceLogin')\n",
    "driver.implicitly_wait(3)\n",
    "# driver.get_screenshot_as_file('naver_main.png')\n",
    "\n",
    "#driver.quit()"
   ]
  },
  {
   "cell_type": "code",
   "execution_count": 3,
   "metadata": {},
   "outputs": [],
   "source": [
    "## automatically log in with id and password \n",
    "\n",
    "driver.find_element_by_name('identifier').send_keys('******@gmail.com')\n",
    "driver.find_element_by_xpath('//*[@id=\"identifierNext\"]/content').click()\n",
    "\n",
    "driver.find_element_by_name('password').send_keys('******')\n",
    "driver.find_element_by_xpath('//*[@id=\"passwordNext\"]/content').click()\n"
   ]
  },
  {
   "cell_type": "code",
   "execution_count": null,
   "metadata": {},
   "outputs": [],
   "source": []
  },
  {
   "cell_type": "code",
   "execution_count": null,
   "metadata": {},
   "outputs": [],
   "source": []
  }
 ],
 "metadata": {
  "kernelspec": {
   "display_name": "Python 3",
   "language": "python",
   "name": "python3"
  },
  "language_info": {
   "codemirror_mode": {
    "name": "ipython",
    "version": 3
   },
   "file_extension": ".py",
   "mimetype": "text/x-python",
   "name": "python",
   "nbconvert_exporter": "python",
   "pygments_lexer": "ipython3",
   "version": "3.6.4"
  }
 },
 "nbformat": 4,
 "nbformat_minor": 2
}
