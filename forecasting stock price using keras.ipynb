{
 "cells": [
  {
   "cell_type": "code",
   "execution_count": 1,
   "metadata": {},
   "outputs": [],
   "source": [
    "import pandas as pd\n",
    "import numpy as np\n",
    "import timeit\n",
    "import datetime as dt\n",
    "import matplotlib.pyplot as plt\n",
    "from matplotlib.backends.backend_pdf import PdfPages\n",
    "#import plotly.graph_objs as go\n",
    "%matplotlib inline"
   ]
  },
  {
   "cell_type": "code",
   "execution_count": 2,
   "metadata": {},
   "outputs": [
    {
     "name": "stderr",
     "output_type": "stream",
     "text": [
      "/Users/reejungkim/opt/anaconda3/envs/myenv/lib/python3.7/site-packages/pandas_datareader/compat/__init__.py:7: FutureWarning: pandas.util.testing is deprecated. Use the functions in the public API at pandas.testing instead.\n",
      "  from pandas.util.testing import assert_frame_equal\n"
     ]
    }
   ],
   "source": [
    "from pandas_datareader import data as pdr"
   ]
  },
  {
   "cell_type": "code",
   "execution_count": 3,
   "metadata": {},
   "outputs": [],
   "source": [
    "days_to_extract = 1000\n",
    "days_to_forecast = 20"
   ]
  },
  {
   "cell_type": "code",
   "execution_count": 4,
   "metadata": {},
   "outputs": [],
   "source": [
    "date_end = dt.date.today()\n",
    "date_start = date_end - dt.timedelta(days_to_extract)"
   ]
  },
  {
   "cell_type": "code",
   "execution_count": 5,
   "metadata": {},
   "outputs": [
    {
     "data": {
      "text/plain": [
       "(datetime.date(2020, 7, 1), datetime.date(2017, 10, 5))"
      ]
     },
     "execution_count": 5,
     "metadata": {},
     "output_type": "execute_result"
    }
   ],
   "source": [
    "date_end, date_start"
   ]
  },
  {
   "cell_type": "code",
   "execution_count": null,
   "metadata": {},
   "outputs": [],
   "source": []
  },
  {
   "cell_type": "code",
   "execution_count": 6,
   "metadata": {},
   "outputs": [],
   "source": [
    "df = pdr.DataReader(\"VUSA.L\", 'yahoo', date_start, date_end).reset_index()"
   ]
  },
  {
   "cell_type": "markdown",
   "metadata": {
    "scrolled": true
   },
   "source": [
    "df = df.loc[df['Date'].notnull()]"
   ]
  },
  {
   "cell_type": "code",
   "execution_count": 7,
   "metadata": {},
   "outputs": [
    {
     "data": {
      "text/html": [
       "<div>\n",
       "<style scoped>\n",
       "    .dataframe tbody tr th:only-of-type {\n",
       "        vertical-align: middle;\n",
       "    }\n",
       "\n",
       "    .dataframe tbody tr th {\n",
       "        vertical-align: top;\n",
       "    }\n",
       "\n",
       "    .dataframe thead th {\n",
       "        text-align: right;\n",
       "    }\n",
       "</style>\n",
       "<table border=\"1\" class=\"dataframe\">\n",
       "  <thead>\n",
       "    <tr style=\"text-align: right;\">\n",
       "      <th></th>\n",
       "      <th>Date</th>\n",
       "      <th>High</th>\n",
       "      <th>Low</th>\n",
       "      <th>Open</th>\n",
       "      <th>Close</th>\n",
       "      <th>Volume</th>\n",
       "      <th>Adj Close</th>\n",
       "    </tr>\n",
       "  </thead>\n",
       "  <tbody>\n",
       "    <tr>\n",
       "      <th>0</th>\n",
       "      <td>2017-10-05</td>\n",
       "      <td>36.840000</td>\n",
       "      <td>36.279999</td>\n",
       "      <td>36.439999</td>\n",
       "      <td>36.840000</td>\n",
       "      <td>1543205.0</td>\n",
       "      <td>35.635609</td>\n",
       "    </tr>\n",
       "    <tr>\n",
       "      <th>1</th>\n",
       "      <td>2017-10-06</td>\n",
       "      <td>37.169998</td>\n",
       "      <td>37.009998</td>\n",
       "      <td>37.099998</td>\n",
       "      <td>37.070000</td>\n",
       "      <td>287495.0</td>\n",
       "      <td>35.858089</td>\n",
       "    </tr>\n",
       "    <tr>\n",
       "      <th>2</th>\n",
       "      <td>2017-10-09</td>\n",
       "      <td>36.970001</td>\n",
       "      <td>36.759998</td>\n",
       "      <td>36.950001</td>\n",
       "      <td>36.880001</td>\n",
       "      <td>223352.0</td>\n",
       "      <td>35.674297</td>\n",
       "    </tr>\n",
       "    <tr>\n",
       "      <th>3</th>\n",
       "      <td>2017-10-10</td>\n",
       "      <td>36.810001</td>\n",
       "      <td>36.630001</td>\n",
       "      <td>36.730000</td>\n",
       "      <td>36.619999</td>\n",
       "      <td>81585.0</td>\n",
       "      <td>35.422798</td>\n",
       "    </tr>\n",
       "    <tr>\n",
       "      <th>4</th>\n",
       "      <td>2017-10-11</td>\n",
       "      <td>36.790001</td>\n",
       "      <td>36.639999</td>\n",
       "      <td>36.720001</td>\n",
       "      <td>36.700001</td>\n",
       "      <td>132649.0</td>\n",
       "      <td>35.500191</td>\n",
       "    </tr>\n",
       "    <tr>\n",
       "      <th>...</th>\n",
       "      <td>...</td>\n",
       "      <td>...</td>\n",
       "      <td>...</td>\n",
       "      <td>...</td>\n",
       "      <td>...</td>\n",
       "      <td>...</td>\n",
       "      <td>...</td>\n",
       "    </tr>\n",
       "    <tr>\n",
       "      <th>678</th>\n",
       "      <td>2020-06-23</td>\n",
       "      <td>47.972500</td>\n",
       "      <td>47.459999</td>\n",
       "      <td>47.562500</td>\n",
       "      <td>47.652500</td>\n",
       "      <td>207895.0</td>\n",
       "      <td>47.652500</td>\n",
       "    </tr>\n",
       "    <tr>\n",
       "      <th>679</th>\n",
       "      <td>2020-06-24</td>\n",
       "      <td>47.537498</td>\n",
       "      <td>46.580002</td>\n",
       "      <td>47.457500</td>\n",
       "      <td>46.622501</td>\n",
       "      <td>764968.0</td>\n",
       "      <td>46.622501</td>\n",
       "    </tr>\n",
       "    <tr>\n",
       "      <th>680</th>\n",
       "      <td>2020-06-25</td>\n",
       "      <td>46.742500</td>\n",
       "      <td>46.042500</td>\n",
       "      <td>46.430000</td>\n",
       "      <td>46.445000</td>\n",
       "      <td>294754.0</td>\n",
       "      <td>46.445000</td>\n",
       "    </tr>\n",
       "    <tr>\n",
       "      <th>681</th>\n",
       "      <td>2020-06-26</td>\n",
       "      <td>47.230000</td>\n",
       "      <td>46.442501</td>\n",
       "      <td>47.000000</td>\n",
       "      <td>46.686199</td>\n",
       "      <td>365825.0</td>\n",
       "      <td>46.686199</td>\n",
       "    </tr>\n",
       "    <tr>\n",
       "      <th>682</th>\n",
       "      <td>2020-07-01</td>\n",
       "      <td>47.500000</td>\n",
       "      <td>47.064999</td>\n",
       "      <td>47.384998</td>\n",
       "      <td>47.439869</td>\n",
       "      <td>104067.0</td>\n",
       "      <td>47.439869</td>\n",
       "    </tr>\n",
       "  </tbody>\n",
       "</table>\n",
       "<p>683 rows × 7 columns</p>\n",
       "</div>"
      ],
      "text/plain": [
       "          Date       High        Low       Open      Close     Volume  \\\n",
       "0   2017-10-05  36.840000  36.279999  36.439999  36.840000  1543205.0   \n",
       "1   2017-10-06  37.169998  37.009998  37.099998  37.070000   287495.0   \n",
       "2   2017-10-09  36.970001  36.759998  36.950001  36.880001   223352.0   \n",
       "3   2017-10-10  36.810001  36.630001  36.730000  36.619999    81585.0   \n",
       "4   2017-10-11  36.790001  36.639999  36.720001  36.700001   132649.0   \n",
       "..         ...        ...        ...        ...        ...        ...   \n",
       "678 2020-06-23  47.972500  47.459999  47.562500  47.652500   207895.0   \n",
       "679 2020-06-24  47.537498  46.580002  47.457500  46.622501   764968.0   \n",
       "680 2020-06-25  46.742500  46.042500  46.430000  46.445000   294754.0   \n",
       "681 2020-06-26  47.230000  46.442501  47.000000  46.686199   365825.0   \n",
       "682 2020-07-01  47.500000  47.064999  47.384998  47.439869   104067.0   \n",
       "\n",
       "     Adj Close  \n",
       "0    35.635609  \n",
       "1    35.858089  \n",
       "2    35.674297  \n",
       "3    35.422798  \n",
       "4    35.500191  \n",
       "..         ...  \n",
       "678  47.652500  \n",
       "679  46.622501  \n",
       "680  46.445000  \n",
       "681  46.686199  \n",
       "682  47.439869  \n",
       "\n",
       "[683 rows x 7 columns]"
      ]
     },
     "execution_count": 7,
     "metadata": {},
     "output_type": "execute_result"
    }
   ],
   "source": [
    "df"
   ]
  },
  {
   "cell_type": "code",
   "execution_count": 8,
   "metadata": {},
   "outputs": [
    {
     "data": {
      "text/plain": [
       "Date         datetime64[ns]\n",
       "High                float64\n",
       "Low                 float64\n",
       "Open                float64\n",
       "Close               float64\n",
       "Volume              float64\n",
       "Adj Close           float64\n",
       "dtype: object"
      ]
     },
     "execution_count": 8,
     "metadata": {},
     "output_type": "execute_result"
    }
   ],
   "source": [
    "df.dtypes"
   ]
  },
  {
   "cell_type": "code",
   "execution_count": 9,
   "metadata": {},
   "outputs": [
    {
     "data": {
      "image/png": "[encoded data removed]",
      "text/plain": [
       "<Figure size 360x360 with 1 Axes>"
      ]
     },
     "metadata": {
      "needs_background": "light"
     },
     "output_type": "display_data"
    }
   ],
   "source": [
    "import matplotlib.pyplot as plt\n",
    "import seaborn as sns\n",
    "\n",
    "sns.relplot(x='Date', y='Close', kind='line', data=df).fig.autofmt_xdate()"
   ]
  },
  {
   "cell_type": "markdown",
   "metadata": {},
   "source": [
    "# preprocessing"
   ]
  },
  {
   "cell_type": "code",
   "execution_count": 10,
   "metadata": {},
   "outputs": [],
   "source": [
    "from sklearn import preprocessing\n",
    "from sklearn.preprocessing import MinMaxScaler\n",
    "\n",
    "#scaler = MinMaxScaler()\n",
    "scaler = MinMaxScaler(feature_range=(0, 1))\n",
    "le = preprocessing.LabelEncoder()"
   ]
  },
  {
   "cell_type": "code",
   "execution_count": 11,
   "metadata": {},
   "outputs": [],
   "source": [
    "df['Date encoded'] = le.fit_transform(df['Date'])"
   ]
  },
  {
   "cell_type": "code",
   "execution_count": 12,
   "metadata": {},
   "outputs": [],
   "source": [
    "days_cutoff = len(df) - days_to_forecast"
   ]
  },
  {
   "cell_type": "code",
   "execution_count": 13,
   "metadata": {},
   "outputs": [],
   "source": [
    "scaled_Close = scaler.fit_transform(df[['Close']])"
   ]
  },
  {
   "cell_type": "code",
   "execution_count": 14,
   "metadata": {},
   "outputs": [],
   "source": [
    "scaled_Close = np.squeeze(scaled_Close)"
   ]
  },
  {
   "cell_type": "code",
   "execution_count": 15,
   "metadata": {},
   "outputs": [
    {
     "data": {
      "text/plain": [
       "array([663, 664, 665, 666, 667, 668, 669, 670, 671, 672, 673, 674, 675,\n",
       "       676, 677, 678, 679, 680, 681, 682], dtype=object)"
      ]
     },
     "execution_count": 15,
     "metadata": {},
     "output_type": "execute_result"
    }
   ],
   "source": [
    "df.values[days_cutoff:, 7]"
   ]
  },
  {
   "cell_type": "code",
   "execution_count": 16,
   "metadata": {},
   "outputs": [],
   "source": [
    "x_train, y_train = df.values[:days_cutoff, 7], scaled_Close[:days_cutoff]\n",
    "x_test, y_test = df.values[days_cutoff:, 7], scaled_Close[days_cutoff:]"
   ]
  },
  {
   "cell_type": "markdown",
   "metadata": {},
   "source": [
    "x_train, y_train = df.values[:600, 0], scaled_Close[:600]\n",
    "x_test, y_test = df.values[600:, 0], scaled_Close[600:]"
   ]
  },
  {
   "cell_type": "code",
   "execution_count": 17,
   "metadata": {},
   "outputs": [
    {
     "data": {
      "text/plain": [
       "((663,), (20,))"
      ]
     },
     "execution_count": 17,
     "metadata": {},
     "output_type": "execute_result"
    }
   ],
   "source": [
    "x_train.shape, x_test.shape"
   ]
  },
  {
   "cell_type": "markdown",
   "metadata": {},
   "source": [
    "# split train data"
   ]
  },
  {
   "cell_type": "code",
   "execution_count": 18,
   "metadata": {},
   "outputs": [],
   "source": [
    "from sklearn.model_selection import train_test_split\n",
    "\n",
    "x_train, x_valid, y_train, y_valid = train_test_split(x_train, y_train, test_size=.2)\n"
   ]
  },
  {
   "cell_type": "markdown",
   "metadata": {},
   "source": [
    "# Reshape data in order to apply LSTML"
   ]
  },
  {
   "cell_type": "code",
   "execution_count": 19,
   "metadata": {},
   "outputs": [
    {
     "data": {
      "text/plain": [
       "((530,), (530,), (20,), (20,))"
      ]
     },
     "execution_count": 19,
     "metadata": {},
     "output_type": "execute_result"
    }
   ],
   "source": [
    "x_train.shape, y_train.shape, x_test.shape, y_test.shape"
   ]
  },
  {
   "cell_type": "code",
   "execution_count": 20,
   "metadata": {},
   "outputs": [],
   "source": [
    "\n",
    "X_train_t = x_train.reshape(x_train.shape[0], 1, 1)\n",
    "X_test_t = x_test.reshape(x_test.shape[0], 1, 1)"
   ]
  },
  {
   "cell_type": "code",
   "execution_count": 21,
   "metadata": {},
   "outputs": [
    {
     "data": {
      "text/plain": [
       "((20, 1, 1), (530, 1, 1))"
      ]
     },
     "execution_count": 21,
     "metadata": {},
     "output_type": "execute_result"
    }
   ],
   "source": [
    "X_test_t.shape, X_train_t.shape"
   ]
  },
  {
   "cell_type": "markdown",
   "metadata": {},
   "source": [
    "## Keras"
   ]
  },
  {
   "cell_type": "code",
   "execution_count": 22,
   "metadata": {
    "scrolled": true
   },
   "outputs": [
    {
     "name": "stderr",
     "output_type": "stream",
     "text": [
      "Using TensorFlow backend.\n"
     ]
    },
    {
     "name": "stdout",
     "output_type": "stream",
     "text": [
      "Model: \"sequential_1\"\n",
      "_________________________________________________________________\n",
      "Layer (type)                 Output Shape              Param #   \n",
      "=================================================================\n",
      "lstm_1 (LSTM)                (None, None, 100)         40800     \n",
      "_________________________________________________________________\n",
      "dropout_1 (Dropout)          (None, None, 100)         0         \n",
      "_________________________________________________________________\n",
      "lstm_2 (LSTM)                (None, 100)               80400     \n",
      "_________________________________________________________________\n",
      "dropout_2 (Dropout)          (None, 100)               0         \n",
      "_________________________________________________________________\n",
      "dense_1 (Dense)              (None, 1)                 101       \n",
      "_________________________________________________________________\n",
      "activation_1 (Activation)    (None, 1)                 0         \n",
      "=================================================================\n",
      "Total params: 121,301\n",
      "Trainable params: 121,301\n",
      "Non-trainable params: 0\n",
      "_________________________________________________________________\n",
      "Epoch 1/200\n",
      "530/530 [==============================] - 3s 6ms/step - loss: 0.1011 - mape: 101701.2891\n",
      "Epoch 2/200\n",
      "530/530 [==============================] - 0s 910us/step - loss: 0.0659 - mape: 91035.9453\n",
      "Epoch 3/200\n",
      "530/530 [==============================] - 0s 935us/step - loss: 0.0434 - mape: 62878.7422\n",
      "Epoch 4/200\n",
      "530/530 [==============================] - 0s 908us/step - loss: 0.0414 - mape: 352568.4688\n",
      "Epoch 5/200\n",
      "530/530 [==============================] - 0s 936us/step - loss: 0.0336 - mape: 386532.5312\n",
      "Epoch 6/200\n",
      "530/530 [==============================] - 0s 938us/step - loss: 0.0292 - mape: 291548.2500\n",
      "Epoch 7/200\n",
      "530/530 [==============================] - 1s 950us/step - loss: 0.0269 - mape: 296310.7812\n",
      "Epoch 8/200\n",
      "530/530 [==============================] - 0s 912us/step - loss: 0.0285 - mape: 346664.3750\n",
      "Epoch 9/200\n",
      "530/530 [==============================] - 0s 932us/step - loss: 0.0264 - mape: 314874.8125\n",
      "Epoch 10/200\n",
      "530/530 [==============================] - 0s 916us/step - loss: 0.0250 - mape: 324658.0000\n",
      "Epoch 11/200\n",
      "530/530 [==============================] - 0s 941us/step - loss: 0.0262 - mape: 521601.0312\n",
      "Epoch 12/200\n",
      "530/530 [==============================] - 0s 908us/step - loss: 0.0259 - mape: 261180.2812\n",
      "Epoch 13/200\n",
      "530/530 [==============================] - 1s 948us/step - loss: 0.0237 - mape: 344415.3125\n",
      "Epoch 14/200\n",
      "530/530 [==============================] - 1s 958us/step - loss: 0.0266 - mape: 342779.1250\n",
      "Epoch 15/200\n",
      "530/530 [==============================] - 0s 916us/step - loss: 0.0233 - mape: 348380.1250\n",
      "Epoch 16/200\n",
      "530/530 [==============================] - 0s 932us/step - loss: 0.0231 - mape: 331601.0625\n",
      "Epoch 17/200\n",
      "530/530 [==============================] - 0s 929us/step - loss: 0.0226 - mape: 477846.8438\n",
      "Epoch 18/200\n",
      "530/530 [==============================] - 1s 949us/step - loss: 0.0230 - mape: 437528.2188\n",
      "Epoch 19/200\n",
      "530/530 [==============================] - 0s 942us/step - loss: 0.0223 - mape: 393024.3125\n",
      "Epoch 20/200\n",
      "530/530 [==============================] - 0s 936us/step - loss: 0.0202 - mape: 339617.3125\n",
      "Epoch 21/200\n",
      "530/530 [==============================] - 1s 961us/step - loss: 0.0198 - mape: 261579.8594\n",
      "Epoch 22/200\n",
      "530/530 [==============================] - 1s 951us/step - loss: 0.0195 - mape: 396697.2500\n",
      "Epoch 23/200\n",
      "530/530 [==============================] - 1s 973us/step - loss: 0.0202 - mape: 374499.6875\n",
      "Epoch 24/200\n",
      "530/530 [==============================] - 1s 1ms/step - loss: 0.0180 - mape: 344595.0000\n",
      "Epoch 25/200\n",
      "530/530 [==============================] - 1s 974us/step - loss: 0.0207 - mape: 340673.6562\n",
      "Epoch 26/200\n",
      "530/530 [==============================] - 1s 967us/step - loss: 0.0179 - mape: 373080.2500\n",
      "Epoch 27/200\n",
      "530/530 [==============================] - 1s 975us/step - loss: 0.0168 - mape: 339564.5000\n",
      "Epoch 28/200\n",
      "530/530 [==============================] - 1s 1ms/step - loss: 0.0176 - mape: 378427.5938\n",
      "Epoch 29/200\n",
      "530/530 [==============================] - 1s 958us/step - loss: 0.0159 - mape: 296545.5625\n",
      "Epoch 30/200\n",
      "530/530 [==============================] - 1s 990us/step - loss: 0.0203 - mape: 308039.6562\n",
      "Epoch 31/200\n",
      "530/530 [==============================] - 1s 1ms/step - loss: 0.0184 - mape: 290883.3125\n",
      "Epoch 32/200\n",
      "530/530 [==============================] - 1s 1ms/step - loss: 0.0175 - mape: 521254.6875\n",
      "Epoch 33/200\n",
      "530/530 [==============================] - 1s 1ms/step - loss: 0.0175 - mape: 309666.9062\n",
      "Epoch 34/200\n",
      "530/530 [==============================] - 1s 1ms/step - loss: 0.0160 - mape: 419916.7812\n",
      "Epoch 00034: early stopping\n"
     ]
    }
   ],
   "source": [
    "from keras.models import Sequential\n",
    "from keras.layers import Dense\n",
    "\n",
    "from keras.layers.core import Dense, Activation, Dropout\n",
    "from keras.layers.recurrent import LSTM\n",
    "import keras.backend as K \n",
    "from keras.callbacks import EarlyStopping\n",
    "#import lstm, time\n",
    "\n",
    "model = Sequential()\n",
    "\n",
    "#model.add(Dense(50, activation='sigmoid', input_shape=(1,)))\n",
    "#model.add(LSTM(30, activation='sigmoid', input_shape=(None,1)))\n",
    "\n",
    "model.add(LSTM(100, activation='relu', return_sequences=True, input_shape=(None,1))) #rectified linear unit\n",
    "model.add(Dropout(0.2))\n",
    "model.add(LSTM(100, return_sequences=False))\n",
    "model.add(Dropout(0.2))\n",
    "model.add(Dense(1))\n",
    "model.add(Activation('linear'))\n",
    "\n",
    "model.summary()\n",
    "\n",
    "model.compile(optimizer='rmsprop', loss='mse', metrics=['mape']) \n",
    "#optimizer = 'adgrad', 'adam', 'sgd', 'rmsprop'\n",
    "#sgd - stochastic gradient descent\n",
    "#mse - mean square error\n",
    "#mape - mean absolute percentage error\n",
    "\n",
    "#history = model.fit(x_train, y_train, batch_size=10, epochs=200, validation_data=(x_valid, y_valid))\n",
    "\n",
    "early_stop = EarlyStopping(monitor='loss', patience=5, verbose=1)\n",
    "#checkpoint = ModelCheckpoint(filename, monitor='loss', verbose=0, save_best_only=True, mode='auto')\n",
    "\n",
    "\n",
    "history = model.fit(X_train_t, y_train, epochs=200, batch_size=10, verbose=1, callbacks=[early_stop])\n",
    "\n"
   ]
  },
  {
   "cell_type": "code",
   "execution_count": null,
   "metadata": {},
   "outputs": [],
   "source": []
  },
  {
   "cell_type": "code",
   "execution_count": 23,
   "metadata": {},
   "outputs": [
    {
     "data": {
      "image/png": "[encoded data removed]",
      "text/plain": [
       "<Figure size 432x288 with 1 Axes>"
      ]
     },
     "metadata": {
      "needs_background": "light"
     },
     "output_type": "display_data"
    }
   ],
   "source": [
    "for name, value in history.history.items():\n",
    "    plt.plot(value, label=name)\n",
    "plt.legend()\n",
    "plt.show()"
   ]
  },
  {
   "cell_type": "code",
   "execution_count": 24,
   "metadata": {},
   "outputs": [
    {
     "name": "stdout",
     "output_type": "stream",
     "text": [
      "\r",
      "20/20 [==============================] - 1s 30ms/step\n"
     ]
    }
   ],
   "source": [
    "## evaluate model\n",
    "\n",
    "#results = model.evaluate(x_test, y_test)\n",
    "\n",
    "results = model.evaluate(X_test_t, y_test)\n",
    "#print('Loss: {:.6f} - MAPE: {:.6f}'.format(*results))"
   ]
  },
  {
   "cell_type": "markdown",
   "metadata": {},
   "source": [
    "trainScore = model.evaluate(x_train, y_train, verbose=0)\n",
    "model.reset_states()\n",
    "print('Train Score: ', trainScore)\n",
    "valScore = model.evaluate(x_test, y_test, verbose=0)\n",
    "model.reset_states()\n",
    "print('Validataion Score: ', valScore)\n",
    "testScore = model.evaluate(x_test, y_test, verbose=0)\n",
    "model.reset_states()\n",
    "print('Test Score: ', testScore)"
   ]
  },
  {
   "cell_type": "code",
   "execution_count": 25,
   "metadata": {},
   "outputs": [
    {
     "name": "stdout",
     "output_type": "stream",
     "text": [
      "Train Score:  [0.0179128811887975, 233720.609375]\n",
      "Validataion Score:  [0.023933276534080505, 17.620174407958984]\n",
      "Test Score:  [0.023933276534080505, 17.620174407958984]\n"
     ]
    }
   ],
   "source": [
    "trainScore = model.evaluate(X_train_t, y_train, verbose=0)\n",
    "model.reset_states()\n",
    "print('Train Score: ', trainScore)\n",
    "valScore = model.evaluate(X_test_t, y_test, verbose=0)\n",
    "model.reset_states()\n",
    "print('Validataion Score: ', valScore)\n",
    "testScore = model.evaluate(X_test_t, y_test, verbose=0)\n",
    "model.reset_states()\n",
    "print('Test Score: ', testScore)"
   ]
  },
  {
   "cell_type": "code",
   "execution_count": 26,
   "metadata": {},
   "outputs": [
    {
     "data": {
      "image/png": "[encoded data removed]",
      "text/plain": [
       "<Figure size 720x360 with 1 Axes>"
      ]
     },
     "metadata": {
      "needs_background": "light"
     },
     "output_type": "display_data"
    }
   ],
   "source": [
    "test_pred = model.predict(X_test_t)\n",
    "train_pred = model.predict(X_train_t)\n",
    "#train_pred = np.squeeze(train_pred)\n",
    "\n",
    "plt.figure(figsize=(10, 5))\n",
    "plt.plot(x_train, y_train, '.y', x_test, y_test, '.r',x_train, train_pred, '.b', x_test, test_pred, '.b')\n",
    "plt.show()"
   ]
  },
  {
   "cell_type": "code",
   "execution_count": 82,
   "metadata": {},
   "outputs": [
    {
     "data": {
      "text/plain": [
       "[<matplotlib.lines.Line2D at 0x7fbb33b66610>]"
      ]
     },
     "execution_count": 82,
     "metadata": {},
     "output_type": "execute_result"
    },
    {
     "data": {
      "image/png": "[encoded data removed]",
      "text/plain": [
       "<Figure size 432x288 with 1 Axes>"
      ]
     },
     "metadata": {
      "needs_background": "light"
     },
     "output_type": "display_data"
    }
   ],
   "source": [
    "plt.figure()\n",
    "plt.plot(test_pred)"
   ]
  },
  {
   "cell_type": "markdown",
   "metadata": {
    "scrolled": true
   },
   "source": [
    "for pred, true in zip(test_pred, y_test):\n",
    "    print('Pred: {:.6f} - True: {:.6f}'.format(pred,true))"
   ]
  },
  {
   "cell_type": "code",
   "execution_count": null,
   "metadata": {},
   "outputs": [],
   "source": []
  },
  {
   "cell_type": "markdown",
   "metadata": {},
   "source": [
    "Save model"
   ]
  },
  {
   "cell_type": "code",
   "execution_count": 27,
   "metadata": {},
   "outputs": [],
   "source": [
    "model_path = 'model.lstm_vusa'\n",
    "model.save(model_path)\n",
    "\n",
    "from keras.models import load_model\n",
    "\n",
    "loaded_model = load_model(model_path)"
   ]
  },
  {
   "cell_type": "code",
   "execution_count": 28,
   "metadata": {
    "scrolled": true
   },
   "outputs": [
    {
     "name": "stdout",
     "output_type": "stream",
     "text": [
      "Model: \"sequential_1\"\n",
      "_________________________________________________________________\n",
      "Layer (type)                 Output Shape              Param #   \n",
      "=================================================================\n",
      "lstm_1 (LSTM)                (None, None, 100)         40800     \n",
      "_________________________________________________________________\n",
      "dropout_1 (Dropout)          (None, None, 100)         0         \n",
      "_________________________________________________________________\n",
      "lstm_2 (LSTM)                (None, 100)               80400     \n",
      "_________________________________________________________________\n",
      "dropout_2 (Dropout)          (None, 100)               0         \n",
      "_________________________________________________________________\n",
      "dense_1 (Dense)              (None, 1)                 101       \n",
      "_________________________________________________________________\n",
      "activation_1 (Activation)    (None, 1)                 0         \n",
      "=================================================================\n",
      "Total params: 121,301\n",
      "Trainable params: 121,301\n",
      "Non-trainable params: 0\n",
      "_________________________________________________________________\n"
     ]
    }
   ],
   "source": [
    "loaded_model.summary()"
   ]
  },
  {
   "cell_type": "code",
   "execution_count": null,
   "metadata": {},
   "outputs": [],
   "source": []
  }
 ],
 "metadata": {
  "kernelspec": {
   "display_name": "Python 3",
   "language": "python",
   "name": "python3"
  },
  "language_info": {
   "codemirror_mode": {
    "name": "ipython",
    "version": 3
   },
   "file_extension": ".py",
   "mimetype": "text/x-python",
   "name": "python",
   "nbconvert_exporter": "python",
   "pygments_lexer": "ipython3",
   "version": "3.7.7"
  }
 },
 "nbformat": 4,
 "nbformat_minor": 4
}
