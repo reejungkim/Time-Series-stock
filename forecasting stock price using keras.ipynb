{
 "cells": [
  {
   "cell_type": "code",
   "execution_count": 1,
   "metadata": {},
   "outputs": [],
   "source": [
    "import pandas as pd\n",
    "import numpy as np\n",
    "import timeit\n",
    "import datetime as dt\n",
    "import matplotlib.pyplot as plt\n",
    "from matplotlib.backends.backend_pdf import PdfPages\n",
    "#import plotly.graph_objs as go\n",
    "%matplotlib inline"
   ]
  },
  {
   "cell_type": "code",
   "execution_count": 2,
   "metadata": {},
   "outputs": [
    {
     "name": "stderr",
     "output_type": "stream",
     "text": [
      "/Users/reejungkim/opt/anaconda3/envs/myenv/lib/python3.7/site-packages/pandas_datareader/compat/__init__.py:7: FutureWarning: pandas.util.testing is deprecated. Use the functions in the public API at pandas.testing instead.\n",
      "  from pandas.util.testing import assert_frame_equal\n"
     ]
    }
   ],
   "source": [
    "from pandas_datareader import data as pdr"
   ]
  },
  {
   "cell_type": "code",
   "execution_count": 3,
   "metadata": {},
   "outputs": [],
   "source": [
    "days_to_extract = 1000\n",
    "days_to_forecast = 20"
   ]
  },
  {
   "cell_type": "code",
   "execution_count": 4,
   "metadata": {},
   "outputs": [],
   "source": [
    "date_end = dt.date.today()\n",
    "date_start = date_end - dt.timedelta(days_to_extract)"
   ]
  },
  {
   "cell_type": "code",
   "execution_count": 5,
   "metadata": {},
   "outputs": [
    {
     "data": {
      "text/plain": [
       "(datetime.date(2020, 7, 10), datetime.date(2017, 10, 14))"
      ]
     },
     "execution_count": 5,
     "metadata": {},
     "output_type": "execute_result"
    }
   ],
   "source": [
    "date_end, date_start"
   ]
  },
  {
   "cell_type": "code",
   "execution_count": null,
   "metadata": {},
   "outputs": [],
   "source": []
  },
  {
   "cell_type": "code",
   "execution_count": 6,
   "metadata": {},
   "outputs": [],
   "source": [
    "df = pdr.DataReader(\"VUSA.L\", 'yahoo', date_start, date_end).reset_index()"
   ]
  },
  {
   "cell_type": "markdown",
   "metadata": {
    "scrolled": true
   },
   "source": [
    "df = df.loc[df['Date'].notnull()]"
   ]
  },
  {
   "cell_type": "code",
   "execution_count": 7,
   "metadata": {},
   "outputs": [
    {
     "data": {
      "text/html": [
       "<div>\n",
       "<style scoped>\n",
       "    .dataframe tbody tr th:only-of-type {\n",
       "        vertical-align: middle;\n",
       "    }\n",
       "\n",
       "    .dataframe tbody tr th {\n",
       "        vertical-align: top;\n",
       "    }\n",
       "\n",
       "    .dataframe thead th {\n",
       "        text-align: right;\n",
       "    }\n",
       "</style>\n",
       "<table border=\"1\" class=\"dataframe\">\n",
       "  <thead>\n",
       "    <tr style=\"text-align: right;\">\n",
       "      <th></th>\n",
       "      <th>Date</th>\n",
       "      <th>High</th>\n",
       "      <th>Low</th>\n",
       "      <th>Open</th>\n",
       "      <th>Close</th>\n",
       "      <th>Volume</th>\n",
       "      <th>Adj Close</th>\n",
       "    </tr>\n",
       "  </thead>\n",
       "  <tbody>\n",
       "    <tr>\n",
       "      <th>0</th>\n",
       "      <td>2017-10-16</td>\n",
       "      <td>36.639999</td>\n",
       "      <td>36.459999</td>\n",
       "      <td>36.580002</td>\n",
       "      <td>36.580002</td>\n",
       "      <td>368591.0</td>\n",
       "      <td>35.384109</td>\n",
       "    </tr>\n",
       "    <tr>\n",
       "      <th>1</th>\n",
       "      <td>2017-10-17</td>\n",
       "      <td>36.910000</td>\n",
       "      <td>36.570000</td>\n",
       "      <td>36.639999</td>\n",
       "      <td>36.880001</td>\n",
       "      <td>87086.0</td>\n",
       "      <td>35.674297</td>\n",
       "    </tr>\n",
       "    <tr>\n",
       "      <th>2</th>\n",
       "      <td>2017-10-18</td>\n",
       "      <td>37.029999</td>\n",
       "      <td>36.869999</td>\n",
       "      <td>36.919998</td>\n",
       "      <td>36.919998</td>\n",
       "      <td>166614.0</td>\n",
       "      <td>35.712994</td>\n",
       "    </tr>\n",
       "    <tr>\n",
       "      <th>3</th>\n",
       "      <td>2017-10-19</td>\n",
       "      <td>36.889999</td>\n",
       "      <td>36.689999</td>\n",
       "      <td>36.810001</td>\n",
       "      <td>36.790001</td>\n",
       "      <td>256212.0</td>\n",
       "      <td>35.587242</td>\n",
       "    </tr>\n",
       "    <tr>\n",
       "      <th>4</th>\n",
       "      <td>2017-10-20</td>\n",
       "      <td>37.209999</td>\n",
       "      <td>36.990002</td>\n",
       "      <td>37.200001</td>\n",
       "      <td>37.040001</td>\n",
       "      <td>144269.0</td>\n",
       "      <td>35.829071</td>\n",
       "    </tr>\n",
       "    <tr>\n",
       "      <th>...</th>\n",
       "      <td>...</td>\n",
       "      <td>...</td>\n",
       "      <td>...</td>\n",
       "      <td>...</td>\n",
       "      <td>...</td>\n",
       "      <td>...</td>\n",
       "      <td>...</td>\n",
       "    </tr>\n",
       "    <tr>\n",
       "      <th>670</th>\n",
       "      <td>2020-06-23</td>\n",
       "      <td>47.972500</td>\n",
       "      <td>47.459999</td>\n",
       "      <td>47.562500</td>\n",
       "      <td>47.652500</td>\n",
       "      <td>207895.0</td>\n",
       "      <td>47.652500</td>\n",
       "    </tr>\n",
       "    <tr>\n",
       "      <th>671</th>\n",
       "      <td>2020-06-24</td>\n",
       "      <td>47.537498</td>\n",
       "      <td>46.580002</td>\n",
       "      <td>47.457500</td>\n",
       "      <td>46.622501</td>\n",
       "      <td>764968.0</td>\n",
       "      <td>46.622501</td>\n",
       "    </tr>\n",
       "    <tr>\n",
       "      <th>672</th>\n",
       "      <td>2020-06-25</td>\n",
       "      <td>46.742500</td>\n",
       "      <td>46.042500</td>\n",
       "      <td>46.430000</td>\n",
       "      <td>46.445000</td>\n",
       "      <td>294754.0</td>\n",
       "      <td>46.445000</td>\n",
       "    </tr>\n",
       "    <tr>\n",
       "      <th>673</th>\n",
       "      <td>2020-06-26</td>\n",
       "      <td>47.230000</td>\n",
       "      <td>46.442501</td>\n",
       "      <td>47.000000</td>\n",
       "      <td>46.686199</td>\n",
       "      <td>365825.0</td>\n",
       "      <td>46.686199</td>\n",
       "    </tr>\n",
       "    <tr>\n",
       "      <th>674</th>\n",
       "      <td>2020-07-10</td>\n",
       "      <td>47.472900</td>\n",
       "      <td>47.090000</td>\n",
       "      <td>47.134998</td>\n",
       "      <td>47.437500</td>\n",
       "      <td>131052.0</td>\n",
       "      <td>47.437500</td>\n",
       "    </tr>\n",
       "  </tbody>\n",
       "</table>\n",
       "<p>675 rows × 7 columns</p>\n",
       "</div>"
      ],
      "text/plain": [
       "          Date       High        Low       Open      Close    Volume  \\\n",
       "0   2017-10-16  36.639999  36.459999  36.580002  36.580002  368591.0   \n",
       "1   2017-10-17  36.910000  36.570000  36.639999  36.880001   87086.0   \n",
       "2   2017-10-18  37.029999  36.869999  36.919998  36.919998  166614.0   \n",
       "3   2017-10-19  36.889999  36.689999  36.810001  36.790001  256212.0   \n",
       "4   2017-10-20  37.209999  36.990002  37.200001  37.040001  144269.0   \n",
       "..         ...        ...        ...        ...        ...       ...   \n",
       "670 2020-06-23  47.972500  47.459999  47.562500  47.652500  207895.0   \n",
       "671 2020-06-24  47.537498  46.580002  47.457500  46.622501  764968.0   \n",
       "672 2020-06-25  46.742500  46.042500  46.430000  46.445000  294754.0   \n",
       "673 2020-06-26  47.230000  46.442501  47.000000  46.686199  365825.0   \n",
       "674 2020-07-10  47.472900  47.090000  47.134998  47.437500  131052.0   \n",
       "\n",
       "     Adj Close  \n",
       "0    35.384109  \n",
       "1    35.674297  \n",
       "2    35.712994  \n",
       "3    35.587242  \n",
       "4    35.829071  \n",
       "..         ...  \n",
       "670  47.652500  \n",
       "671  46.622501  \n",
       "672  46.445000  \n",
       "673  46.686199  \n",
       "674  47.437500  \n",
       "\n",
       "[675 rows x 7 columns]"
      ]
     },
     "execution_count": 7,
     "metadata": {},
     "output_type": "execute_result"
    }
   ],
   "source": [
    "df"
   ]
  },
  {
   "cell_type": "code",
   "execution_count": 8,
   "metadata": {},
   "outputs": [
    {
     "data": {
      "text/plain": [
       "Date         datetime64[ns]\n",
       "High                float64\n",
       "Low                 float64\n",
       "Open                float64\n",
       "Close               float64\n",
       "Volume              float64\n",
       "Adj Close           float64\n",
       "dtype: object"
      ]
     },
     "execution_count": 8,
     "metadata": {},
     "output_type": "execute_result"
    }
   ],
   "source": [
    "df.dtypes"
   ]
  },
  {
   "cell_type": "code",
   "execution_count": 9,
   "metadata": {},
   "outputs": [
    {
     "data": {
      "image/png": "[encoded data removed]",
      "text/plain": [
       "<Figure size 360x360 with 1 Axes>"
      ]
     },
     "metadata": {
      "needs_background": "light"
     },
     "output_type": "display_data"
    }
   ],
   "source": [
    "import matplotlib.pyplot as plt\n",
    "import seaborn as sns\n",
    "\n",
    "sns.relplot(x='Date', y='Close', kind='line', data=df).fig.autofmt_xdate()"
   ]
  },
  {
   "cell_type": "markdown",
   "metadata": {},
   "source": [
    "# preprocessing"
   ]
  },
  {
   "cell_type": "code",
   "execution_count": 10,
   "metadata": {},
   "outputs": [],
   "source": [
    "from sklearn import preprocessing\n",
    "from sklearn.preprocessing import MinMaxScaler\n",
    "\n",
    "#scaler = MinMaxScaler()\n",
    "scaler = MinMaxScaler(feature_range=(0, 1))\n",
    "le = preprocessing.LabelEncoder()"
   ]
  },
  {
   "cell_type": "code",
   "execution_count": 11,
   "metadata": {},
   "outputs": [],
   "source": [
    "df['Date encoded'] = le.fit_transform(df['Date'])"
   ]
  },
  {
   "cell_type": "code",
   "execution_count": 12,
   "metadata": {},
   "outputs": [],
   "source": [
    "days_cutoff = len(df) - days_to_forecast"
   ]
  },
  {
   "cell_type": "code",
   "execution_count": 18,
   "metadata": {},
   "outputs": [],
   "source": [
    "scaled_Close = scaler.fit_transform(df[['Close']])"
   ]
  },
  {
   "cell_type": "code",
   "execution_count": 14,
   "metadata": {},
   "outputs": [],
   "source": [
    "scaled_Close = np.squeeze(scaled_Close)"
   ]
  },
  {
   "cell_type": "code",
   "execution_count": 15,
   "metadata": {},
   "outputs": [
    {
     "data": {
      "text/plain": [
       "array([655, 656, 657, 658, 659, 660, 661, 662, 663, 664, 665, 666, 667,\n",
       "       668, 669, 670, 671, 672, 673, 674], dtype=object)"
      ]
     },
     "execution_count": 15,
     "metadata": {},
     "output_type": "execute_result"
    }
   ],
   "source": [
    "df.values[days_cutoff:, 7]"
   ]
  },
  {
   "cell_type": "code",
   "execution_count": 16,
   "metadata": {},
   "outputs": [],
   "source": [
    "x_train, y_train = df.values[:days_cutoff, 7], scaled_Close[:days_cutoff]\n",
    "x_test, y_test = df.values[days_cutoff:, 7], scaled_Close[days_cutoff:]"
   ]
  },
  {
   "cell_type": "markdown",
   "metadata": {},
   "source": [
    "x_train, y_train = df.values[:600, 0], scaled_Close[:600]\n",
    "x_test, y_test = df.values[600:, 0], scaled_Close[600:]"
   ]
  },
  {
   "cell_type": "code",
   "execution_count": 20,
   "metadata": {},
   "outputs": [
    {
     "data": {
      "text/plain": [
       "((655,), (20,))"
      ]
     },
     "execution_count": 20,
     "metadata": {},
     "output_type": "execute_result"
    }
   ],
   "source": [
    "x_train.shape, x_test.shape"
   ]
  },
  {
   "cell_type": "markdown",
   "metadata": {},
   "source": [
    "# split train data"
   ]
  },
  {
   "cell_type": "code",
   "execution_count": 21,
   "metadata": {},
   "outputs": [],
   "source": [
    "from sklearn.model_selection import train_test_split\n",
    "\n",
    "x_train, x_valid, y_train, y_valid = train_test_split(x_train, y_train, test_size=.2)\n"
   ]
  },
  {
   "cell_type": "markdown",
   "metadata": {},
   "source": [
    "# Reshape data in order to apply LSTML"
   ]
  },
  {
   "cell_type": "code",
   "execution_count": 22,
   "metadata": {},
   "outputs": [
    {
     "data": {
      "text/plain": [
       "((524,), (524,), (20,), (20,))"
      ]
     },
     "execution_count": 22,
     "metadata": {},
     "output_type": "execute_result"
    }
   ],
   "source": [
    "x_train.shape, y_train.shape, x_test.shape, y_test.shape"
   ]
  },
  {
   "cell_type": "code",
   "execution_count": 23,
   "metadata": {},
   "outputs": [],
   "source": [
    "\n",
    "X_train_t = x_train.reshape(x_train.shape[0], 1, 1)\n",
    "X_test_t = x_test.reshape(x_test.shape[0], 1, 1)"
   ]
  },
  {
   "cell_type": "code",
   "execution_count": 24,
   "metadata": {},
   "outputs": [
    {
     "data": {
      "text/plain": [
       "((20, 1, 1), (524, 1, 1))"
      ]
     },
     "execution_count": 24,
     "metadata": {},
     "output_type": "execute_result"
    }
   ],
   "source": [
    "X_test_t.shape, X_train_t.shape"
   ]
  },
  {
   "cell_type": "markdown",
   "metadata": {},
   "source": [
    "## Keras"
   ]
  },
  {
   "cell_type": "code",
   "execution_count": 25,
   "metadata": {
    "scrolled": true
   },
   "outputs": [
    {
     "name": "stderr",
     "output_type": "stream",
     "text": [
      "Using TensorFlow backend.\n"
     ]
    },
    {
     "name": "stdout",
     "output_type": "stream",
     "text": [
      "Model: \"sequential_1\"\n",
      "_________________________________________________________________\n",
      "Layer (type)                 Output Shape              Param #   \n",
      "=================================================================\n",
      "lstm_1 (LSTM)                (None, None, 100)         40800     \n",
      "_________________________________________________________________\n",
      "dropout_1 (Dropout)          (None, None, 100)         0         \n",
      "_________________________________________________________________\n",
      "lstm_2 (LSTM)                (None, 100)               80400     \n",
      "_________________________________________________________________\n",
      "dropout_2 (Dropout)          (None, 100)               0         \n",
      "_________________________________________________________________\n",
      "dense_1 (Dense)              (None, 1)                 101       \n",
      "_________________________________________________________________\n",
      "activation_1 (Activation)    (None, 1)                 0         \n",
      "=================================================================\n",
      "Total params: 121,301\n",
      "Trainable params: 121,301\n",
      "Non-trainable params: 0\n",
      "_________________________________________________________________\n",
      "Epoch 1/200\n",
      "524/524 [==============================] - 3s 6ms/step - loss: 0.1087 - mape: 88.2425\n",
      "Epoch 2/200\n",
      "524/524 [==============================] - 0s 908us/step - loss: 0.0552 - mape: 59.7119\n",
      "Epoch 3/200\n",
      "524/524 [==============================] - 0s 914us/step - loss: 0.0454 - mape: 56.8108\n",
      "Epoch 4/200\n",
      "524/524 [==============================] - 1s 965us/step - loss: 0.0365 - mape: 52.1220\n",
      "Epoch 5/200\n",
      "524/524 [==============================] - 1s 963us/step - loss: 0.0344 - mape: 50.8323\n",
      "Epoch 6/200\n",
      "524/524 [==============================] - 0s 937us/step - loss: 0.0330 - mape: 48.2529\n",
      "Epoch 7/200\n",
      "524/524 [==============================] - 0s 934us/step - loss: 0.0315 - mape: 49.6359\n",
      "Epoch 8/200\n",
      "524/524 [==============================] - 1s 959us/step - loss: 0.0325 - mape: 49.7983\n",
      "Epoch 9/200\n",
      "524/524 [==============================] - 0s 935us/step - loss: 0.0279 - mape: 44.1716\n",
      "Epoch 10/200\n",
      "524/524 [==============================] - 0s 936us/step - loss: 0.0266 - mape: 46.7872\n",
      "Epoch 11/200\n",
      "524/524 [==============================] - 1s 960us/step - loss: 0.0278 - mape: 45.1090\n",
      "Epoch 12/200\n",
      "524/524 [==============================] - 0s 939us/step - loss: 0.0254 - mape: 44.8047\n",
      "Epoch 13/200\n",
      "524/524 [==============================] - 0s 944us/step - loss: 0.0251 - mape: 44.0798\n",
      "Epoch 14/200\n",
      "524/524 [==============================] - 0s 933us/step - loss: 0.0256 - mape: 44.7484\n",
      "Epoch 15/200\n",
      "524/524 [==============================] - 0s 922us/step - loss: 0.0260 - mape: 45.5303\n",
      "Epoch 16/200\n",
      "524/524 [==============================] - 0s 949us/step - loss: 0.0242 - mape: 44.1579\n",
      "Epoch 17/200\n",
      "524/524 [==============================] - 0s 924us/step - loss: 0.0253 - mape: 43.6881\n",
      "Epoch 18/200\n",
      "524/524 [==============================] - 0s 938us/step - loss: 0.0234 - mape: 44.4689\n",
      "Epoch 19/200\n",
      "524/524 [==============================] - 0s 928us/step - loss: 0.0223 - mape: 42.1261\n",
      "Epoch 20/200\n",
      "524/524 [==============================] - 0s 941us/step - loss: 0.0240 - mape: 43.6938\n",
      "Epoch 21/200\n",
      "524/524 [==============================] - 1s 974us/step - loss: 0.0220 - mape: 39.5761\n",
      "Epoch 22/200\n",
      "524/524 [==============================] - 0s 932us/step - loss: 0.0194 - mape: 39.5485\n",
      "Epoch 23/200\n",
      "524/524 [==============================] - 0s 935us/step - loss: 0.0195 - mape: 41.2671\n",
      "Epoch 24/200\n",
      "524/524 [==============================] - 0s 940us/step - loss: 0.0196 - mape: 37.7820\n",
      "Epoch 25/200\n",
      "524/524 [==============================] - 0s 936us/step - loss: 0.0212 - mape: 40.3679\n",
      "Epoch 26/200\n",
      "524/524 [==============================] - 0s 942us/step - loss: 0.0209 - mape: 38.9460\n",
      "Epoch 27/200\n",
      "524/524 [==============================] - 0s 951us/step - loss: 0.0204 - mape: 38.5373\n",
      "Epoch 00027: early stopping\n"
     ]
    }
   ],
   "source": [
    "from keras.models import Sequential\n",
    "from keras.layers import Dense\n",
    "\n",
    "from keras.layers.core import Dense, Activation, Dropout\n",
    "from keras.layers.recurrent import LSTM\n",
    "import keras.backend as K \n",
    "from keras.callbacks import EarlyStopping\n",
    "#import lstm, time\n",
    "\n",
    "model = Sequential()\n",
    "\n",
    "#model.add(Dense(50, activation='sigmoid', input_shape=(1,)))\n",
    "#model.add(LSTM(30, activation='sigmoid', input_shape=(None,1)))\n",
    "\n",
    "model.add(LSTM(100, activation='relu', return_sequences=True, input_shape=(None,1))) #rectified linear unit\n",
    "model.add(Dropout(0.2))\n",
    "model.add(LSTM(100, return_sequences=False))\n",
    "model.add(Dropout(0.2))\n",
    "model.add(Dense(1))\n",
    "model.add(Activation('linear'))\n",
    "\n",
    "model.summary()\n",
    "\n",
    "model.compile(optimizer='rmsprop', loss='mse', metrics=['mape']) \n",
    "#optimizer = 'adgrad', 'adam', 'sgd', 'rmsprop'\n",
    "#sgd - stochastic gradient descent\n",
    "#mse - mean square error\n",
    "#mape - mean absolute percentage error\n",
    "\n",
    "#history = model.fit(x_train, y_train, batch_size=10, epochs=200, validation_data=(x_valid, y_valid))\n",
    "\n",
    "early_stop = EarlyStopping(monitor='loss', patience=5, verbose=1)\n",
    "#checkpoint = ModelCheckpoint(filename, monitor='loss', verbose=0, save_best_only=True, mode='auto')\n",
    "\n",
    "\n",
    "history = model.fit(X_train_t, y_train, epochs=200, batch_size=10, verbose=1, callbacks=[early_stop])\n",
    "\n"
   ]
  },
  {
   "cell_type": "code",
   "execution_count": null,
   "metadata": {},
   "outputs": [],
   "source": []
  },
  {
   "cell_type": "code",
   "execution_count": 23,
   "metadata": {},
   "outputs": [
    {
     "data": {
      "image/png": "[encoded data removed]",
      "text/plain": [
       "<Figure size 432x288 with 1 Axes>"
      ]
     },
     "metadata": {
      "needs_background": "light"
     },
     "output_type": "display_data"
    }
   ],
   "source": [
    "for name, value in history.history.items():\n",
    "    plt.plot(value, label=name)\n",
    "plt.legend()\n",
    "plt.show()"
   ]
  },
  {
   "cell_type": "code",
   "execution_count": 24,
   "metadata": {},
   "outputs": [
    {
     "name": "stdout",
     "output_type": "stream",
     "text": [
      "\r",
      "20/20 [==============================] - 1s 30ms/step\n"
     ]
    }
   ],
   "source": [
    "## evaluate model\n",
    "\n",
    "#results = model.evaluate(x_test, y_test)\n",
    "\n",
    "results = model.evaluate(X_test_t, y_test)\n",
    "#print('Loss: {:.6f} - MAPE: {:.6f}'.format(*results))"
   ]
  },
  {
   "cell_type": "markdown",
   "metadata": {},
   "source": [
    "trainScore = model.evaluate(x_train, y_train, verbose=0)\n",
    "model.reset_states()\n",
    "print('Train Score: ', trainScore)\n",
    "valScore = model.evaluate(x_test, y_test, verbose=0)\n",
    "model.reset_states()\n",
    "print('Validataion Score: ', valScore)\n",
    "testScore = model.evaluate(x_test, y_test, verbose=0)\n",
    "model.reset_states()\n",
    "print('Test Score: ', testScore)"
   ]
  },
  {
   "cell_type": "code",
   "execution_count": 25,
   "metadata": {},
   "outputs": [
    {
     "name": "stdout",
     "output_type": "stream",
     "text": [
      "Train Score:  [0.0179128811887975, 233720.609375]\n",
      "Validataion Score:  [0.023933276534080505, 17.620174407958984]\n",
      "Test Score:  [0.023933276534080505, 17.620174407958984]\n"
     ]
    }
   ],
   "source": [
    "trainScore = model.evaluate(X_train_t, y_train, verbose=0)\n",
    "model.reset_states()\n",
    "print('Train Score: ', trainScore)\n",
    "valScore = model.evaluate(X_test_t, y_test, verbose=0)\n",
    "model.reset_states()\n",
    "print('Validataion Score: ', valScore)\n",
    "testScore = model.evaluate(X_test_t, y_test, verbose=0)\n",
    "model.reset_states()\n",
    "print('Test Score: ', testScore)"
   ]
  },
  {
   "cell_type": "code",
   "execution_count": 26,
   "metadata": {
    "scrolled": true
   },
   "outputs": [
    {
     "data": {
      "image/png": "[encoded data removed]",
      "text/plain": [
       "<Figure size 720x360 with 1 Axes>"
      ]
     },
     "metadata": {
      "needs_background": "light"
     },
     "output_type": "display_data"
    }
   ],
   "source": [
    "test_pred = model.predict(X_test_t)\n",
    "train_pred = model.predict(X_train_t)\n",
    "#train_pred = np.squeeze(train_pred)\n",
    "\n",
    "plt.figure(figsize=(10, 5))\n",
    "plt.plot(x_train, y_train, '.y', x_test, y_test, '.r',x_train, train_pred, '.b', x_test, test_pred, '.b')\n",
    "plt.show()"
   ]
  },
  {
   "cell_type": "code",
   "execution_count": 82,
   "metadata": {},
   "outputs": [
    {
     "data": {
      "text/plain": [
       "[<matplotlib.lines.Line2D at 0x7fbb33b66610>]"
      ]
     },
     "execution_count": 82,
     "metadata": {},
     "output_type": "execute_result"
    },
    {
     "data": {
      "image/png": "[encoded data removed]",
      "text/plain": [
       "<Figure size 432x288 with 1 Axes>"
      ]
     },
     "metadata": {
      "needs_background": "light"
     },
     "output_type": "display_data"
    }
   ],
   "source": [
    "plt.figure()\n",
    "plt.plot(test_pred)"
   ]
  },
  {
   "cell_type": "markdown",
   "metadata": {
    "scrolled": true
   },
   "source": [
    "for pred, true in zip(test_pred, y_test):\n",
    "    print('Pred: {:.6f} - True: {:.6f}'.format(pred,true))"
   ]
  },
  {
   "cell_type": "code",
   "execution_count": null,
   "metadata": {},
   "outputs": [],
   "source": []
  },
  {
   "cell_type": "markdown",
   "metadata": {},
   "source": [
    "Save model"
   ]
  },
  {
   "cell_type": "code",
   "execution_count": 27,
   "metadata": {},
   "outputs": [],
   "source": [
    "model_path = 'model.lstm_vusa'\n",
    "model.save(model_path)\n",
    "\n",
    "from keras.models import load_model\n",
    "\n",
    "loaded_model = load_model(model_path)"
   ]
  },
  {
   "cell_type": "code",
   "execution_count": 28,
   "metadata": {
    "scrolled": true
   },
   "outputs": [
    {
     "name": "stdout",
     "output_type": "stream",
     "text": [
      "Model: \"sequential_1\"\n",
      "_________________________________________________________________\n",
      "Layer (type)                 Output Shape              Param #   \n",
      "=================================================================\n",
      "lstm_1 (LSTM)                (None, None, 100)         40800     \n",
      "_________________________________________________________________\n",
      "dropout_1 (Dropout)          (None, None, 100)         0         \n",
      "_________________________________________________________________\n",
      "lstm_2 (LSTM)                (None, 100)               80400     \n",
      "_________________________________________________________________\n",
      "dropout_2 (Dropout)          (None, 100)               0         \n",
      "_________________________________________________________________\n",
      "dense_1 (Dense)              (None, 1)                 101       \n",
      "_________________________________________________________________\n",
      "activation_1 (Activation)    (None, 1)                 0         \n",
      "=================================================================\n",
      "Total params: 121,301\n",
      "Trainable params: 121,301\n",
      "Non-trainable params: 0\n",
      "_________________________________________________________________\n"
     ]
    }
   ],
   "source": [
    "loaded_model.summary()"
   ]
  },
  {
   "cell_type": "code",
   "execution_count": null,
   "metadata": {},
   "outputs": [],
   "source": []
  }
 ],
 "metadata": {
  "kernelspec": {
   "display_name": "Python 3",
   "language": "python",
   "name": "python3"
  },
  "language_info": {
   "codemirror_mode": {
    "name": "ipython",
    "version": 3
   },
   "file_extension": ".py",
   "mimetype": "text/x-python",
   "name": "python",
   "nbconvert_exporter": "python",
   "pygments_lexer": "ipython3",
   "version": "3.7.7"
  }
 },
 "nbformat": 4,
 "nbformat_minor": 4
}
