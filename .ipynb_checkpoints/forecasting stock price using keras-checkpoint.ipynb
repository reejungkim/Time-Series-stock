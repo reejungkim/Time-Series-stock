{
 "cells": [
  {
   "cell_type": "code",
   "execution_count": 1,
   "metadata": {},
   "outputs": [],
   "source": [
    "import pandas as pd\n",
    "import numpy as np\n",
    "import timeit\n",
    "import datetime as dt\n",
    "import matplotlib.pyplot as plt\n",
    "from matplotlib.backends.backend_pdf import PdfPages\n",
    "#import plotly.graph_objs as go\n",
    "%matplotlib inline"
   ]
  },
  {
   "cell_type": "code",
   "execution_count": 2,
   "metadata": {},
   "outputs": [],
   "source": [
    "from pandas_datareader import data as pdr"
   ]
  },
  {
   "cell_type": "code",
   "execution_count": 3,
   "metadata": {},
   "outputs": [],
   "source": [
    "days_to_extract = 1000\n",
    "days_to_forecast = 20"
   ]
  },
  {
   "cell_type": "code",
   "execution_count": 4,
   "metadata": {},
   "outputs": [],
   "source": [
    "date_end = dt.date.today()\n",
    "date_start = date_end - dt.timedelta(days_to_extract)"
   ]
  },
  {
   "cell_type": "code",
   "execution_count": 5,
   "metadata": {},
   "outputs": [
    {
     "data": {
      "text/plain": [
       "(datetime.date(2021, 1, 9), datetime.date(2018, 4, 15))"
      ]
     },
     "execution_count": 5,
     "metadata": {},
     "output_type": "execute_result"
    }
   ],
   "source": [
    "date_end, date_start"
   ]
  },
  {
   "cell_type": "code",
   "execution_count": 6,
   "metadata": {},
   "outputs": [],
   "source": [
    "df = pdr.DataReader(\"VUSA.L\", 'yahoo', date_start, date_end).reset_index()"
   ]
  },
  {
   "cell_type": "markdown",
   "metadata": {
    "scrolled": true
   },
   "source": [
    "df = df.loc[df['Date'].notnull()]"
   ]
  },
  {
   "cell_type": "code",
   "execution_count": 7,
   "metadata": {},
   "outputs": [
    {
     "data": {
      "text/html": [
       "<div>\n",
       "<style scoped>\n",
       "    .dataframe tbody tr th:only-of-type {\n",
       "        vertical-align: middle;\n",
       "    }\n",
       "\n",
       "    .dataframe tbody tr th {\n",
       "        vertical-align: top;\n",
       "    }\n",
       "\n",
       "    .dataframe thead th {\n",
       "        text-align: right;\n",
       "    }\n",
       "</style>\n",
       "<table border=\"1\" class=\"dataframe\">\n",
       "  <thead>\n",
       "    <tr style=\"text-align: right;\">\n",
       "      <th></th>\n",
       "      <th>Date</th>\n",
       "      <th>High</th>\n",
       "      <th>Low</th>\n",
       "      <th>Open</th>\n",
       "      <th>Close</th>\n",
       "      <th>Volume</th>\n",
       "      <th>Adj Close</th>\n",
       "    </tr>\n",
       "  </thead>\n",
       "  <tbody>\n",
       "    <tr>\n",
       "      <th>0</th>\n",
       "      <td>2018-04-16</td>\n",
       "      <td>35.570000</td>\n",
       "      <td>35.400002</td>\n",
       "      <td>35.529999</td>\n",
       "      <td>35.470001</td>\n",
       "      <td>177086.0</td>\n",
       "      <td>35.470001</td>\n",
       "    </tr>\n",
       "    <tr>\n",
       "      <th>1</th>\n",
       "      <td>2018-04-17</td>\n",
       "      <td>35.959999</td>\n",
       "      <td>35.529999</td>\n",
       "      <td>35.619999</td>\n",
       "      <td>35.919998</td>\n",
       "      <td>142133.0</td>\n",
       "      <td>35.919998</td>\n",
       "    </tr>\n",
       "    <tr>\n",
       "      <th>2</th>\n",
       "      <td>2018-04-18</td>\n",
       "      <td>36.340000</td>\n",
       "      <td>36.009998</td>\n",
       "      <td>36.009998</td>\n",
       "      <td>36.259998</td>\n",
       "      <td>244000.0</td>\n",
       "      <td>36.259998</td>\n",
       "    </tr>\n",
       "    <tr>\n",
       "      <th>3</th>\n",
       "      <td>2018-04-19</td>\n",
       "      <td>36.299999</td>\n",
       "      <td>35.959999</td>\n",
       "      <td>36.230000</td>\n",
       "      <td>36.040001</td>\n",
       "      <td>134814.0</td>\n",
       "      <td>36.040001</td>\n",
       "    </tr>\n",
       "    <tr>\n",
       "      <th>4</th>\n",
       "      <td>2018-04-20</td>\n",
       "      <td>36.459999</td>\n",
       "      <td>36.150002</td>\n",
       "      <td>36.369999</td>\n",
       "      <td>36.150002</td>\n",
       "      <td>151180.0</td>\n",
       "      <td>36.150002</td>\n",
       "    </tr>\n",
       "  </tbody>\n",
       "</table>\n",
       "</div>"
      ],
      "text/plain": [
       "        Date       High        Low       Open      Close    Volume  Adj Close\n",
       "0 2018-04-16  35.570000  35.400002  35.529999  35.470001  177086.0  35.470001\n",
       "1 2018-04-17  35.959999  35.529999  35.619999  35.919998  142133.0  35.919998\n",
       "2 2018-04-18  36.340000  36.009998  36.009998  36.259998  244000.0  36.259998\n",
       "3 2018-04-19  36.299999  35.959999  36.230000  36.040001  134814.0  36.040001\n",
       "4 2018-04-20  36.459999  36.150002  36.369999  36.150002  151180.0  36.150002"
      ]
     },
     "execution_count": 7,
     "metadata": {},
     "output_type": "execute_result"
    }
   ],
   "source": [
    "df.head()"
   ]
  },
  {
   "cell_type": "code",
   "execution_count": 8,
   "metadata": {},
   "outputs": [
    {
     "data": {
      "text/plain": [
       "Date         datetime64[ns]\n",
       "High                float64\n",
       "Low                 float64\n",
       "Open                float64\n",
       "Close               float64\n",
       "Volume              float64\n",
       "Adj Close           float64\n",
       "dtype: object"
      ]
     },
     "execution_count": 8,
     "metadata": {},
     "output_type": "execute_result"
    }
   ],
   "source": [
    "df.dtypes"
   ]
  },
  {
   "cell_type": "code",
   "execution_count": 9,
   "metadata": {},
   "outputs": [
    {
     "data": {
      "image/png": "[encoded data removed]",
      "text/plain": [
       "<Figure size 360x360 with 1 Axes>"
      ]
     },
     "metadata": {
      "needs_background": "light"
     },
     "output_type": "display_data"
    }
   ],
   "source": [
    "import matplotlib.pyplot as plt\n",
    "import seaborn as sns\n",
    "\n",
    "sns.relplot(x='Date', y='Close', kind='line', data=df).fig.autofmt_xdate()"
   ]
  },
  {
   "cell_type": "markdown",
   "metadata": {},
   "source": [
    "# preprocessing"
   ]
  },
  {
   "cell_type": "code",
   "execution_count": 10,
   "metadata": {},
   "outputs": [],
   "source": [
    "from sklearn import preprocessing\n",
    "from sklearn.preprocessing import MinMaxScaler\n",
    "\n",
    "#scaler = MinMaxScaler()\n",
    "scaler = MinMaxScaler(feature_range=(0, 1))\n",
    "le = preprocessing.LabelEncoder()"
   ]
  },
  {
   "cell_type": "code",
   "execution_count": 11,
   "metadata": {},
   "outputs": [],
   "source": [
    "df['Date encoded'] = le.fit_transform(df['Date'])"
   ]
  },
  {
   "cell_type": "code",
   "execution_count": 12,
   "metadata": {},
   "outputs": [],
   "source": [
    "days_cutoff = len(df) - days_to_forecast"
   ]
  },
  {
   "cell_type": "code",
   "execution_count": 13,
   "metadata": {},
   "outputs": [],
   "source": [
    "scaled_Close = scaler.fit_transform(df[['Close']])"
   ]
  },
  {
   "cell_type": "code",
   "execution_count": 14,
   "metadata": {},
   "outputs": [],
   "source": [
    "scaled_Close = np.squeeze(scaled_Close)"
   ]
  },
  {
   "cell_type": "code",
   "execution_count": 15,
   "metadata": {},
   "outputs": [
    {
     "data": {
      "text/plain": [
       "array([599, 600, 601, 602, 603, 604, 605, 606, 607, 608, 609, 610, 611,\n",
       "       612, 613, 614, 615, 616, 617, 618], dtype=object)"
      ]
     },
     "execution_count": 15,
     "metadata": {},
     "output_type": "execute_result"
    }
   ],
   "source": [
    "df.values[days_cutoff:, 7]"
   ]
  },
  {
   "cell_type": "code",
   "execution_count": 16,
   "metadata": {},
   "outputs": [],
   "source": [
    "x_train, y_train = df.values[:days_cutoff, 7], scaled_Close[:days_cutoff]\n",
    "x_test, y_test = df.values[days_cutoff:, 7], scaled_Close[days_cutoff:]"
   ]
  },
  {
   "cell_type": "markdown",
   "metadata": {},
   "source": [
    "x_train, y_train = df.values[:600, 0], scaled_Close[:600]\n",
    "x_test, y_test = df.values[600:, 0], scaled_Close[600:]"
   ]
  },
  {
   "cell_type": "code",
   "execution_count": 17,
   "metadata": {},
   "outputs": [
    {
     "data": {
      "text/plain": [
       "((599,), (20,))"
      ]
     },
     "execution_count": 17,
     "metadata": {},
     "output_type": "execute_result"
    }
   ],
   "source": [
    "x_train.shape, x_test.shape"
   ]
  },
  {
   "cell_type": "markdown",
   "metadata": {},
   "source": [
    "# split train data"
   ]
  },
  {
   "cell_type": "code",
   "execution_count": 18,
   "metadata": {},
   "outputs": [],
   "source": [
    "from sklearn.model_selection import train_test_split\n",
    "\n",
    "x_train, x_valid, y_train, y_valid = train_test_split(x_train, y_train, test_size=.2)\n"
   ]
  },
  {
   "cell_type": "markdown",
   "metadata": {},
   "source": [
    "# Reshape data in order to apply LSTML"
   ]
  },
  {
   "cell_type": "code",
   "execution_count": 19,
   "metadata": {},
   "outputs": [
    {
     "data": {
      "text/plain": [
       "((479,), (479,), (20,), (20,))"
      ]
     },
     "execution_count": 19,
     "metadata": {},
     "output_type": "execute_result"
    }
   ],
   "source": [
    "x_train.shape, y_train.shape, x_test.shape, y_test.shape"
   ]
  },
  {
   "cell_type": "code",
   "execution_count": 20,
   "metadata": {},
   "outputs": [],
   "source": [
    "\n",
    "X_train_t = x_train.reshape(x_train.shape[0], 1, 1)\n",
    "X_test_t = x_test.reshape(x_test.shape[0], 1, 1)"
   ]
  },
  {
   "cell_type": "code",
   "execution_count": 21,
   "metadata": {},
   "outputs": [
    {
     "data": {
      "text/plain": [
       "((20, 1, 1), (479, 1, 1))"
      ]
     },
     "execution_count": 21,
     "metadata": {},
     "output_type": "execute_result"
    }
   ],
   "source": [
    "X_test_t.shape, X_train_t.shape"
   ]
  },
  {
   "cell_type": "markdown",
   "metadata": {},
   "source": [
    "## Keras"
   ]
  },
  {
   "cell_type": "code",
   "execution_count": 22,
   "metadata": {
    "scrolled": true
   },
   "outputs": [
    {
     "name": "stderr",
     "output_type": "stream",
     "text": [
      "Using TensorFlow backend.\n",
      "/Users/reejungkim/opt/anaconda3/envs/myenv/lib/python3.7/site-packages/tensorflow/python/framework/dtypes.py:516: FutureWarning: Passing (type, 1) or '1type' as a synonym of type is deprecated; in a future version of numpy, it will be understood as (type, (1,)) / '(1,)type'.\n",
      "  _np_qint8 = np.dtype([(\"qint8\", np.int8, 1)])\n",
      "/Users/reejungkim/opt/anaconda3/envs/myenv/lib/python3.7/site-packages/tensorflow/python/framework/dtypes.py:517: FutureWarning: Passing (type, 1) or '1type' as a synonym of type is deprecated; in a future version of numpy, it will be understood as (type, (1,)) / '(1,)type'.\n",
      "  _np_quint8 = np.dtype([(\"quint8\", np.uint8, 1)])\n",
      "/Users/reejungkim/opt/anaconda3/envs/myenv/lib/python3.7/site-packages/tensorflow/python/framework/dtypes.py:518: FutureWarning: Passing (type, 1) or '1type' as a synonym of type is deprecated; in a future version of numpy, it will be understood as (type, (1,)) / '(1,)type'.\n",
      "  _np_qint16 = np.dtype([(\"qint16\", np.int16, 1)])\n",
      "/Users/reejungkim/opt/anaconda3/envs/myenv/lib/python3.7/site-packages/tensorflow/python/framework/dtypes.py:519: FutureWarning: Passing (type, 1) or '1type' as a synonym of type is deprecated; in a future version of numpy, it will be understood as (type, (1,)) / '(1,)type'.\n",
      "  _np_quint16 = np.dtype([(\"quint16\", np.uint16, 1)])\n",
      "/Users/reejungkim/opt/anaconda3/envs/myenv/lib/python3.7/site-packages/tensorflow/python/framework/dtypes.py:520: FutureWarning: Passing (type, 1) or '1type' as a synonym of type is deprecated; in a future version of numpy, it will be understood as (type, (1,)) / '(1,)type'.\n",
      "  _np_qint32 = np.dtype([(\"qint32\", np.int32, 1)])\n",
      "/Users/reejungkim/opt/anaconda3/envs/myenv/lib/python3.7/site-packages/tensorflow/python/framework/dtypes.py:525: FutureWarning: Passing (type, 1) or '1type' as a synonym of type is deprecated; in a future version of numpy, it will be understood as (type, (1,)) / '(1,)type'.\n",
      "  np_resource = np.dtype([(\"resource\", np.ubyte, 1)])\n",
      "/Users/reejungkim/opt/anaconda3/envs/myenv/lib/python3.7/site-packages/tensorboard/compat/tensorflow_stub/dtypes.py:541: FutureWarning: Passing (type, 1) or '1type' as a synonym of type is deprecated; in a future version of numpy, it will be understood as (type, (1,)) / '(1,)type'.\n",
      "  _np_qint8 = np.dtype([(\"qint8\", np.int8, 1)])\n",
      "/Users/reejungkim/opt/anaconda3/envs/myenv/lib/python3.7/site-packages/tensorboard/compat/tensorflow_stub/dtypes.py:542: FutureWarning: Passing (type, 1) or '1type' as a synonym of type is deprecated; in a future version of numpy, it will be understood as (type, (1,)) / '(1,)type'.\n",
      "  _np_quint8 = np.dtype([(\"quint8\", np.uint8, 1)])\n",
      "/Users/reejungkim/opt/anaconda3/envs/myenv/lib/python3.7/site-packages/tensorboard/compat/tensorflow_stub/dtypes.py:543: FutureWarning: Passing (type, 1) or '1type' as a synonym of type is deprecated; in a future version of numpy, it will be understood as (type, (1,)) / '(1,)type'.\n",
      "  _np_qint16 = np.dtype([(\"qint16\", np.int16, 1)])\n",
      "/Users/reejungkim/opt/anaconda3/envs/myenv/lib/python3.7/site-packages/tensorboard/compat/tensorflow_stub/dtypes.py:544: FutureWarning: Passing (type, 1) or '1type' as a synonym of type is deprecated; in a future version of numpy, it will be understood as (type, (1,)) / '(1,)type'.\n",
      "  _np_quint16 = np.dtype([(\"quint16\", np.uint16, 1)])\n",
      "/Users/reejungkim/opt/anaconda3/envs/myenv/lib/python3.7/site-packages/tensorboard/compat/tensorflow_stub/dtypes.py:545: FutureWarning: Passing (type, 1) or '1type' as a synonym of type is deprecated; in a future version of numpy, it will be understood as (type, (1,)) / '(1,)type'.\n",
      "  _np_qint32 = np.dtype([(\"qint32\", np.int32, 1)])\n",
      "/Users/reejungkim/opt/anaconda3/envs/myenv/lib/python3.7/site-packages/tensorboard/compat/tensorflow_stub/dtypes.py:550: FutureWarning: Passing (type, 1) or '1type' as a synonym of type is deprecated; in a future version of numpy, it will be understood as (type, (1,)) / '(1,)type'.\n",
      "  np_resource = np.dtype([(\"resource\", np.ubyte, 1)])\n"
     ]
    },
    {
     "name": "stdout",
     "output_type": "stream",
     "text": [
      "Model: \"sequential_1\"\n",
      "_________________________________________________________________\n",
      "Layer (type)                 Output Shape              Param #   \n",
      "=================================================================\n",
      "lstm_1 (LSTM)                (None, None, 100)         40800     \n",
      "_________________________________________________________________\n",
      "dropout_1 (Dropout)          (None, None, 100)         0         \n",
      "_________________________________________________________________\n",
      "lstm_2 (LSTM)                (None, 100)               80400     \n",
      "_________________________________________________________________\n",
      "dropout_2 (Dropout)          (None, 100)               0         \n",
      "_________________________________________________________________\n",
      "dense_1 (Dense)              (None, 1)                 101       \n",
      "_________________________________________________________________\n",
      "activation_1 (Activation)    (None, 1)                 0         \n",
      "=================================================================\n",
      "Total params: 121,301\n",
      "Trainable params: 121,301\n",
      "Non-trainable params: 0\n",
      "_________________________________________________________________\n",
      "WARNING:tensorflow:From /Users/reejungkim/opt/anaconda3/envs/myenv/lib/python3.7/site-packages/keras/backend/tensorflow_backend.py:422: The name tf.global_variables is deprecated. Please use tf.compat.v1.global_variables instead.\n",
      "\n",
      "Epoch 1/200\n",
      "479/479 [==============================] - 1s 1ms/step - loss: 0.0921 - mape: 34758.3594\n",
      "Epoch 2/200\n",
      "479/479 [==============================] - 0s 229us/step - loss: 0.0522 - mape: 33683.4766\n",
      "Epoch 3/200\n",
      "479/479 [==============================] - 0s 226us/step - loss: 0.0401 - mape: 65619.0078\n",
      "Epoch 4/200\n",
      "479/479 [==============================] - 0s 233us/step - loss: 0.0276 - mape: 71901.7266\n",
      "Epoch 5/200\n",
      "479/479 [==============================] - 0s 241us/step - loss: 0.0274 - mape: 84690.5625\n",
      "Epoch 6/200\n",
      "479/479 [==============================] - 0s 242us/step - loss: 0.0234 - mape: 92987.2031\n",
      "Epoch 7/200\n",
      "479/479 [==============================] - 0s 242us/step - loss: 0.0211 - mape: 100168.1172\n",
      "Epoch 8/200\n",
      "479/479 [==============================] - 0s 241us/step - loss: 0.0230 - mape: 105602.9844\n",
      "Epoch 9/200\n",
      "479/479 [==============================] - 0s 243us/step - loss: 0.0202 - mape: 94153.3438\n",
      "Epoch 10/200\n",
      "479/479 [==============================] - 0s 246us/step - loss: 0.0177 - mape: 92633.8594\n",
      "Epoch 11/200\n",
      "479/479 [==============================] - 0s 247us/step - loss: 0.0185 - mape: 123569.3125\n",
      "Epoch 12/200\n",
      "479/479 [==============================] - 0s 234us/step - loss: 0.0171 - mape: 108583.6172\n",
      "Epoch 13/200\n",
      "479/479 [==============================] - 0s 241us/step - loss: 0.0159 - mape: 110346.2109\n",
      "Epoch 14/200\n",
      "479/479 [==============================] - 0s 234us/step - loss: 0.0164 - mape: 120597.4219\n",
      "Epoch 15/200\n",
      "479/479 [==============================] - 0s 240us/step - loss: 0.0187 - mape: 118688.3984\n",
      "Epoch 16/200\n",
      "479/479 [==============================] - 0s 243us/step - loss: 0.0157 - mape: 113723.9297\n",
      "Epoch 17/200\n",
      "479/479 [==============================] - 0s 239us/step - loss: 0.0159 - mape: 86718.9609\n",
      "Epoch 18/200\n",
      "479/479 [==============================] - 0s 241us/step - loss: 0.0146 - mape: 103884.5625\n",
      "Epoch 19/200\n",
      "479/479 [==============================] - 0s 240us/step - loss: 0.0140 - mape: 118236.3828\n",
      "Epoch 20/200\n",
      "479/479 [==============================] - 0s 246us/step - loss: 0.0144 - mape: 86851.9922\n",
      "Epoch 21/200\n",
      "479/479 [==============================] - 0s 244us/step - loss: 0.0136 - mape: 110589.1250\n",
      "Epoch 22/200\n",
      "479/479 [==============================] - 0s 248us/step - loss: 0.0160 - mape: 113900.8359\n",
      "Epoch 23/200\n",
      "479/479 [==============================] - 0s 238us/step - loss: 0.0148 - mape: 92968.8672\n",
      "Epoch 24/200\n",
      "479/479 [==============================] - 0s 271us/step - loss: 0.0131 - mape: 88454.8203\n",
      "Epoch 25/200\n",
      "479/479 [==============================] - 0s 242us/step - loss: 0.0148 - mape: 112705.4922\n",
      "Epoch 26/200\n",
      "479/479 [==============================] - 0s 237us/step - loss: 0.0133 - mape: 119550.0703\n",
      "Epoch 27/200\n",
      "479/479 [==============================] - 0s 241us/step - loss: 0.0137 - mape: 137367.9688\n",
      "Epoch 28/200\n",
      "479/479 [==============================] - 0s 247us/step - loss: 0.0128 - mape: 133513.7656\n",
      "Epoch 29/200\n",
      "479/479 [==============================] - 0s 243us/step - loss: 0.0139 - mape: 102030.9062\n",
      "Epoch 30/200\n",
      "479/479 [==============================] - 0s 247us/step - loss: 0.0138 - mape: 112765.4062\n",
      "Epoch 31/200\n",
      "479/479 [==============================] - 0s 232us/step - loss: 0.0130 - mape: 115937.0859\n",
      "Epoch 32/200\n",
      "479/479 [==============================] - 0s 237us/step - loss: 0.0133 - mape: 104258.5859\n",
      "Epoch 33/200\n",
      "479/479 [==============================] - 0s 250us/step - loss: 0.0124 - mape: 139970.2812\n",
      "Epoch 34/200\n",
      "479/479 [==============================] - 0s 241us/step - loss: 0.0139 - mape: 115250.8906\n",
      "Epoch 35/200\n",
      "479/479 [==============================] - 0s 237us/step - loss: 0.0136 - mape: 145683.8438\n",
      "Epoch 36/200\n",
      "479/479 [==============================] - 0s 254us/step - loss: 0.0113 - mape: 122283.6875\n",
      "Epoch 37/200\n",
      "479/479 [==============================] - 0s 249us/step - loss: 0.0122 - mape: 174460.2344\n",
      "Epoch 38/200\n",
      "479/479 [==============================] - 0s 249us/step - loss: 0.0125 - mape: 143336.8906\n",
      "Epoch 39/200\n",
      "479/479 [==============================] - 0s 240us/step - loss: 0.0119 - mape: 179833.3906\n",
      "Epoch 40/200\n",
      "479/479 [==============================] - 0s 238us/step - loss: 0.0124 - mape: 155878.7344\n",
      "Epoch 41/200\n",
      "479/479 [==============================] - 0s 237us/step - loss: 0.0124 - mape: 140771.1562\n",
      "Epoch 00041: early stopping\n"
     ]
    }
   ],
   "source": [
    "from keras.models import Sequential\n",
    "from keras.layers import Dense\n",
    "\n",
    "from keras.layers.core import Dense, Activation, Dropout\n",
    "from keras.layers.recurrent import LSTM\n",
    "import keras.backend as K \n",
    "from keras.callbacks import EarlyStopping\n",
    "#import lstm, time\n",
    "\n",
    "model = Sequential()\n",
    "\n",
    "#model.add(Dense(50, activation='sigmoid', input_shape=(1,)))\n",
    "#model.add(LSTM(30, activation='sigmoid', input_shape=(None,1)))\n",
    "\n",
    "model.add(LSTM(100, activation='relu', return_sequences=True, input_shape=(None,1))) #rectified linear unit\n",
    "model.add(Dropout(0.2))\n",
    "model.add(LSTM(100, return_sequences=False))\n",
    "model.add(Dropout(0.2))\n",
    "model.add(Dense(1))\n",
    "model.add(Activation('linear'))\n",
    "\n",
    "model.summary()\n",
    "\n",
    "model.compile(optimizer='rmsprop', loss='mse', metrics=['mape']) \n",
    "#optimizer = 'adgrad', 'adam', 'sgd', 'rmsprop'\n",
    "#sgd - stochastic gradient descent\n",
    "#mse - mean square error\n",
    "#mape - mean absolute percentage error\n",
    "\n",
    "#history = model.fit(x_train, y_train, batch_size=10, epochs=200, validation_data=(x_valid, y_valid))\n",
    "\n",
    "early_stop = EarlyStopping(monitor='loss', patience=5, verbose=1)\n",
    "#checkpoint = ModelCheckpoint(filename, monitor='loss', verbose=0, save_best_only=True, mode='auto')\n",
    "\n",
    "\n",
    "history = model.fit(X_train_t, y_train, epochs=200, batch_size=10, verbose=1, callbacks=[early_stop])\n",
    "\n"
   ]
  },
  {
   "cell_type": "code",
   "execution_count": null,
   "metadata": {},
   "outputs": [],
   "source": []
  },
  {
   "cell_type": "code",
   "execution_count": 23,
   "metadata": {},
   "outputs": [
    {
     "data": {
      "image/png": "[encoded data removed]",
      "text/plain": [
       "<Figure size 432x288 with 1 Axes>"
      ]
     },
     "metadata": {
      "needs_background": "light"
     },
     "output_type": "display_data"
    }
   ],
   "source": [
    "for name, value in history.history.items():\n",
    "    plt.plot(value, label=name)\n",
    "plt.legend()\n",
    "plt.show()"
   ]
  },
  {
   "cell_type": "code",
   "execution_count": 24,
   "metadata": {},
   "outputs": [
    {
     "name": "stdout",
     "output_type": "stream",
     "text": [
      "\r",
      "20/20 [==============================] - 0s 5ms/step\n"
     ]
    }
   ],
   "source": [
    "## evaluate model\n",
    "results = model.evaluate(X_test_t, y_test)\n",
    "#print('Loss: {:.6f} - MAPE: {:.6f}'.format(*results))"
   ]
  },
  {
   "cell_type": "markdown",
   "metadata": {},
   "source": [
    "trainScore = model.evaluate(x_train, y_train, verbose=0)\n",
    "model.reset_states()\n",
    "print('Train Score: ', trainScore)\n",
    "valScore = model.evaluate(x_test, y_test, verbose=0)\n",
    "model.reset_states()\n",
    "print('Validataion Score: ', valScore)\n",
    "testScore = model.evaluate(x_test, y_test, verbose=0)\n",
    "model.reset_states()\n",
    "print('Test Score: ', testScore)"
   ]
  },
  {
   "cell_type": "code",
   "execution_count": 25,
   "metadata": {},
   "outputs": [
    {
     "name": "stdout",
     "output_type": "stream",
     "text": [
      "Train Score:  [0.010884447174928383, 144478.890625]\n",
      "Validataion Score:  [0.0693519189953804, 29.212688446044922]\n",
      "Test Score:  [0.0693519189953804, 29.212688446044922]\n"
     ]
    }
   ],
   "source": [
    "trainScore = model.evaluate(X_train_t, y_train, verbose=0)\n",
    "model.reset_states()\n",
    "print('Train Score: ', trainScore)\n",
    "valScore = model.evaluate(X_test_t, y_test, verbose=0)\n",
    "model.reset_states()\n",
    "print('Validataion Score: ', valScore)\n",
    "testScore = model.evaluate(X_test_t, y_test, verbose=0)\n",
    "model.reset_states()\n",
    "print('Test Score: ', testScore)"
   ]
  },
  {
   "cell_type": "code",
   "execution_count": 30,
   "metadata": {
    "scrolled": true
   },
   "outputs": [
    {
     "data": {
      "image/png": "[encoded data removed]",
      "text/plain": [
       "<Figure size 720x360 with 1 Axes>"
      ]
     },
     "metadata": {
      "needs_background": "light"
     },
     "output_type": "display_data"
    }
   ],
   "source": [
    "test_pred = model.predict(X_test_t)\n",
    "train_pred = model.predict(X_train_t)\n",
    "#train_pred = np.squeeze(train_pred)\n",
    "\n",
    "plt.figure(figsize=(10, 5))\n",
    "plt.plot(x_train, y_train, '.y', x_test, y_test, '.r',x_train, train_pred, '.b', x_test, test_pred, '.b')\n",
    "plt.show()"
   ]
  },
  {
   "cell_type": "code",
   "execution_count": 31,
   "metadata": {},
   "outputs": [
    {
     "data": {
      "text/plain": [
       "[<matplotlib.lines.Line2D at 0x7fcbf4200da0>]"
      ]
     },
     "execution_count": 31,
     "metadata": {},
     "output_type": "execute_result"
    },
    {
     "data": {
      "image/png": "[encoded data removed]",
      "text/plain": [
       "<Figure size 432x288 with 1 Axes>"
      ]
     },
     "metadata": {
      "needs_background": "light"
     },
     "output_type": "display_data"
    }
   ],
   "source": [
    "plt.figure()\n",
    "plt.plot(test_pred)"
   ]
  },
  {
   "cell_type": "markdown",
   "metadata": {
    "scrolled": true
   },
   "source": [
    "for pred, true in zip(test_pred, y_test):\n",
    "    print('Pred: {:.6f} - True: {:.6f}'.format(pred,true))"
   ]
  },
  {
   "cell_type": "code",
   "execution_count": null,
   "metadata": {},
   "outputs": [],
   "source": []
  },
  {
   "cell_type": "markdown",
   "metadata": {},
   "source": [
    "Save model"
   ]
  },
  {
   "cell_type": "code",
   "execution_count": 28,
   "metadata": {},
   "outputs": [],
   "source": [
    "model_path = 'model.lstm_vusa'\n",
    "model.save(model_path)\n",
    "\n",
    "from keras.models import load_model\n",
    "\n",
    "loaded_model = load_model(model_path)"
   ]
  },
  {
   "cell_type": "code",
   "execution_count": 29,
   "metadata": {
    "scrolled": true
   },
   "outputs": [
    {
     "name": "stdout",
     "output_type": "stream",
     "text": [
      "Model: \"sequential_1\"\n",
      "_________________________________________________________________\n",
      "Layer (type)                 Output Shape              Param #   \n",
      "=================================================================\n",
      "lstm_1 (LSTM)                (None, None, 100)         40800     \n",
      "_________________________________________________________________\n",
      "dropout_1 (Dropout)          (None, None, 100)         0         \n",
      "_________________________________________________________________\n",
      "lstm_2 (LSTM)                (None, 100)               80400     \n",
      "_________________________________________________________________\n",
      "dropout_2 (Dropout)          (None, 100)               0         \n",
      "_________________________________________________________________\n",
      "dense_1 (Dense)              (None, 1)                 101       \n",
      "_________________________________________________________________\n",
      "activation_1 (Activation)    (None, 1)                 0         \n",
      "=================================================================\n",
      "Total params: 121,301\n",
      "Trainable params: 121,301\n",
      "Non-trainable params: 0\n",
      "_________________________________________________________________\n"
     ]
    }
   ],
   "source": [
    "loaded_model.summary()"
   ]
  },
  {
   "cell_type": "code",
   "execution_count": null,
   "metadata": {},
   "outputs": [],
   "source": []
  }
 ],
 "metadata": {
  "kernelspec": {
   "display_name": "Python 3",
   "language": "python",
   "name": "python3"
  },
  "language_info": {
   "codemirror_mode": {
    "name": "ipython",
    "version": 3
   },
   "file_extension": ".py",
   "mimetype": "text/x-python",
   "name": "python",
   "nbconvert_exporter": "python",
   "pygments_lexer": "ipython3",
   "version": "3.7.0"
  }
 },
 "nbformat": 4,
 "nbformat_minor": 4
}
