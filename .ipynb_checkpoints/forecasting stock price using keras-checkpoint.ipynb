{
 "cells": [
  {
   "cell_type": "code",
   "execution_count": 1,
   "metadata": {},
   "outputs": [],
   "source": [
    "import pandas as pd\n",
    "import numpy as np\n",
    "import timeit\n",
    "import datetime as dt\n",
    "import matplotlib.pyplot as plt\n",
    "from matplotlib.backends.backend_pdf import PdfPages\n",
    "#import plotly.graph_objs as go\n",
    "%matplotlib inline"
   ]
  },
  {
   "cell_type": "code",
   "execution_count": 2,
   "metadata": {},
   "outputs": [
    {
     "name": "stderr",
     "output_type": "stream",
     "text": [
      "/Users/reejungkim/opt/anaconda3/envs/myenv/lib/python3.7/site-packages/pandas_datareader/compat/__init__.py:7: FutureWarning: pandas.util.testing is deprecated. Use the functions in the public API at pandas.testing instead.\n",
      "  from pandas.util.testing import assert_frame_equal\n"
     ]
    }
   ],
   "source": [
    "from pandas_datareader import data as pdr"
   ]
  },
  {
   "cell_type": "code",
   "execution_count": 3,
   "metadata": {},
   "outputs": [],
   "source": [
    "days_to_extract = 1000\n",
    "days_to_forecast = 20"
   ]
  },
  {
   "cell_type": "code",
   "execution_count": 4,
   "metadata": {},
   "outputs": [],
   "source": [
    "date_end = dt.date.today()\n",
    "date_start = date_end - dt.timedelta(days_to_extract)"
   ]
  },
  {
   "cell_type": "code",
   "execution_count": 5,
   "metadata": {},
   "outputs": [
    {
     "data": {
      "text/plain": [
       "(datetime.date(2020, 7, 1), datetime.date(2017, 10, 5))"
      ]
     },
     "execution_count": 5,
     "metadata": {},
     "output_type": "execute_result"
    }
   ],
   "source": [
    "date_end, date_start"
   ]
  },
  {
   "cell_type": "code",
   "execution_count": null,
   "metadata": {},
   "outputs": [],
   "source": []
  },
  {
   "cell_type": "code",
   "execution_count": 6,
   "metadata": {},
   "outputs": [],
   "source": [
    "df = pdr.DataReader(\"AAPL\", 'yahoo', date_start, date_end).reset_index()"
   ]
  },
  {
   "cell_type": "markdown",
   "metadata": {
    "scrolled": true
   },
   "source": [
    "df = df.loc[df['Date'].notnull()]"
   ]
  },
  {
   "cell_type": "code",
   "execution_count": 8,
   "metadata": {},
   "outputs": [
    {
     "data": {
      "text/html": [
       "<div>\n",
       "<style scoped>\n",
       "    .dataframe tbody tr th:only-of-type {\n",
       "        vertical-align: middle;\n",
       "    }\n",
       "\n",
       "    .dataframe tbody tr th {\n",
       "        vertical-align: top;\n",
       "    }\n",
       "\n",
       "    .dataframe thead th {\n",
       "        text-align: right;\n",
       "    }\n",
       "</style>\n",
       "<table border=\"1\" class=\"dataframe\">\n",
       "  <thead>\n",
       "    <tr style=\"text-align: right;\">\n",
       "      <th></th>\n",
       "      <th>Date</th>\n",
       "      <th>High</th>\n",
       "      <th>Low</th>\n",
       "      <th>Open</th>\n",
       "      <th>Close</th>\n",
       "      <th>Volume</th>\n",
       "      <th>Adj Close</th>\n",
       "    </tr>\n",
       "  </thead>\n",
       "  <tbody>\n",
       "    <tr>\n",
       "      <th>0</th>\n",
       "      <td>2017-10-05</td>\n",
       "      <td>155.440002</td>\n",
       "      <td>154.050003</td>\n",
       "      <td>154.179993</td>\n",
       "      <td>155.389999</td>\n",
       "      <td>21283800.0</td>\n",
       "      <td>149.524597</td>\n",
       "    </tr>\n",
       "    <tr>\n",
       "      <th>1</th>\n",
       "      <td>2017-10-06</td>\n",
       "      <td>155.490005</td>\n",
       "      <td>154.559998</td>\n",
       "      <td>154.970001</td>\n",
       "      <td>155.300003</td>\n",
       "      <td>17407600.0</td>\n",
       "      <td>149.437988</td>\n",
       "    </tr>\n",
       "    <tr>\n",
       "      <th>2</th>\n",
       "      <td>2017-10-09</td>\n",
       "      <td>156.729996</td>\n",
       "      <td>155.490005</td>\n",
       "      <td>155.809998</td>\n",
       "      <td>155.839996</td>\n",
       "      <td>16262900.0</td>\n",
       "      <td>149.957611</td>\n",
       "    </tr>\n",
       "    <tr>\n",
       "      <th>3</th>\n",
       "      <td>2017-10-10</td>\n",
       "      <td>158.000000</td>\n",
       "      <td>155.100006</td>\n",
       "      <td>156.059998</td>\n",
       "      <td>155.899994</td>\n",
       "      <td>15617000.0</td>\n",
       "      <td>150.015335</td>\n",
       "    </tr>\n",
       "    <tr>\n",
       "      <th>4</th>\n",
       "      <td>2017-10-11</td>\n",
       "      <td>156.979996</td>\n",
       "      <td>155.750000</td>\n",
       "      <td>155.970001</td>\n",
       "      <td>156.550003</td>\n",
       "      <td>16905600.0</td>\n",
       "      <td>150.640839</td>\n",
       "    </tr>\n",
       "    <tr>\n",
       "      <th>...</th>\n",
       "      <td>...</td>\n",
       "      <td>...</td>\n",
       "      <td>...</td>\n",
       "      <td>...</td>\n",
       "      <td>...</td>\n",
       "      <td>...</td>\n",
       "      <td>...</td>\n",
       "    </tr>\n",
       "    <tr>\n",
       "      <th>683</th>\n",
       "      <td>2020-06-24</td>\n",
       "      <td>368.790009</td>\n",
       "      <td>358.519989</td>\n",
       "      <td>365.000000</td>\n",
       "      <td>360.059998</td>\n",
       "      <td>48155800.0</td>\n",
       "      <td>360.059998</td>\n",
       "    </tr>\n",
       "    <tr>\n",
       "      <th>684</th>\n",
       "      <td>2020-06-25</td>\n",
       "      <td>365.000000</td>\n",
       "      <td>357.570007</td>\n",
       "      <td>360.700012</td>\n",
       "      <td>364.839996</td>\n",
       "      <td>34380600.0</td>\n",
       "      <td>364.839996</td>\n",
       "    </tr>\n",
       "    <tr>\n",
       "      <th>685</th>\n",
       "      <td>2020-06-26</td>\n",
       "      <td>365.320007</td>\n",
       "      <td>353.019989</td>\n",
       "      <td>364.410004</td>\n",
       "      <td>353.630005</td>\n",
       "      <td>51314200.0</td>\n",
       "      <td>353.630005</td>\n",
       "    </tr>\n",
       "    <tr>\n",
       "      <th>686</th>\n",
       "      <td>2020-06-29</td>\n",
       "      <td>362.170013</td>\n",
       "      <td>351.279999</td>\n",
       "      <td>353.250000</td>\n",
       "      <td>361.779999</td>\n",
       "      <td>32661500.0</td>\n",
       "      <td>361.779999</td>\n",
       "    </tr>\n",
       "    <tr>\n",
       "      <th>687</th>\n",
       "      <td>2020-06-30</td>\n",
       "      <td>365.980011</td>\n",
       "      <td>360.000000</td>\n",
       "      <td>360.079987</td>\n",
       "      <td>364.799988</td>\n",
       "      <td>35024100.0</td>\n",
       "      <td>364.799988</td>\n",
       "    </tr>\n",
       "  </tbody>\n",
       "</table>\n",
       "<p>688 rows × 7 columns</p>\n",
       "</div>"
      ],
      "text/plain": [
       "          Date        High         Low        Open       Close      Volume  \\\n",
       "0   2017-10-05  155.440002  154.050003  154.179993  155.389999  21283800.0   \n",
       "1   2017-10-06  155.490005  154.559998  154.970001  155.300003  17407600.0   \n",
       "2   2017-10-09  156.729996  155.490005  155.809998  155.839996  16262900.0   \n",
       "3   2017-10-10  158.000000  155.100006  156.059998  155.899994  15617000.0   \n",
       "4   2017-10-11  156.979996  155.750000  155.970001  156.550003  16905600.0   \n",
       "..         ...         ...         ...         ...         ...         ...   \n",
       "683 2020-06-24  368.790009  358.519989  365.000000  360.059998  48155800.0   \n",
       "684 2020-06-25  365.000000  357.570007  360.700012  364.839996  34380600.0   \n",
       "685 2020-06-26  365.320007  353.019989  364.410004  353.630005  51314200.0   \n",
       "686 2020-06-29  362.170013  351.279999  353.250000  361.779999  32661500.0   \n",
       "687 2020-06-30  365.980011  360.000000  360.079987  364.799988  35024100.0   \n",
       "\n",
       "      Adj Close  \n",
       "0    149.524597  \n",
       "1    149.437988  \n",
       "2    149.957611  \n",
       "3    150.015335  \n",
       "4    150.640839  \n",
       "..          ...  \n",
       "683  360.059998  \n",
       "684  364.839996  \n",
       "685  353.630005  \n",
       "686  361.779999  \n",
       "687  364.799988  \n",
       "\n",
       "[688 rows x 7 columns]"
      ]
     },
     "execution_count": 8,
     "metadata": {},
     "output_type": "execute_result"
    }
   ],
   "source": [
    "df"
   ]
  },
  {
   "cell_type": "code",
   "execution_count": 9,
   "metadata": {},
   "outputs": [
    {
     "data": {
      "text/plain": [
       "Date         datetime64[ns]\n",
       "High                float64\n",
       "Low                 float64\n",
       "Open                float64\n",
       "Close               float64\n",
       "Volume              float64\n",
       "Adj Close           float64\n",
       "dtype: object"
      ]
     },
     "execution_count": 9,
     "metadata": {},
     "output_type": "execute_result"
    }
   ],
   "source": [
    "df.dtypes"
   ]
  },
  {
   "cell_type": "code",
   "execution_count": 10,
   "metadata": {},
   "outputs": [
    {
     "data": {
      "image/png": "[encoded data removed]",
      "text/plain": [
       "<Figure size 360x360 with 1 Axes>"
      ]
     },
     "metadata": {
      "needs_background": "light"
     },
     "output_type": "display_data"
    }
   ],
   "source": [
    "import matplotlib.pyplot as plt\n",
    "import seaborn as sns\n",
    "\n",
    "sns.relplot(x='Date', y='Close', kind='line', data=df).fig.autofmt_xdate()"
   ]
  },
  {
   "cell_type": "markdown",
   "metadata": {},
   "source": [
    "# preprocessing"
   ]
  },
  {
   "cell_type": "code",
   "execution_count": 11,
   "metadata": {},
   "outputs": [],
   "source": [
    "from sklearn import preprocessing\n",
    "from sklearn.preprocessing import MinMaxScaler\n",
    "\n",
    "#scaler = MinMaxScaler()\n",
    "scaler = MinMaxScaler(feature_range=(0, 1))\n",
    "le = preprocessing.LabelEncoder()"
   ]
  },
  {
   "cell_type": "code",
   "execution_count": 12,
   "metadata": {},
   "outputs": [],
   "source": [
    "df['Date encoded'] = le.fit_transform(df['Date'])"
   ]
  },
  {
   "cell_type": "code",
   "execution_count": 13,
   "metadata": {},
   "outputs": [],
   "source": [
    "days_cutoff = len(df) - days_to_forecast"
   ]
  },
  {
   "cell_type": "code",
   "execution_count": 14,
   "metadata": {},
   "outputs": [],
   "source": [
    "scaled_Close = scaler.fit_transform(df[['Close']])"
   ]
  },
  {
   "cell_type": "code",
   "execution_count": 15,
   "metadata": {},
   "outputs": [],
   "source": [
    "scaled_Close = np.squeeze(scaled_Close)"
   ]
  },
  {
   "cell_type": "code",
   "execution_count": 16,
   "metadata": {},
   "outputs": [
    {
     "data": {
      "text/plain": [
       "array([668, 669, 670, 671, 672, 673, 674, 675, 676, 677, 678, 679, 680,\n",
       "       681, 682, 683, 684, 685, 686, 687], dtype=object)"
      ]
     },
     "execution_count": 16,
     "metadata": {},
     "output_type": "execute_result"
    }
   ],
   "source": [
    "df.values[days_cutoff:, 7]"
   ]
  },
  {
   "cell_type": "code",
   "execution_count": 17,
   "metadata": {},
   "outputs": [],
   "source": [
    "x_train, y_train = df.values[:days_cutoff, 7], scaled_Close[:days_cutoff]\n",
    "x_test, y_test = df.values[days_cutoff:, 7], scaled_Close[days_cutoff:]"
   ]
  },
  {
   "cell_type": "markdown",
   "metadata": {},
   "source": [
    "x_train, y_train = df.values[:600, 0], scaled_Close[:600]\n",
    "x_test, y_test = df.values[600:, 0], scaled_Close[600:]"
   ]
  },
  {
   "cell_type": "code",
   "execution_count": 18,
   "metadata": {},
   "outputs": [
    {
     "data": {
      "text/plain": [
       "((668,), (20,))"
      ]
     },
     "execution_count": 18,
     "metadata": {},
     "output_type": "execute_result"
    }
   ],
   "source": [
    "x_train.shape, x_test.shape"
   ]
  },
  {
   "cell_type": "markdown",
   "metadata": {},
   "source": [
    "# split train data"
   ]
  },
  {
   "cell_type": "code",
   "execution_count": 19,
   "metadata": {},
   "outputs": [],
   "source": [
    "from sklearn.model_selection import train_test_split\n",
    "\n",
    "x_train, x_valid, y_train, y_valid = train_test_split(x_train, y_train, test_size=.2)\n"
   ]
  },
  {
   "cell_type": "markdown",
   "metadata": {},
   "source": [
    "# Reshape data in order to apply LSTML"
   ]
  },
  {
   "cell_type": "code",
   "execution_count": 20,
   "metadata": {},
   "outputs": [
    {
     "data": {
      "text/plain": [
       "((534,), (534,), (20,), (20,))"
      ]
     },
     "execution_count": 20,
     "metadata": {},
     "output_type": "execute_result"
    }
   ],
   "source": [
    "x_train.shape, y_train.shape, x_test.shape, y_test.shape"
   ]
  },
  {
   "cell_type": "code",
   "execution_count": 21,
   "metadata": {},
   "outputs": [],
   "source": [
    "\n",
    "X_train_t = x_train.reshape(x_train.shape[0], 1, 1)\n",
    "X_test_t = x_test.reshape(x_test.shape[0], 1, 1)"
   ]
  },
  {
   "cell_type": "code",
   "execution_count": 22,
   "metadata": {},
   "outputs": [
    {
     "data": {
      "text/plain": [
       "((20, 1, 1), (534, 1, 1))"
      ]
     },
     "execution_count": 22,
     "metadata": {},
     "output_type": "execute_result"
    }
   ],
   "source": [
    "X_test_t.shape, X_train_t.shape"
   ]
  },
  {
   "cell_type": "markdown",
   "metadata": {},
   "source": [
    "## Keras"
   ]
  },
  {
   "cell_type": "code",
   "execution_count": 78,
   "metadata": {
    "scrolled": true
   },
   "outputs": [
    {
     "name": "stdout",
     "output_type": "stream",
     "text": [
      "Model: \"sequential_16\"\n",
      "_________________________________________________________________\n",
      "Layer (type)                 Output Shape              Param #   \n",
      "=================================================================\n",
      "lstm_23 (LSTM)               (None, None, 100)         40800     \n",
      "_________________________________________________________________\n",
      "dropout_10 (Dropout)         (None, None, 100)         0         \n",
      "_________________________________________________________________\n",
      "lstm_24 (LSTM)               (None, 100)               80400     \n",
      "_________________________________________________________________\n",
      "dropout_11 (Dropout)         (None, 100)               0         \n",
      "_________________________________________________________________\n",
      "dense_14 (Dense)             (None, 1)                 101       \n",
      "_________________________________________________________________\n",
      "activation_3 (Activation)    (None, 1)                 0         \n",
      "=================================================================\n",
      "Total params: 121,301\n",
      "Trainable params: 121,301\n",
      "Non-trainable params: 0\n",
      "_________________________________________________________________\n",
      "Epoch 1/200\n",
      "534/534 [==============================] - 3s 6ms/step - loss: 0.1138 - mape: 993397.7500\n",
      "Epoch 2/200\n",
      "534/534 [==============================] - 0s 935us/step - loss: 0.0791 - mape: 475677.9062\n",
      "Epoch 3/200\n",
      "534/534 [==============================] - 1s 963us/step - loss: 0.0571 - mape: 340940.1562\n",
      "Epoch 4/200\n",
      "534/534 [==============================] - 1s 952us/step - loss: 0.0405 - mape: 561336.1875\n",
      "Epoch 5/200\n",
      "534/534 [==============================] - 1s 946us/step - loss: 0.0324 - mape: 222227.6719\n",
      "Epoch 6/200\n",
      "534/534 [==============================] - 1s 961us/step - loss: 0.0328 - mape: 286524.7812\n",
      "Epoch 7/200\n",
      "534/534 [==============================] - 1s 974us/step - loss: 0.0274 - mape: 447877.5312\n",
      "Epoch 8/200\n",
      "534/534 [==============================] - 1s 992us/step - loss: 0.0214 - mape: 541169.5000\n",
      "Epoch 9/200\n",
      "534/534 [==============================] - 1s 992us/step - loss: 0.0215 - mape: 605069.6250\n",
      "Epoch 10/200\n",
      "534/534 [==============================] - 1s 1ms/step - loss: 0.0210 - mape: 426725.0625\n",
      "Epoch 11/200\n",
      "534/534 [==============================] - 1s 1ms/step - loss: 0.0178 - mape: 733014.6250\n",
      "Epoch 12/200\n",
      "534/534 [==============================] - 1s 1ms/step - loss: 0.0183 - mape: 397557.8438\n",
      "Epoch 13/200\n",
      "534/534 [==============================] - 1s 1ms/step - loss: 0.0168 - mape: 293047.4688\n",
      "Epoch 14/200\n",
      "534/534 [==============================] - 1s 988us/step - loss: 0.0162 - mape: 341639.0312\n",
      "Epoch 15/200\n",
      "534/534 [==============================] - 1s 987us/step - loss: 0.0162 - mape: 398049.3750\n",
      "Epoch 16/200\n",
      "534/534 [==============================] - 1s 1ms/step - loss: 0.0142 - mape: 295117.8438\n",
      "Epoch 17/200\n",
      "534/534 [==============================] - 1s 1ms/step - loss: 0.0155 - mape: 390176.8750\n",
      "Epoch 18/200\n",
      "534/534 [==============================] - 1s 1ms/step - loss: 0.0149 - mape: 333135.1875\n",
      "Epoch 19/200\n",
      "534/534 [==============================] - 1s 1ms/step - loss: 0.0138 - mape: 388191.2500\n",
      "Epoch 20/200\n",
      "534/534 [==============================] - 1s 1ms/step - loss: 0.0129 - mape: 375378.7500\n",
      "Epoch 21/200\n",
      "534/534 [==============================] - 1s 1ms/step - loss: 0.0124 - mape: 264765.2812\n",
      "Epoch 22/200\n",
      "534/534 [==============================] - 1s 1ms/step - loss: 0.0121 - mape: 300977.6875\n",
      "Epoch 23/200\n",
      "534/534 [==============================] - 1s 1ms/step - loss: 0.0109 - mape: 418495.4062\n",
      "Epoch 24/200\n",
      "534/534 [==============================] - 1s 1ms/step - loss: 0.0113 - mape: 328305.0625\n",
      "Epoch 25/200\n",
      "534/534 [==============================] - 1s 1ms/step - loss: 0.0118 - mape: 295736.2812\n",
      "Epoch 26/200\n",
      "534/534 [==============================] - 1s 1ms/step - loss: 0.0104 - mape: 306803.4062\n",
      "Epoch 27/200\n",
      "534/534 [==============================] - 1s 1ms/step - loss: 0.0105 - mape: 465472.6562\n",
      "Epoch 28/200\n",
      "534/534 [==============================] - 1s 1ms/step - loss: 0.0109 - mape: 535618.9375\n",
      "Epoch 29/200\n",
      "534/534 [==============================] - 1s 1ms/step - loss: 0.0097 - mape: 348523.2812\n",
      "Epoch 30/200\n",
      "534/534 [==============================] - 1s 1ms/step - loss: 0.0096 - mape: 471624.0312\n",
      "Epoch 31/200\n",
      "534/534 [==============================] - 1s 1ms/step - loss: 0.0099 - mape: 346167.2188\n",
      "Epoch 32/200\n",
      "534/534 [==============================] - 1s 1ms/step - loss: 0.0095 - mape: 327416.1562\n",
      "Epoch 33/200\n",
      "534/534 [==============================] - 1s 1ms/step - loss: 0.0091 - mape: 279082.5000\n",
      "Epoch 34/200\n",
      "534/534 [==============================] - 1s 1ms/step - loss: 0.0096 - mape: 471170.6250\n",
      "Epoch 35/200\n",
      "534/534 [==============================] - 1s 1ms/step - loss: 0.0091 - mape: 397075.3125\n",
      "Epoch 36/200\n",
      "534/534 [==============================] - 1s 1ms/step - loss: 0.0096 - mape: 332572.2188\n",
      "Epoch 37/200\n",
      "534/534 [==============================] - 1s 1ms/step - loss: 0.0085 - mape: 238855.0000\n",
      "Epoch 38/200\n",
      "534/534 [==============================] - 1s 1ms/step - loss: 0.0099 - mape: 226782.1094\n",
      "Epoch 39/200\n",
      "534/534 [==============================] - 1s 1ms/step - loss: 0.0094 - mape: 371328.8750\n",
      "Epoch 40/200\n",
      "534/534 [==============================] - 1s 1ms/step - loss: 0.0090 - mape: 241362.0938\n",
      "Epoch 41/200\n",
      "534/534 [==============================] - 1s 1ms/step - loss: 0.0092 - mape: 240310.2812\n",
      "Epoch 42/200\n",
      "534/534 [==============================] - 1s 1ms/step - loss: 0.0088 - mape: 232523.4531\n",
      "Epoch 00042: early stopping\n"
     ]
    }
   ],
   "source": [
    "from keras.models import Sequential\n",
    "from keras.layers import Dense\n",
    "\n",
    "from keras.layers.core import Dense, Activation, Dropout\n",
    "from keras.layers.recurrent import LSTM\n",
    "import keras.backend as K \n",
    "from keras.callbacks import EarlyStopping\n",
    "#import lstm, time\n",
    "\n",
    "model = Sequential()\n",
    "\n",
    "#model.add(Dense(50, activation='sigmoid', input_shape=(1,)))\n",
    "#model.add(LSTM(30, activation='sigmoid', input_shape=(None,1)))\n",
    "\n",
    "model.add(LSTM(100, activation='relu', return_sequences=True, input_shape=(None,1))) #rectified linear unit\n",
    "model.add(Dropout(0.2))\n",
    "model.add(LSTM(100, return_sequences=False))\n",
    "model.add(Dropout(0.2))\n",
    "model.add(Dense(1))\n",
    "model.add(Activation('linear'))\n",
    "\n",
    "model.summary()\n",
    "\n",
    "model.compile(optimizer='rmsprop', loss='mse', metrics=['mape']) \n",
    "#optimizer = 'adgrad', 'adam', 'sgd', 'rmsprop'\n",
    "#sgd - stochastic gradient descent\n",
    "#mse - mean square error\n",
    "#mape - mean absolute percentage error\n",
    "\n",
    "#history = model.fit(x_train, y_train, batch_size=10, epochs=200, validation_data=(x_valid, y_valid))\n",
    "\n",
    "early_stop = EarlyStopping(monitor='loss', patience=5, verbose=1)\n",
    "#checkpoint = ModelCheckpoint(filename, monitor='loss', verbose=0, save_best_only=True, mode='auto')\n",
    "\n",
    "\n",
    "history = model.fit(X_train_t, y_train, epochs=200, batch_size=10, verbose=1, callbacks=[early_stop])\n",
    "\n"
   ]
  },
  {
   "cell_type": "code",
   "execution_count": null,
   "metadata": {},
   "outputs": [],
   "source": []
  },
  {
   "cell_type": "code",
   "execution_count": 67,
   "metadata": {},
   "outputs": [
    {
     "data": {
      "image/png": "[encoded data removed]",
      "text/plain": [
       "<Figure size 432x288 with 1 Axes>"
      ]
     },
     "metadata": {
      "needs_background": "light"
     },
     "output_type": "display_data"
    }
   ],
   "source": [
    "for name, value in history.history.items():\n",
    "    plt.plot(value, label=name)\n",
    "plt.legend()\n",
    "plt.show()"
   ]
  },
  {
   "cell_type": "code",
   "execution_count": 79,
   "metadata": {},
   "outputs": [
    {
     "name": "stdout",
     "output_type": "stream",
     "text": [
      "\r",
      "20/20 [==============================] - 1s 25ms/step\n"
     ]
    }
   ],
   "source": [
    "## evaluate model\n",
    "\n",
    "#results = model.evaluate(x_test, y_test)\n",
    "\n",
    "results = model.evaluate(X_test_t, y_test)\n",
    "#print('Loss: {:.6f} - MAPE: {:.6f}'.format(*results))"
   ]
  },
  {
   "cell_type": "markdown",
   "metadata": {},
   "source": [
    "trainScore = model.evaluate(x_train, y_train, verbose=0)\n",
    "model.reset_states()\n",
    "print('Train Score: ', trainScore)\n",
    "valScore = model.evaluate(x_test, y_test, verbose=0)\n",
    "model.reset_states()\n",
    "print('Validataion Score: ', valScore)\n",
    "testScore = model.evaluate(x_test, y_test, verbose=0)\n",
    "model.reset_states()\n",
    "print('Test Score: ', testScore)"
   ]
  },
  {
   "cell_type": "code",
   "execution_count": 80,
   "metadata": {},
   "outputs": [
    {
     "name": "stdout",
     "output_type": "stream",
     "text": [
      "Train Score:  [0.0053628435906036736, 154749.625]\n",
      "Validataion Score:  [0.06167174503207207, 26.094371795654297]\n",
      "Test Score:  [0.06167174503207207, 26.094371795654297]\n"
     ]
    }
   ],
   "source": [
    "trainScore = model.evaluate(X_train_t, y_train, verbose=0)\n",
    "model.reset_states()\n",
    "print('Train Score: ', trainScore)\n",
    "valScore = model.evaluate(X_test_t, y_test, verbose=0)\n",
    "model.reset_states()\n",
    "print('Validataion Score: ', valScore)\n",
    "testScore = model.evaluate(X_test_t, y_test, verbose=0)\n",
    "model.reset_states()\n",
    "print('Test Score: ', testScore)"
   ]
  },
  {
   "cell_type": "code",
   "execution_count": 81,
   "metadata": {},
   "outputs": [
    {
     "data": {
      "image/png": "[encoded data removed]",
      "text/plain": [
       "<Figure size 720x360 with 1 Axes>"
      ]
     },
     "metadata": {
      "needs_background": "light"
     },
     "output_type": "display_data"
    }
   ],
   "source": [
    "test_pred = model.predict(X_test_t)\n",
    "train_pred = model.predict(X_train_t)\n",
    "#train_pred = np.squeeze(train_pred)\n",
    "\n",
    "plt.figure(figsize=(10, 5))\n",
    "plt.plot(x_train, y_train, '.y', x_test, y_test, '.r',x_train, train_pred, '.b', x_test, test_pred, '.b')\n",
    "plt.show()"
   ]
  },
  {
   "cell_type": "code",
   "execution_count": 82,
   "metadata": {},
   "outputs": [
    {
     "data": {
      "text/plain": [
       "[<matplotlib.lines.Line2D at 0x7fbb33b66610>]"
      ]
     },
     "execution_count": 82,
     "metadata": {},
     "output_type": "execute_result"
    },
    {
     "data": {
      "image/png": "[encoded data removed]",
      "text/plain": [
       "<Figure size 432x288 with 1 Axes>"
      ]
     },
     "metadata": {
      "needs_background": "light"
     },
     "output_type": "display_data"
    }
   ],
   "source": [
    "plt.figure()\n",
    "plt.plot(test_pred)"
   ]
  },
  {
   "cell_type": "markdown",
   "metadata": {
    "scrolled": true
   },
   "source": [
    "for pred, true in zip(test_pred, y_test):\n",
    "    print('Pred: {:.6f} - True: {:.6f}'.format(pred,true))"
   ]
  },
  {
   "cell_type": "code",
   "execution_count": null,
   "metadata": {},
   "outputs": [],
   "source": []
  },
  {
   "cell_type": "markdown",
   "metadata": {},
   "source": [
    "Save model"
   ]
  },
  {
   "cell_type": "code",
   "execution_count": 71,
   "metadata": {},
   "outputs": [],
   "source": [
    "model_path = 'model.lstm_drop'\n",
    "model.save(model_path)\n",
    "\n",
    "from keras.models import load_model\n",
    "\n",
    "loaded_model = load_model(model_path)"
   ]
  },
  {
   "cell_type": "code",
   "execution_count": 72,
   "metadata": {
    "scrolled": true
   },
   "outputs": [
    {
     "name": "stdout",
     "output_type": "stream",
     "text": [
      "Model: \"sequential_15\"\n",
      "_________________________________________________________________\n",
      "Layer (type)                 Output Shape              Param #   \n",
      "=================================================================\n",
      "lstm_21 (LSTM)               (None, None, 100)         40800     \n",
      "_________________________________________________________________\n",
      "dropout_8 (Dropout)          (None, None, 100)         0         \n",
      "_________________________________________________________________\n",
      "lstm_22 (LSTM)               (None, 100)               80400     \n",
      "_________________________________________________________________\n",
      "dropout_9 (Dropout)          (None, 100)               0         \n",
      "_________________________________________________________________\n",
      "dense_13 (Dense)             (None, 1)                 101       \n",
      "_________________________________________________________________\n",
      "activation_2 (Activation)    (None, 1)                 0         \n",
      "=================================================================\n",
      "Total params: 121,301\n",
      "Trainable params: 121,301\n",
      "Non-trainable params: 0\n",
      "_________________________________________________________________\n"
     ]
    }
   ],
   "source": [
    "loaded_model.summary()"
   ]
  },
  {
   "cell_type": "code",
   "execution_count": null,
   "metadata": {},
   "outputs": [],
   "source": []
  }
 ],
 "metadata": {
  "kernelspec": {
   "display_name": "Python 3",
   "language": "python",
   "name": "python3"
  },
  "language_info": {
   "codemirror_mode": {
    "name": "ipython",
    "version": 3
   },
   "file_extension": ".py",
   "mimetype": "text/x-python",
   "name": "python",
   "nbconvert_exporter": "python",
   "pygments_lexer": "ipython3",
   "version": "3.7.7"
  }
 },
 "nbformat": 4,
 "nbformat_minor": 4
}
