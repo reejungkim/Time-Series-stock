{
 "cells": [
  {
   "cell_type": "code",
   "execution_count": 1,
   "metadata": {},
   "outputs": [],
   "source": [
    "import pandas as pd\n",
    "import numpy as np\n",
    "import timeit\n",
    "import datetime as dt\n",
    "import matplotlib.pyplot as plt\n",
    "from matplotlib.backends.backend_pdf import PdfPages\n",
    "#import plotly.graph_objs as go\n",
    "%matplotlib inline"
   ]
  },
  {
   "cell_type": "code",
   "execution_count": 2,
   "metadata": {},
   "outputs": [
    {
     "name": "stderr",
     "output_type": "stream",
     "text": [
      "/Users/reejungkim/opt/anaconda3/envs/myenv/lib/python3.7/site-packages/pandas_datareader/compat/__init__.py:7: FutureWarning: pandas.util.testing is deprecated. Use the functions in the public API at pandas.testing instead.\n",
      "  from pandas.util.testing import assert_frame_equal\n"
     ]
    }
   ],
   "source": [
    "from pandas_datareader import data as pdr"
   ]
  },
  {
   "cell_type": "code",
   "execution_count": 3,
   "metadata": {},
   "outputs": [],
   "source": [
    "date_end = dt.datetime.today()\n",
    "date_start = date_end - dt.timedelta(1000)"
   ]
  },
  {
   "cell_type": "code",
   "execution_count": 4,
   "metadata": {},
   "outputs": [
    {
     "data": {
      "text/plain": [
       "(datetime.datetime(2020, 6, 25, 23, 58, 7, 448290),\n",
       " datetime.datetime(2017, 9, 29, 23, 58, 7, 448290))"
      ]
     },
     "execution_count": 4,
     "metadata": {},
     "output_type": "execute_result"
    }
   ],
   "source": [
    "date_end, date_start"
   ]
  },
  {
   "cell_type": "code",
   "execution_count": 5,
   "metadata": {},
   "outputs": [],
   "source": [
    "df = pdr.DataReader(\"AAPL\", 'yahoo', date_start, date_end).reset_index()"
   ]
  },
  {
   "cell_type": "code",
   "execution_count": 6,
   "metadata": {
    "scrolled": true
   },
   "outputs": [],
   "source": [
    "df = df.loc[df['Date'].notnull()]"
   ]
  },
  {
   "cell_type": "code",
   "execution_count": 7,
   "metadata": {},
   "outputs": [
    {
     "data": {
      "text/html": [
       "<div>\n",
       "<style scoped>\n",
       "    .dataframe tbody tr th:only-of-type {\n",
       "        vertical-align: middle;\n",
       "    }\n",
       "\n",
       "    .dataframe tbody tr th {\n",
       "        vertical-align: top;\n",
       "    }\n",
       "\n",
       "    .dataframe thead th {\n",
       "        text-align: right;\n",
       "    }\n",
       "</style>\n",
       "<table border=\"1\" class=\"dataframe\">\n",
       "  <thead>\n",
       "    <tr style=\"text-align: right;\">\n",
       "      <th></th>\n",
       "      <th>Date</th>\n",
       "      <th>High</th>\n",
       "      <th>Low</th>\n",
       "      <th>Open</th>\n",
       "      <th>Close</th>\n",
       "      <th>Volume</th>\n",
       "      <th>Adj Close</th>\n",
       "    </tr>\n",
       "  </thead>\n",
       "  <tbody>\n",
       "    <tr>\n",
       "      <th>0</th>\n",
       "      <td>2017-10-02</td>\n",
       "      <td>154.449997</td>\n",
       "      <td>152.720001</td>\n",
       "      <td>154.259995</td>\n",
       "      <td>153.809998</td>\n",
       "      <td>18698800.0</td>\n",
       "      <td>148.004257</td>\n",
       "    </tr>\n",
       "    <tr>\n",
       "      <th>1</th>\n",
       "      <td>2017-10-03</td>\n",
       "      <td>155.089996</td>\n",
       "      <td>153.910004</td>\n",
       "      <td>154.009995</td>\n",
       "      <td>154.479996</td>\n",
       "      <td>16230300.0</td>\n",
       "      <td>148.648956</td>\n",
       "    </tr>\n",
       "    <tr>\n",
       "      <th>2</th>\n",
       "      <td>2017-10-04</td>\n",
       "      <td>153.860001</td>\n",
       "      <td>152.460007</td>\n",
       "      <td>153.630005</td>\n",
       "      <td>153.479996</td>\n",
       "      <td>20163800.0</td>\n",
       "      <td>147.686707</td>\n",
       "    </tr>\n",
       "    <tr>\n",
       "      <th>3</th>\n",
       "      <td>2017-10-05</td>\n",
       "      <td>155.440002</td>\n",
       "      <td>154.050003</td>\n",
       "      <td>154.179993</td>\n",
       "      <td>155.389999</td>\n",
       "      <td>21283800.0</td>\n",
       "      <td>149.524597</td>\n",
       "    </tr>\n",
       "    <tr>\n",
       "      <th>4</th>\n",
       "      <td>2017-10-06</td>\n",
       "      <td>155.490005</td>\n",
       "      <td>154.559998</td>\n",
       "      <td>154.970001</td>\n",
       "      <td>155.300003</td>\n",
       "      <td>17407600.0</td>\n",
       "      <td>149.437988</td>\n",
       "    </tr>\n",
       "    <tr>\n",
       "      <th>...</th>\n",
       "      <td>...</td>\n",
       "      <td>...</td>\n",
       "      <td>...</td>\n",
       "      <td>...</td>\n",
       "      <td>...</td>\n",
       "      <td>...</td>\n",
       "      <td>...</td>\n",
       "    </tr>\n",
       "    <tr>\n",
       "      <th>683</th>\n",
       "      <td>2020-06-19</td>\n",
       "      <td>356.559998</td>\n",
       "      <td>345.149994</td>\n",
       "      <td>354.640015</td>\n",
       "      <td>349.720001</td>\n",
       "      <td>66119000.0</td>\n",
       "      <td>349.720001</td>\n",
       "    </tr>\n",
       "    <tr>\n",
       "      <th>684</th>\n",
       "      <td>2020-06-22</td>\n",
       "      <td>359.459991</td>\n",
       "      <td>351.149994</td>\n",
       "      <td>351.339996</td>\n",
       "      <td>358.869995</td>\n",
       "      <td>33861300.0</td>\n",
       "      <td>358.869995</td>\n",
       "    </tr>\n",
       "    <tr>\n",
       "      <th>685</th>\n",
       "      <td>2020-06-23</td>\n",
       "      <td>372.380005</td>\n",
       "      <td>362.269989</td>\n",
       "      <td>364.000000</td>\n",
       "      <td>366.529999</td>\n",
       "      <td>53038900.0</td>\n",
       "      <td>366.529999</td>\n",
       "    </tr>\n",
       "    <tr>\n",
       "      <th>686</th>\n",
       "      <td>2020-06-24</td>\n",
       "      <td>368.790009</td>\n",
       "      <td>358.519989</td>\n",
       "      <td>365.000000</td>\n",
       "      <td>360.059998</td>\n",
       "      <td>48081100.0</td>\n",
       "      <td>360.059998</td>\n",
       "    </tr>\n",
       "    <tr>\n",
       "      <th>687</th>\n",
       "      <td>2020-06-25</td>\n",
       "      <td>365.000000</td>\n",
       "      <td>357.570007</td>\n",
       "      <td>360.700012</td>\n",
       "      <td>364.839996</td>\n",
       "      <td>33707769.0</td>\n",
       "      <td>364.839996</td>\n",
       "    </tr>\n",
       "  </tbody>\n",
       "</table>\n",
       "<p>688 rows × 7 columns</p>\n",
       "</div>"
      ],
      "text/plain": [
       "          Date        High         Low        Open       Close      Volume  \\\n",
       "0   2017-10-02  154.449997  152.720001  154.259995  153.809998  18698800.0   \n",
       "1   2017-10-03  155.089996  153.910004  154.009995  154.479996  16230300.0   \n",
       "2   2017-10-04  153.860001  152.460007  153.630005  153.479996  20163800.0   \n",
       "3   2017-10-05  155.440002  154.050003  154.179993  155.389999  21283800.0   \n",
       "4   2017-10-06  155.490005  154.559998  154.970001  155.300003  17407600.0   \n",
       "..         ...         ...         ...         ...         ...         ...   \n",
       "683 2020-06-19  356.559998  345.149994  354.640015  349.720001  66119000.0   \n",
       "684 2020-06-22  359.459991  351.149994  351.339996  358.869995  33861300.0   \n",
       "685 2020-06-23  372.380005  362.269989  364.000000  366.529999  53038900.0   \n",
       "686 2020-06-24  368.790009  358.519989  365.000000  360.059998  48081100.0   \n",
       "687 2020-06-25  365.000000  357.570007  360.700012  364.839996  33707769.0   \n",
       "\n",
       "      Adj Close  \n",
       "0    148.004257  \n",
       "1    148.648956  \n",
       "2    147.686707  \n",
       "3    149.524597  \n",
       "4    149.437988  \n",
       "..          ...  \n",
       "683  349.720001  \n",
       "684  358.869995  \n",
       "685  366.529999  \n",
       "686  360.059998  \n",
       "687  364.839996  \n",
       "\n",
       "[688 rows x 7 columns]"
      ]
     },
     "execution_count": 7,
     "metadata": {},
     "output_type": "execute_result"
    }
   ],
   "source": [
    "df"
   ]
  },
  {
   "cell_type": "code",
   "execution_count": 8,
   "metadata": {},
   "outputs": [
    {
     "data": {
      "image/png": "[encoded data removed]",
      "text/plain": [
       "<Figure size 360x360 with 1 Axes>"
      ]
     },
     "metadata": {
      "needs_background": "light"
     },
     "output_type": "display_data"
    }
   ],
   "source": [
    "import matplotlib.pyplot as plt\n",
    "import seaborn as sns\n",
    "\n",
    "sns.relplot(x='Date', y='Close', kind='line', data=df).fig.autofmt_xdate()"
   ]
  },
  {
   "cell_type": "markdown",
   "metadata": {},
   "source": [
    "# preprocessing"
   ]
  },
  {
   "cell_type": "code",
   "execution_count": 9,
   "metadata": {},
   "outputs": [],
   "source": [
    "from sklearn import preprocessing\n",
    "from sklearn.preprocessing import MinMaxScaler\n",
    "\n",
    "scaler = MinMaxScaler()\n",
    "le = preprocessing.LabelEncoder()"
   ]
  },
  {
   "cell_type": "code",
   "execution_count": 10,
   "metadata": {
    "scrolled": true
   },
   "outputs": [
    {
     "data": {
      "text/plain": [
       "Index(['Date', 'High', 'Low', 'Open', 'Close', 'Volume', 'Adj Close'], dtype='object')"
      ]
     },
     "execution_count": 10,
     "metadata": {},
     "output_type": "execute_result"
    }
   ],
   "source": [
    "df.columns"
   ]
  },
  {
   "cell_type": "code",
   "execution_count": 11,
   "metadata": {},
   "outputs": [],
   "source": [
    "df['Date encoded'] = le.fit_transform(df['Date'])"
   ]
  },
  {
   "cell_type": "code",
   "execution_count": 12,
   "metadata": {},
   "outputs": [
    {
     "data": {
      "text/plain": [
       "(688, 8)"
      ]
     },
     "execution_count": 12,
     "metadata": {},
     "output_type": "execute_result"
    }
   ],
   "source": [
    "df.shape"
   ]
  },
  {
   "cell_type": "code",
   "execution_count": 13,
   "metadata": {},
   "outputs": [
    {
     "data": {
      "text/plain": [
       "Index(['Date', 'High', 'Low', 'Open', 'Close', 'Volume', 'Adj Close',\n",
       "       'Date encoded'],\n",
       "      dtype='object')"
      ]
     },
     "execution_count": 13,
     "metadata": {},
     "output_type": "execute_result"
    }
   ],
   "source": [
    "df.columns"
   ]
  },
  {
   "cell_type": "code",
   "execution_count": 14,
   "metadata": {},
   "outputs": [],
   "source": [
    "scaled_Close = scaler.fit_transform(df[['Close']])"
   ]
  },
  {
   "cell_type": "code",
   "execution_count": 15,
   "metadata": {},
   "outputs": [],
   "source": [
    "scaled_Close = np.squeeze(scaled_Close)"
   ]
  },
  {
   "cell_type": "code",
   "execution_count": 16,
   "metadata": {},
   "outputs": [
    {
     "data": {
      "text/plain": [
       "array([0.05179636, 0.05478289, 0.05032537, 0.05883925, 0.05843809,\n",
       "       0.06084512, 0.06111256, 0.06400999, 0.06155834, 0.06597131,\n",
       "       0.07885354, 0.08148346, 0.07831859, 0.06146917, 0.06267272,\n",
       "       0.06231611, 0.06646164, 0.06338594, 0.06784346, 0.09298387,\n",
       "       0.10934296, 0.11968437, 0.11010073, 0.11553891, 0.13510742,\n",
       "       0.14290808, 0.14540428, 0.15177857, 0.15017386, 0.14478023,\n",
       "       0.14165998, 0.12993668, 0.11986271, 0.12886692, 0.12463222,\n",
       "       0.12387445, 0.13796023, 0.14607295, 0.1461175 , 0.14219486,\n",
       "       0.13764824, 0.12164569, 0.13221006, 0.12864403, 0.12307213,\n",
       "       0.12235891, 0.11955065, 0.12093254, 0.12115536, 0.13586519,\n",
       "       0.13154139, 0.13408221, 0.13385932, 0.14165998, 0.15258089,\n",
       "       0.14420073, 0.14335386, 0.14629577, 0.14629577, 0.12650444,\n",
       "       0.12663816, 0.12877775, 0.12053131, 0.13403759, 0.13390387,\n",
       "       0.1374699 , 0.14625122, 0.14335386, 0.14326469, 0.14308635,\n",
       "       0.14749932, 0.15556742, 0.15155568, 0.16452708, 0.16524023,\n",
       "       0.16167427, 0.15516626, 0.15534453, 0.14277436, 0.12891147,\n",
       "       0.13069445, 0.11487031, 0.11045734, 0.11250776, 0.11406792,\n",
       "       0.08161718, 0.06374255, 0.0928947 , 0.07733793, 0.05776942,\n",
       "       0.06338594, 0.09146833, 0.09873404, 0.11224032, 0.13729163,\n",
       "       0.13479536, 0.13221006, 0.1287332 , 0.13510742, 0.14847998,\n",
       "       0.16394758, 0.16136221, 0.16015866, 0.14625122, 0.15164485,\n",
       "       0.15436394, 0.15369527, 0.14638494, 0.15489882, 0.16844965,\n",
       "       0.17620576, 0.1684051 , 0.1615851 , 0.16252114, 0.15971295,\n",
       "       0.14758849, 0.14732105, 0.12962469, 0.1188375 , 0.10140858,\n",
       "       0.13631097, 0.11656412, 0.10827313, 0.11406792, 0.10916462,\n",
       "       0.11678701, 0.13114023, 0.13644469, 0.11674246, 0.12418651,\n",
       "       0.13845056, 0.13483998, 0.14241775, 0.14504767, 0.14990642,\n",
       "       0.16069361, 0.15891056, 0.13644469, 0.10488544, 0.10274585,\n",
       "       0.09249354, 0.09565834, 0.09819916, 0.0897299 , 0.10283495,\n",
       "       0.11995188, 0.15324956, 0.15467593, 0.18561113, 0.19153964,\n",
       "       0.19550683, 0.20134617, 0.21329229, 0.2068289 , 0.20486758,\n",
       "       0.19724526, 0.2050013 , 0.19969691, 0.19666576, 0.20254972,\n",
       "       0.20045468, 0.20580369, 0.20486758, 0.20678435, 0.2037532 ,\n",
       "       0.20197022, 0.19916196, 0.21418385, 0.22127129, 0.2278684 ,\n",
       "       0.23085493, 0.22853706, 0.22069179, 0.21859675, 0.22327716,\n",
       "       0.21623427, 0.21668005, 0.20794328, 0.20749757, 0.19390212,\n",
       "       0.1975127 , 0.19287691, 0.19046981, 0.17821163, 0.1882856 ,\n",
       "       0.18708212, 0.19305518, 0.19131675, 0.20054378, 0.18601229,\n",
       "       0.1926094 , 0.20406526, 0.21569939, 0.21467418, 0.2036641 ,\n",
       "       0.21770526, 0.21904253, 0.21717038, 0.21957741, 0.214897  ,\n",
       "       0.22149418, 0.21953286, 0.22029063, 0.22648658, 0.23459929,\n",
       "       0.2318802 , 0.21748237, 0.21271286, 0.21440667, 0.26437549,\n",
       "       0.29063028, 0.29330482, 0.29811895, 0.28938218, 0.29000623,\n",
       "       0.29727201, 0.29125433, 0.29722739, 0.30115003, 0.30333424,\n",
       "       0.31706341, 0.33605242, 0.3266025 , 0.32473028, 0.3247749 ,\n",
       "       0.32673622, 0.32972275, 0.33765713, 0.34550234, 0.360123  ,\n",
       "       0.36926093, 0.38085051, 0.38410448, 0.37746275, 0.36065795,\n",
       "       0.3526344 , 0.33939556, 0.36400109, 0.35160919, 0.37541233,\n",
       "       0.36395647, 0.33738969, 0.3389944 , 0.33957383, 0.34697333,\n",
       "       0.33640903, 0.35036102, 0.35660159, 0.34871176, 0.36890432,\n",
       "       0.3724258 , 0.37920118, 0.38820539, 0.40064191, 0.38245522,\n",
       "       0.36596234, 0.36364448, 0.37746275, 0.33061424, 0.32210036,\n",
       "       0.35624498, 0.33507176, 0.35642325, 0.35214407, 0.3290987 ,\n",
       "       0.34376391, 0.34973697, 0.35900862, 0.32495317, 0.34594812,\n",
       "       0.3303468 , 0.31224928, 0.31697424, 0.34175804, 0.35673531,\n",
       "       0.29103144, 0.26477666, 0.27449408, 0.30204152, 0.29553358,\n",
       "       0.27761433, 0.23170187, 0.22305427, 0.19884997, 0.21939914,\n",
       "       0.22884906, 0.19465989, 0.15507709, 0.1541856 , 0.13417131,\n",
       "       0.14455734, 0.14286353, 0.1727289 , 0.16653295, 0.16220915,\n",
       "       0.1900241 , 0.15378444, 0.14500312, 0.11723279, 0.12218064,\n",
       "       0.11785684, 0.11995188, 0.12819825, 0.10381561, 0.09695106,\n",
       "       0.1064456 , 0.08335561, 0.06525809, 0.03806719, 0.02068289,\n",
       "       0.06677363, 0.06222694, 0.06258355, 0.06931445, 0.07011677,\n",
       "       0.        , 0.02705711, 0.02558612, 0.03815636, 0.0495676 ,\n",
       "       0.05175181, 0.04502091, 0.03481322, 0.04849784, 0.05683338,\n",
       "       0.06093429, 0.06521354, 0.04952305, 0.05228669, 0.04684851,\n",
       "       0.06940355, 0.06289561, 0.05567438, 0.1027904 , 0.10809486,\n",
       "       0.10845147, 0.12953552, 0.14259602, 0.14286353, 0.1281537 ,\n",
       "       0.12579122, 0.1214228 , 0.12793081, 0.12476594, 0.12752965,\n",
       "       0.12583577, 0.12810908, 0.13301238, 0.12868858, 0.13720246,\n",
       "       0.14281891, 0.14326469, 0.14567172, 0.13800478, 0.1461175 ,\n",
       "       0.15004014, 0.1486137 , 0.14411163, 0.13510742, 0.13693502,\n",
       "       0.16363552, 0.17259518, 0.17616121, 0.18516535, 0.19581882,\n",
       "       0.20428815, 0.19764642, 0.2049122 , 0.23580278, 0.21779443,\n",
       "       0.20749757, 0.19880535, 0.20629402, 0.2074084 , 0.21289113,\n",
       "       0.21864137, 0.23103327, 0.23696177, 0.23847732, 0.24431666,\n",
       "       0.25813499, 0.25546046, 0.26045286, 0.25300881, 0.2526522 ,\n",
       "       0.25425691, 0.25434608, 0.27164127, 0.27489524, 0.27788177,\n",
       "       0.29103144, 0.28960507, 0.28122491, 0.27685656, 0.27823838,\n",
       "       0.26067575, 0.30458234, 0.29847549, 0.31006507, 0.29548896,\n",
       "       0.27043772, 0.270616  , 0.26089863, 0.24511898, 0.19403584,\n",
       "       0.20714096, 0.21721493, 0.21347063, 0.2086565 , 0.18231254,\n",
       "       0.19795848, 0.18093072, 0.16702328, 0.16394758, 0.16064899,\n",
       "       0.15686014, 0.16096105, 0.14656328, 0.13867345, 0.16693411,\n",
       "       0.17986089, 0.19180708, 0.21378262, 0.22461443, 0.23455468,\n",
       "       0.23179104, 0.2316127 , 0.22532764, 0.23045377, 0.25078005,\n",
       "       0.24819468, 0.25528218, 0.25225104, 0.25135954, 0.23794243,\n",
       "       0.25679772, 0.25653028, 0.24841757, 0.26459838, 0.26985823,\n",
       "       0.27734689, 0.27654451, 0.25777838, 0.26321656, 0.27208699,\n",
       "       0.26548987, 0.27239904, 0.28091292, 0.27774805, 0.27262193,\n",
       "       0.28291879, 0.26923418, 0.28987251, 0.29709367, 0.2963359 ,\n",
       "       0.28898102, 0.29219044, 0.30083798, 0.29682623, 0.31581524,\n",
       "       0.29526608, 0.27560846, 0.22800212, 0.24431666, 0.25340997,\n",
       "       0.27297848, 0.26210218, 0.25982881, 0.29767317, 0.26994739,\n",
       "       0.26544532, 0.28666309, 0.30382457, 0.30386912, 0.31403226,\n",
       "       0.31322994, 0.26945706, 0.28661854, 0.27623251, 0.28233929,\n",
       "       0.29785144, 0.29664796, 0.28309706, 0.29865383, 0.31688507,\n",
       "       0.3167959 , 0.32085226, 0.33212978, 0.36284209, 0.36061333,\n",
       "       0.34126771, 0.34639383, 0.34995986, 0.35918696, 0.35111886,\n",
       "       0.33672102, 0.34113399, 0.33649813, 0.35143085, 0.34634928,\n",
       "       0.34157977, 0.36453597, 0.36729961, 0.34220382, 0.35049481,\n",
       "       0.3780868 , 0.37830969, 0.36645267, 0.37817597, 0.39181597,\n",
       "       0.41909604, 0.41758043, 0.41512885, 0.41089415, 0.41495051,\n",
       "       0.41998753, 0.43826332, 0.43581174, 0.45016489, 0.45194794,\n",
       "       0.4653205 , 0.47633058, 0.45065522, 0.4505215 , 0.47503786,\n",
       "       0.50650801, 0.51399661, 0.51234735, 0.51283761, 0.52259959,\n",
       "       0.52576453, 0.53494701, 0.53387711, 0.54506553, 0.53690833,\n",
       "       0.55081577, 0.55678883, 0.55317825, 0.53935991, 0.53410007,\n",
       "       0.53307479, 0.55353479, 0.54426321, 0.56008735, 0.55745743,\n",
       "       0.54368371, 0.52268883, 0.53289645, 0.55001331, 0.57288041,\n",
       "       0.55598651, 0.56294023, 0.57314785, 0.57622355, 0.59267181,\n",
       "       0.61366669, 0.61611841, 0.61313181, 0.61437991, 0.61179461,\n",
       "       0.63212089, 0.63332437, 0.65846485, 0.65797445, 0.66564139,\n",
       "       0.67513593, 0.70500137, 0.69198535, 0.70254965, 0.69626466,\n",
       "       0.71766071, 0.74636714, 0.74948733, 0.77904071, 0.75996253,\n",
       "       0.75398947, 0.77137377, 0.7869306 , 0.77730234, 0.78233936,\n",
       "       0.78915936, 0.78505838, 0.74333606, 0.78229474, 0.81193722,\n",
       "       0.80984218, 0.74583226, 0.74204334, 0.78746548, 0.79905506,\n",
       "       0.81581524, 0.79272532, 0.79950071, 0.79085311, 0.8246858 ,\n",
       "       0.8142997 , 0.81465638, 0.78813408, 0.8087278 , 0.79392881,\n",
       "       0.76161179, 0.69532849, 0.65030751, 0.67067841, 0.58540603,\n",
       "       0.58469281, 0.69813675, 0.65583493, 0.71565477, 0.67188202,\n",
       "       0.65454221, 0.55264337, 0.63809395, 0.59391991, 0.47267538,\n",
       "       0.60524205, 0.44584116, 0.49331372, 0.46572166, 0.45729695,\n",
       "       0.38802712, 0.36631895, 0.46665777, 0.46059554, 0.51818669,\n",
       "       0.47049124, 0.50200587, 0.49968794, 0.44004637, 0.45796555,\n",
       "       0.44227513, 0.53615049, 0.52259959, 0.55219759, 0.56075595,\n",
       "       0.58420255, 0.64571627, 0.63403759, 0.64411163, 0.62677181,\n",
       "       0.60060619, 0.56244983, 0.59690651, 0.59213693, 0.62752965,\n",
       "       0.62842121, 0.60796107, 0.64874749, 0.67580453, 0.65472055,\n",
       "       0.67295179, 0.69256485, 0.70624947, 0.72011229, 0.7485959 ,\n",
       "       0.77034862, 0.75430152, 0.73754121, 0.74596598, 0.73780865,\n",
       "       0.77012567, 0.76201308, 0.78915936, 0.77855044, 0.78764382,\n",
       "       0.77801556, 0.78416683, 0.78479094, 0.78340912, 0.80083804,\n",
       "       0.8074797 , 0.81541408, 0.80293308, 0.84385308, 0.85258978,\n",
       "       0.89952746, 0.93897654, 0.86346614, 0.87639292, 0.89506994,\n",
       "       0.93558878, 0.93340464, 0.93402876, 0.9250691 , 0.96585538,\n",
       "       1.        , 0.97115984, 0.99246678])"
      ]
     },
     "execution_count": 16,
     "metadata": {},
     "output_type": "execute_result"
    }
   ],
   "source": [
    "scaled_Close"
   ]
  },
  {
   "cell_type": "code",
   "execution_count": 17,
   "metadata": {
    "scrolled": true
   },
   "outputs": [
    {
     "data": {
      "text/plain": [
       "array([0, 1, 2, 3, 4, 5, 6, 7, 8, 9, 10, 11, 12, 13, 14, 15, 16, 17, 18,\n",
       "       19, 20, 21, 22, 23, 24, 25, 26, 27, 28, 29, 30, 31, 32, 33, 34, 35,\n",
       "       36, 37, 38, 39, 40, 41, 42, 43, 44, 45, 46, 47, 48, 49, 50, 51, 52,\n",
       "       53, 54, 55, 56, 57, 58, 59, 60, 61, 62, 63, 64, 65, 66, 67, 68, 69,\n",
       "       70, 71, 72, 73, 74, 75, 76, 77, 78, 79, 80, 81, 82, 83, 84, 85, 86,\n",
       "       87, 88, 89, 90, 91, 92, 93, 94, 95, 96, 97, 98, 99, 100, 101, 102,\n",
       "       103, 104, 105, 106, 107, 108, 109, 110, 111, 112, 113, 114, 115,\n",
       "       116, 117, 118, 119, 120, 121, 122, 123, 124, 125, 126, 127, 128,\n",
       "       129, 130, 131, 132, 133, 134, 135, 136, 137, 138, 139, 140, 141,\n",
       "       142, 143, 144, 145, 146, 147, 148, 149, 150, 151, 152, 153, 154,\n",
       "       155, 156, 157, 158, 159, 160, 161, 162, 163, 164, 165, 166, 167,\n",
       "       168, 169, 170, 171, 172, 173, 174, 175, 176, 177, 178, 179, 180,\n",
       "       181, 182, 183, 184, 185, 186, 187, 188, 189, 190, 191, 192, 193,\n",
       "       194, 195, 196, 197, 198, 199, 200, 201, 202, 203, 204, 205, 206,\n",
       "       207, 208, 209, 210, 211, 212, 213, 214, 215, 216, 217, 218, 219,\n",
       "       220, 221, 222, 223, 224, 225, 226, 227, 228, 229, 230, 231, 232,\n",
       "       233, 234, 235, 236, 237, 238, 239, 240, 241, 242, 243, 244, 245,\n",
       "       246, 247, 248, 249, 250, 251, 252, 253, 254, 255, 256, 257, 258,\n",
       "       259, 260, 261, 262, 263, 264, 265, 266, 267, 268, 269, 270, 271,\n",
       "       272, 273, 274, 275, 276, 277, 278, 279, 280, 281, 282, 283, 284,\n",
       "       285, 286, 287, 288, 289, 290, 291, 292, 293, 294, 295, 296, 297,\n",
       "       298, 299, 300, 301, 302, 303, 304, 305, 306, 307, 308, 309, 310,\n",
       "       311, 312, 313, 314, 315, 316, 317, 318, 319, 320, 321, 322, 323,\n",
       "       324, 325, 326, 327, 328, 329, 330, 331, 332, 333, 334, 335, 336,\n",
       "       337, 338, 339, 340, 341, 342, 343, 344, 345, 346, 347, 348, 349,\n",
       "       350, 351, 352, 353, 354, 355, 356, 357, 358, 359, 360, 361, 362,\n",
       "       363, 364, 365, 366, 367, 368, 369, 370, 371, 372, 373, 374, 375,\n",
       "       376, 377, 378, 379, 380, 381, 382, 383, 384, 385, 386, 387, 388,\n",
       "       389, 390, 391, 392, 393, 394, 395, 396, 397, 398, 399, 400, 401,\n",
       "       402, 403, 404, 405, 406, 407, 408, 409, 410, 411, 412, 413, 414,\n",
       "       415, 416, 417, 418, 419, 420, 421, 422, 423, 424, 425, 426, 427,\n",
       "       428, 429, 430, 431, 432, 433, 434, 435, 436, 437, 438, 439, 440,\n",
       "       441, 442, 443, 444, 445, 446, 447, 448, 449, 450, 451, 452, 453,\n",
       "       454, 455, 456, 457, 458, 459, 460, 461, 462, 463, 464, 465, 466,\n",
       "       467, 468, 469, 470, 471, 472, 473, 474, 475, 476, 477, 478, 479,\n",
       "       480, 481, 482, 483, 484, 485, 486, 487, 488, 489, 490, 491, 492,\n",
       "       493, 494, 495, 496, 497, 498, 499, 500, 501, 502, 503, 504, 505,\n",
       "       506, 507, 508, 509, 510, 511, 512, 513, 514, 515, 516, 517, 518,\n",
       "       519, 520, 521, 522, 523, 524, 525, 526, 527, 528, 529, 530, 531,\n",
       "       532, 533, 534, 535, 536, 537, 538, 539, 540, 541, 542, 543, 544,\n",
       "       545, 546, 547, 548, 549, 550, 551, 552, 553, 554, 555, 556, 557,\n",
       "       558, 559, 560, 561, 562, 563, 564, 565, 566, 567, 568, 569, 570,\n",
       "       571, 572, 573, 574, 575, 576, 577, 578, 579, 580, 581, 582, 583,\n",
       "       584, 585, 586, 587, 588, 589, 590, 591, 592, 593, 594, 595, 596,\n",
       "       597, 598, 599], dtype=object)"
      ]
     },
     "execution_count": 17,
     "metadata": {},
     "output_type": "execute_result"
    }
   ],
   "source": [
    "df.values[:600, 7]"
   ]
  },
  {
   "cell_type": "code",
   "execution_count": 18,
   "metadata": {},
   "outputs": [
    {
     "data": {
      "text/plain": [
       "array([600, 601, 602, 603, 604, 605, 606, 607, 608, 609, 610, 611, 612,\n",
       "       613, 614, 615, 616, 617, 618, 619, 620, 621, 622, 623, 624, 625,\n",
       "       626, 627, 628, 629, 630, 631, 632, 633, 634, 635, 636, 637, 638,\n",
       "       639, 640, 641, 642, 643, 644, 645, 646, 647, 648, 649, 650, 651,\n",
       "       652, 653, 654, 655, 656, 657, 658, 659, 660, 661, 662, 663, 664,\n",
       "       665, 666, 667, 668, 669, 670, 671, 672, 673, 674, 675, 676, 677,\n",
       "       678, 679, 680, 681, 682, 683, 684, 685, 686, 687], dtype=object)"
      ]
     },
     "execution_count": 18,
     "metadata": {},
     "output_type": "execute_result"
    }
   ],
   "source": [
    "df.values[600:, 7]"
   ]
  },
  {
   "cell_type": "code",
   "execution_count": 19,
   "metadata": {},
   "outputs": [],
   "source": [
    "x_train, y_train = df.values[:600, 7], scaled_Close[:600]\n",
    "x_test, y_test = df.values[600:, 7], scaled_Close[600:]"
   ]
  },
  {
   "cell_type": "code",
   "execution_count": 20,
   "metadata": {},
   "outputs": [
    {
     "data": {
      "text/plain": [
       "((600,), (600,), (88,), (88,))"
      ]
     },
     "execution_count": 20,
     "metadata": {},
     "output_type": "execute_result"
    }
   ],
   "source": [
    "x_train.shape, y_train.shape, x_test.shape, y_test.shape"
   ]
  },
  {
   "cell_type": "code",
   "execution_count": 21,
   "metadata": {},
   "outputs": [
    {
     "data": {
      "text/plain": [
       "array([600, 601, 602, 603, 604, 605, 606, 607, 608, 609, 610, 611, 612,\n",
       "       613, 614, 615, 616, 617, 618, 619, 620, 621, 622, 623, 624, 625,\n",
       "       626, 627, 628, 629, 630, 631, 632, 633, 634, 635, 636, 637, 638,\n",
       "       639, 640, 641, 642, 643, 644, 645, 646, 647, 648, 649, 650, 651,\n",
       "       652, 653, 654, 655, 656, 657, 658, 659, 660, 661, 662, 663, 664,\n",
       "       665, 666, 667, 668, 669, 670, 671, 672, 673, 674, 675, 676, 677,\n",
       "       678, 679, 680, 681, 682, 683, 684, 685, 686, 687], dtype=object)"
      ]
     },
     "execution_count": 21,
     "metadata": {},
     "output_type": "execute_result"
    }
   ],
   "source": [
    "x_test"
   ]
  },
  {
   "cell_type": "code",
   "execution_count": 22,
   "metadata": {
    "scrolled": true
   },
   "outputs": [
    {
     "name": "stderr",
     "output_type": "stream",
     "text": [
      "Using TensorFlow backend.\n"
     ]
    },
    {
     "name": "stdout",
     "output_type": "stream",
     "text": [
      "Model: \"sequential_1\"\n",
      "_________________________________________________________________\n",
      "Layer (type)                 Output Shape              Param #   \n",
      "=================================================================\n",
      "dense_1 (Dense)              (None, 23)                46        \n",
      "_________________________________________________________________\n",
      "dense_2 (Dense)              (None, 1)                 24        \n",
      "=================================================================\n",
      "Total params: 70\n",
      "Trainable params: 70\n",
      "Non-trainable params: 0\n",
      "_________________________________________________________________\n",
      "Train on 480 samples, validate on 120 samples\n",
      "Epoch 1/50\n",
      "480/480 [==============================] - 1s 1ms/step - loss: 4.2424 - mape: 3717804.7500 - val_loss: 4.1579 - val_mape: 1058.8293\n",
      "Epoch 2/50\n",
      "480/480 [==============================] - 0s 25us/step - loss: 3.9816 - mape: 3665273.7500 - val_loss: 3.8977 - val_mape: 1022.7686\n",
      "Epoch 3/50\n",
      "480/480 [==============================] - 0s 29us/step - loss: 3.7255 - mape: 3530650.7500 - val_loss: 3.6468 - val_mape: 986.8201\n",
      "Epoch 4/50\n",
      "480/480 [==============================] - 0s 28us/step - loss: 3.4787 - mape: 3396470.5000 - val_loss: 3.4066 - val_mape: 951.2178\n",
      "Epoch 5/50\n",
      "480/480 [==============================] - 0s 30us/step - loss: 3.2434 - mape: 3237184.2500 - val_loss: 3.1771 - val_mape: 915.9899\n",
      "Epoch 6/50\n",
      "480/480 [==============================] - 0s 37us/step - loss: 3.0191 - mape: 3132061.7500 - val_loss: 2.9584 - val_mape: 881.1917\n",
      "Epoch 7/50\n",
      "480/480 [==============================] - 0s 31us/step - loss: 2.8054 - mape: 3002292.0000 - val_loss: 2.7509 - val_mape: 846.8904\n",
      "Epoch 8/50\n",
      "480/480 [==============================] - 0s 35us/step - loss: 2.6035 - mape: 2824170.2500 - val_loss: 2.5541 - val_mape: 813.0783\n",
      "Epoch 9/50\n",
      "480/480 [==============================] - 0s 33us/step - loss: 2.4107 - mape: 2749149.2500 - val_loss: 2.3678 - val_mape: 779.7975\n",
      "Epoch 10/50\n",
      "480/480 [==============================] - 0s 33us/step - loss: 2.2301 - mape: 2529004.7500 - val_loss: 2.1918 - val_mape: 747.0588\n",
      "Epoch 11/50\n",
      "480/480 [==============================] - 0s 33us/step - loss: 2.0586 - mape: 2505065.7500 - val_loss: 2.0259 - val_mape: 714.8072\n",
      "Epoch 12/50\n",
      "480/480 [==============================] - 0s 33us/step - loss: 1.8964 - mape: 2317514.5000 - val_loss: 1.8699 - val_mape: 683.0967\n",
      "Epoch 13/50\n",
      "480/480 [==============================] - 0s 33us/step - loss: 1.7445 - mape: 2248947.0000 - val_loss: 1.7224 - val_mape: 651.6602\n",
      "Epoch 14/50\n",
      "480/480 [==============================] - 0s 33us/step - loss: 1.5993 - mape: 2092960.8750 - val_loss: 1.5833 - val_mape: 620.3608\n",
      "Epoch 15/50\n",
      "480/480 [==============================] - 0s 29us/step - loss: 1.4617 - mape: 2006415.2500 - val_loss: 1.4500 - val_mape: 588.4047\n",
      "Epoch 16/50\n",
      "480/480 [==============================] - 0s 32us/step - loss: 1.3276 - mape: 1879650.1250 - val_loss: 1.3161 - val_mape: 553.5684\n",
      "Epoch 17/50\n",
      "480/480 [==============================] - 0s 35us/step - loss: 1.1864 - mape: 1836986.0000 - val_loss: 1.1501 - val_mape: 505.9532\n",
      "Epoch 18/50\n",
      "480/480 [==============================] - 0s 28us/step - loss: 0.9634 - mape: 1642878.3750 - val_loss: 0.7319 - val_mape: 388.1765\n",
      "Epoch 19/50\n",
      "480/480 [==============================] - 0s 30us/step - loss: 0.5022 - mape: 765519.0625 - val_loss: 0.2852 - val_mape: 219.3886\n",
      "Epoch 20/50\n",
      "480/480 [==============================] - 0s 30us/step - loss: 0.1904 - mape: 498166.3125 - val_loss: 0.1093 - val_mape: 93.6463\n",
      "Epoch 21/50\n",
      "480/480 [==============================] - 0s 31us/step - loss: 0.0648 - mape: 250898.3125 - val_loss: 0.0363 - val_mape: 106.8906\n",
      "Epoch 22/50\n",
      "480/480 [==============================] - 0s 28us/step - loss: 0.0439 - mape: 921517.0625 - val_loss: 0.0457 - val_mape: 125.4393\n",
      "Epoch 23/50\n",
      "480/480 [==============================] - 0s 27us/step - loss: 0.0391 - mape: 869854.4375 - val_loss: 0.0376 - val_mape: 111.0287\n",
      "Epoch 24/50\n",
      "480/480 [==============================] - 0s 26us/step - loss: 0.0334 - mape: 823085.3750 - val_loss: 0.0325 - val_mape: 100.1430\n",
      "Epoch 25/50\n",
      "480/480 [==============================] - 0s 31us/step - loss: 0.0280 - mape: 739332.6875 - val_loss: 0.0260 - val_mape: 81.1413\n",
      "Epoch 26/50\n",
      "480/480 [==============================] - 0s 26us/step - loss: 0.0247 - mape: 562305.4375 - val_loss: 0.0270 - val_mape: 61.4432\n",
      "Epoch 27/50\n",
      "480/480 [==============================] - 0s 30us/step - loss: 0.0248 - mape: 617260.2500 - val_loss: 0.0249 - val_mape: 72.3884\n",
      "Epoch 28/50\n",
      "480/480 [==============================] - 0s 32us/step - loss: 0.0236 - mape: 678446.4375 - val_loss: 0.0257 - val_mape: 79.4570\n",
      "Epoch 29/50\n",
      "480/480 [==============================] - 0s 33us/step - loss: 0.0237 - mape: 683703.0625 - val_loss: 0.0250 - val_mape: 75.2583\n",
      "Epoch 30/50\n",
      "480/480 [==============================] - 0s 31us/step - loss: 0.0231 - mape: 622597.4375 - val_loss: 0.0248 - val_mape: 68.2919\n",
      "Epoch 31/50\n",
      "480/480 [==============================] - 0s 29us/step - loss: 0.0233 - mape: 608336.0000 - val_loss: 0.0247 - val_mape: 68.2534\n",
      "Epoch 32/50\n",
      "480/480 [==============================] - 0s 30us/step - loss: 0.0230 - mape: 627255.8125 - val_loss: 0.0248 - val_mape: 73.9180\n",
      "Epoch 33/50\n",
      "480/480 [==============================] - 0s 29us/step - loss: 0.0230 - mape: 658777.6250 - val_loss: 0.0247 - val_mape: 73.1830\n",
      "Epoch 34/50\n",
      "480/480 [==============================] - 0s 29us/step - loss: 0.0229 - mape: 651961.8750 - val_loss: 0.0245 - val_mape: 68.8816\n",
      "Epoch 35/50\n",
      "480/480 [==============================] - 0s 33us/step - loss: 0.0228 - mape: 621107.5625 - val_loss: 0.0245 - val_mape: 69.3172\n",
      "Epoch 36/50\n",
      "480/480 [==============================] - 0s 34us/step - loss: 0.0227 - mape: 639049.5625 - val_loss: 0.0245 - val_mape: 71.5672\n",
      "Epoch 37/50\n",
      "480/480 [==============================] - 0s 28us/step - loss: 0.0227 - mape: 651142.6875 - val_loss: 0.0245 - val_mape: 72.3187\n",
      "Epoch 38/50\n",
      "480/480 [==============================] - 0s 31us/step - loss: 0.0227 - mape: 650310.8750 - val_loss: 0.0244 - val_mape: 68.6116\n",
      "Epoch 39/50\n",
      "480/480 [==============================] - 0s 29us/step - loss: 0.0226 - mape: 621517.6250 - val_loss: 0.0243 - val_mape: 69.2811\n",
      "Epoch 40/50\n",
      "480/480 [==============================] - 0s 29us/step - loss: 0.0225 - mape: 631642.2500 - val_loss: 0.0243 - val_mape: 70.4471\n",
      "Epoch 41/50\n",
      "480/480 [==============================] - 0s 25us/step - loss: 0.0225 - mape: 641177.1250 - val_loss: 0.0243 - val_mape: 69.8350\n",
      "Epoch 42/50\n",
      "480/480 [==============================] - 0s 28us/step - loss: 0.0224 - mape: 632090.8125 - val_loss: 0.0242 - val_mape: 68.9265\n",
      "Epoch 43/50\n",
      "480/480 [==============================] - 0s 29us/step - loss: 0.0224 - mape: 636119.1875 - val_loss: 0.0242 - val_mape: 69.4400\n",
      "Epoch 44/50\n",
      "480/480 [==============================] - 0s 29us/step - loss: 0.0224 - mape: 625237.5625 - val_loss: 0.0242 - val_mape: 67.7828\n",
      "Epoch 45/50\n",
      "480/480 [==============================] - 0s 29us/step - loss: 0.0223 - mape: 627421.6875 - val_loss: 0.0242 - val_mape: 68.4691\n",
      "Epoch 46/50\n",
      "480/480 [==============================] - 0s 30us/step - loss: 0.0223 - mape: 643285.0000 - val_loss: 0.0242 - val_mape: 70.0408\n",
      "Epoch 47/50\n",
      "480/480 [==============================] - 0s 27us/step - loss: 0.0222 - mape: 634903.3750 - val_loss: 0.0241 - val_mape: 68.0537\n",
      "Epoch 48/50\n",
      "480/480 [==============================] - 0s 28us/step - loss: 0.0222 - mape: 629232.1875 - val_loss: 0.0241 - val_mape: 66.4071\n",
      "Epoch 49/50\n",
      "480/480 [==============================] - 0s 34us/step - loss: 0.0222 - mape: 618266.3125 - val_loss: 0.0241 - val_mape: 67.3437\n",
      "Epoch 50/50\n",
      "480/480 [==============================] - 0s 35us/step - loss: 0.0221 - mape: 631989.6250 - val_loss: 0.0241 - val_mape: 69.3137\n"
     ]
    }
   ],
   "source": [
    "from keras.models import Sequential\n",
    "from keras.layers import Dense\n",
    "\n",
    "from keras.layers.core import Dense, Activation, Dropout\n",
    "from keras.layers.recurrent import LSTM\n",
    "#import lstm, time\n",
    "\n",
    "model = Sequential()\n",
    "\n",
    "model.add(Dense(23, activation='sigmoid', input_shape=(1,)))\n",
    "model.add(Dense(1, activation='linear'))\n",
    "\n",
    "model.summary()\n",
    "\n",
    "model.compile(optimizer='adam', loss='mse', metrics=['mape']) \n",
    "#sgd - stochastic gradient descent\n",
    "#mse - mean square error\n",
    "#mape - mean absolute percentage error\n",
    "\n",
    "from sklearn.model_selection import train_test_split\n",
    "\n",
    "x_train, x_valid, y_train, y_valid = train_test_split(x_train, y_train, test_size=.2)\n",
    "\n",
    "history = model.fit(x_train, y_train, batch_size=100, epochs=50, validation_data=(x_valid, y_valid))"
   ]
  },
  {
   "cell_type": "code",
   "execution_count": 23,
   "metadata": {},
   "outputs": [
    {
     "data": {
      "image/png": "[encoded data removed]",
      "text/plain": [
       "<Figure size 432x288 with 1 Axes>"
      ]
     },
     "metadata": {
      "needs_background": "light"
     },
     "output_type": "display_data"
    }
   ],
   "source": [
    "for name, value in history.history.items():\n",
    "    plt.plot(value, label=name)\n",
    "plt.legend()\n",
    "plt.show()"
   ]
  },
  {
   "cell_type": "code",
   "execution_count": 24,
   "metadata": {},
   "outputs": [
    {
     "name": "stdout",
     "output_type": "stream",
     "text": [
      "88/88 [==============================] - 0s 36us/step\n",
      "Loss: 0.121338 - MAPE: 43.028000\n"
     ]
    }
   ],
   "source": [
    "## evaluate model\n",
    "\n",
    "results = model.evaluate(x_test, y_test)\n",
    "\n",
    "print('Loss: {:.6f} - MAPE: {:.6f}'.format(*results))"
   ]
  },
  {
   "cell_type": "code",
   "execution_count": 25,
   "metadata": {},
   "outputs": [
    {
     "data": {
      "text/plain": [
       "array([0.362445  , 0.36257833, 0.36271128, 0.36284396, 0.36297616,\n",
       "       0.36310813, 0.36323962, 0.3633708 , 0.36350158, 0.36363202,\n",
       "       0.3637621 , 0.36389187, 0.3640212 , 0.36415026, 0.3642789 ,\n",
       "       0.36440718, 0.36453512, 0.36466274, 0.36479   , 0.36491686,\n",
       "       0.36504337, 0.36516955, 0.36529535, 0.36542085, 0.365546  ,\n",
       "       0.3656708 , 0.3657952 , 0.3659193 , 0.36604303, 0.36616644,\n",
       "       0.36628944, 0.3664122 , 0.36653456, 0.3666565 , 0.36677822,\n",
       "       0.36689952, 0.36702052, 0.3671411 , 0.36726153, 0.36738142,\n",
       "       0.36750105, 0.36762032, 0.3677393 , 0.3678579 , 0.36797622,\n",
       "       0.36809415, 0.36821172, 0.36832905, 0.36844602, 0.3685626 ,\n",
       "       0.36867887, 0.36879483, 0.36891046, 0.3690258 , 0.3691407 ,\n",
       "       0.36925533, 0.36936972, 0.36948365, 0.36959732, 0.3697106 ,\n",
       "       0.36982363, 0.3699364 , 0.37004867, 0.37016076, 0.37027255,\n",
       "       0.3703839 , 0.370495  , 0.37060574, 0.37071618, 0.3708263 ,\n",
       "       0.37093613, 0.37104556, 0.3711548 , 0.37126365, 0.37137213,\n",
       "       0.3714804 , 0.37158832, 0.3716959 , 0.37180325, 0.37191024,\n",
       "       0.37201688, 0.37212324, 0.3722293 , 0.37233505, 0.3724405 ,\n",
       "       0.37254563, 0.37265047, 0.37275502], dtype=float32)"
      ]
     },
     "execution_count": 25,
     "metadata": {},
     "output_type": "execute_result"
    }
   ],
   "source": [
    "test_pred = model.predict(x_test)\n",
    "test_pred = np.squeeze(test_pred)\n",
    "\n",
    "test_pred"
   ]
  },
  {
   "cell_type": "code",
   "execution_count": 26,
   "metadata": {
    "scrolled": true
   },
   "outputs": [
    {
     "name": "stdout",
     "output_type": "stream",
     "text": [
      "Pred: 0.362445 - True: 0.761612\n",
      "Pred: 0.362578 - True: 0.695328\n",
      "Pred: 0.362711 - True: 0.650308\n",
      "Pred: 0.362844 - True: 0.670678\n",
      "Pred: 0.362976 - True: 0.585406\n",
      "Pred: 0.363108 - True: 0.584693\n",
      "Pred: 0.363240 - True: 0.698137\n",
      "Pred: 0.363371 - True: 0.655835\n",
      "Pred: 0.363502 - True: 0.715655\n",
      "Pred: 0.363632 - True: 0.671882\n",
      "Pred: 0.363762 - True: 0.654542\n",
      "Pred: 0.363892 - True: 0.552643\n",
      "Pred: 0.364021 - True: 0.638094\n",
      "Pred: 0.364150 - True: 0.593920\n",
      "Pred: 0.364279 - True: 0.472675\n",
      "Pred: 0.364407 - True: 0.605242\n",
      "Pred: 0.364535 - True: 0.445841\n",
      "Pred: 0.364663 - True: 0.493314\n",
      "Pred: 0.364790 - True: 0.465722\n",
      "Pred: 0.364917 - True: 0.457297\n",
      "Pred: 0.365043 - True: 0.388027\n",
      "Pred: 0.365170 - True: 0.366319\n",
      "Pred: 0.365295 - True: 0.466658\n",
      "Pred: 0.365421 - True: 0.460596\n",
      "Pred: 0.365546 - True: 0.518187\n",
      "Pred: 0.365671 - True: 0.470491\n",
      "Pred: 0.365795 - True: 0.502006\n",
      "Pred: 0.365919 - True: 0.499688\n",
      "Pred: 0.366043 - True: 0.440046\n",
      "Pred: 0.366166 - True: 0.457966\n",
      "Pred: 0.366289 - True: 0.442275\n",
      "Pred: 0.366412 - True: 0.536150\n",
      "Pred: 0.366535 - True: 0.522600\n",
      "Pred: 0.366657 - True: 0.552198\n",
      "Pred: 0.366778 - True: 0.560756\n",
      "Pred: 0.366900 - True: 0.584203\n",
      "Pred: 0.367021 - True: 0.645716\n",
      "Pred: 0.367141 - True: 0.634038\n",
      "Pred: 0.367262 - True: 0.644112\n",
      "Pred: 0.367381 - True: 0.626772\n",
      "Pred: 0.367501 - True: 0.600606\n",
      "Pred: 0.367620 - True: 0.562450\n",
      "Pred: 0.367739 - True: 0.596907\n",
      "Pred: 0.367858 - True: 0.592137\n",
      "Pred: 0.367976 - True: 0.627530\n",
      "Pred: 0.368094 - True: 0.628421\n",
      "Pred: 0.368212 - True: 0.607961\n",
      "Pred: 0.368329 - True: 0.648747\n",
      "Pred: 0.368446 - True: 0.675805\n",
      "Pred: 0.368563 - True: 0.654721\n",
      "Pred: 0.368679 - True: 0.672952\n",
      "Pred: 0.368795 - True: 0.692565\n",
      "Pred: 0.368910 - True: 0.706249\n",
      "Pred: 0.369026 - True: 0.720112\n",
      "Pred: 0.369141 - True: 0.748596\n",
      "Pred: 0.369255 - True: 0.770349\n",
      "Pred: 0.369370 - True: 0.754302\n",
      "Pred: 0.369484 - True: 0.737541\n",
      "Pred: 0.369597 - True: 0.745966\n",
      "Pred: 0.369711 - True: 0.737809\n",
      "Pred: 0.369824 - True: 0.770126\n",
      "Pred: 0.369936 - True: 0.762013\n",
      "Pred: 0.370049 - True: 0.789159\n",
      "Pred: 0.370161 - True: 0.778550\n",
      "Pred: 0.370273 - True: 0.787644\n",
      "Pred: 0.370384 - True: 0.778016\n",
      "Pred: 0.370495 - True: 0.784167\n",
      "Pred: 0.370606 - True: 0.784791\n",
      "Pred: 0.370716 - True: 0.783409\n",
      "Pred: 0.370826 - True: 0.800838\n",
      "Pred: 0.370936 - True: 0.807480\n",
      "Pred: 0.371046 - True: 0.815414\n",
      "Pred: 0.371155 - True: 0.802933\n",
      "Pred: 0.371264 - True: 0.843853\n",
      "Pred: 0.371372 - True: 0.852590\n",
      "Pred: 0.371480 - True: 0.899527\n",
      "Pred: 0.371588 - True: 0.938977\n",
      "Pred: 0.371696 - True: 0.863466\n",
      "Pred: 0.371803 - True: 0.876393\n",
      "Pred: 0.371910 - True: 0.895070\n",
      "Pred: 0.372017 - True: 0.935589\n",
      "Pred: 0.372123 - True: 0.933405\n",
      "Pred: 0.372229 - True: 0.934029\n",
      "Pred: 0.372335 - True: 0.925069\n",
      "Pred: 0.372440 - True: 0.965855\n",
      "Pred: 0.372546 - True: 1.000000\n",
      "Pred: 0.372650 - True: 0.971160\n",
      "Pred: 0.372755 - True: 0.992467\n"
     ]
    }
   ],
   "source": [
    "for pred, true in zip(test_pred, y_test):\n",
    "    print('Pred: {:.6f} - True: {:.6f}'.format(pred,true))"
   ]
  },
  {
   "cell_type": "code",
   "execution_count": 27,
   "metadata": {},
   "outputs": [
    {
     "data": {
      "text/plain": [
       "[<matplotlib.lines.Line2D at 0x7fe75184cdd0>]"
      ]
     },
     "execution_count": 27,
     "metadata": {},
     "output_type": "execute_result"
    },
    {
     "data": {
      "image/png": "[encoded data removed]",
      "text/plain": [
       "<Figure size 432x288 with 1 Axes>"
      ]
     },
     "metadata": {
      "needs_background": "light"
     },
     "output_type": "display_data"
    }
   ],
   "source": [
    "plt.figure()\n",
    "plt.plot(test_pred)"
   ]
  },
  {
   "cell_type": "code",
   "execution_count": null,
   "metadata": {},
   "outputs": [],
   "source": []
  },
  {
   "cell_type": "code",
   "execution_count": 28,
   "metadata": {},
   "outputs": [
    {
     "data": {
      "image/png": "[encoded data removed]",
      "text/plain": [
       "<Figure size 720x360 with 1 Axes>"
      ]
     },
     "metadata": {
      "needs_background": "light"
     },
     "output_type": "display_data"
    }
   ],
   "source": [
    "train_pred = model.predict(x_train)\n",
    "train_pred = np.squeeze(train_pred)\n",
    "\n",
    "plt.figure(figsize=(10, 5))\n",
    "plt.plot(x_train, y_train, '.r', x_train, train_pred, '.b')\n",
    "plt.show()"
   ]
  },
  {
   "cell_type": "code",
   "execution_count": 29,
   "metadata": {},
   "outputs": [
    {
     "data": {
      "image/png": "[encoded data removed]",
      "text/plain": [
       "<Figure size 720x360 with 1 Axes>"
      ]
     },
     "metadata": {
      "needs_background": "light"
     },
     "output_type": "display_data"
    }
   ],
   "source": [
    "plt.figure(figsize=(10, 5))\n",
    "plt.plot(x_test, y_test, '.y', x_test, test_pred, '.b')\n",
    "plt.show()\n"
   ]
  },
  {
   "cell_type": "code",
   "execution_count": null,
   "metadata": {},
   "outputs": [],
   "source": []
  },
  {
   "cell_type": "markdown",
   "metadata": {},
   "source": [
    "Save model"
   ]
  },
  {
   "cell_type": "code",
   "execution_count": 30,
   "metadata": {},
   "outputs": [],
   "source": [
    "model_path = 'model.h5'\n",
    "model.save(model_path)\n",
    "\n",
    "from keras.models import load_model\n",
    "\n",
    "loaded_model = load_model(model_path)"
   ]
  },
  {
   "cell_type": "code",
   "execution_count": 31,
   "metadata": {
    "scrolled": true
   },
   "outputs": [
    {
     "name": "stdout",
     "output_type": "stream",
     "text": [
      "Model: \"sequential_1\"\n",
      "_________________________________________________________________\n",
      "Layer (type)                 Output Shape              Param #   \n",
      "=================================================================\n",
      "dense_1 (Dense)              (None, 23)                46        \n",
      "_________________________________________________________________\n",
      "dense_2 (Dense)              (None, 1)                 24        \n",
      "=================================================================\n",
      "Total params: 70\n",
      "Trainable params: 70\n",
      "Non-trainable params: 0\n",
      "_________________________________________________________________\n"
     ]
    }
   ],
   "source": [
    "loaded_model.summary()"
   ]
  }
 ],
 "metadata": {
  "kernelspec": {
   "display_name": "Python 3",
   "language": "python",
   "name": "python3"
  },
  "language_info": {
   "codemirror_mode": {
    "name": "ipython",
    "version": 3
   },
   "file_extension": ".py",
   "mimetype": "text/x-python",
   "name": "python",
   "nbconvert_exporter": "python",
   "pygments_lexer": "ipython3",
   "version": "3.7.7"
  }
 },
 "nbformat": 4,
 "nbformat_minor": 4
}
